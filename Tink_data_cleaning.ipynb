{
 "cells": [
  {
   "cell_type": "code",
   "execution_count": 1,
   "metadata": {},
   "outputs": [],
   "source": [
    "#Импортируем необходимые библиотеки\n",
    "import pandas as pd\n",
    "import numpy as np\n",
    "import matplotlib.pyplot as plt\n",
    "import seaborn as sns\n",
    "import re\n",
    "\n",
    "from sklearn.model_selection import train_test_split\n",
    "from sklearn.ensemble import RandomForestClassifier\n",
    "from sklearn.metrics import roc_auc_score\n",
    "from sklearn.linear_model import LogisticRegression\n",
    "from sklearn.preprocessing import MinMaxScaler\n",
    "from sklearn.preprocessing import StandardScaler\n",
    "from sklearn.utils import shuffle\n",
    "from imblearn.over_sampling import RandomOverSampler\n",
    "from imblearn.under_sampling import RandomUnderSampler\n",
    "from sklearn.metrics import precision_recall_curve\n",
    "from sklearn.metrics import roc_curve\n",
    "from sklearn.model_selection import cross_val_score\n",
    "from sklearn.model_selection import GridSearchCV\n",
    "from sklearn.tree import DecisionTreeClassifier\n",
    "from sklearn.metrics import confusion_matrix"
   ]
  },
  {
   "cell_type": "markdown",
   "metadata": {},
   "source": [
    "# Данный нотбук отражает предобработку данных. Построение моделей изложено в нотбуке \"Models on Tinkoff\""
   ]
  },
  {
   "cell_type": "code",
   "execution_count": 2,
   "metadata": {},
   "outputs": [],
   "source": [
    "cr_df = pd.read_csv(\"C:/Users/Xiaomi/Desktop/Data/credit_train.csv\", sep = ';', encoding='ANSI', decimal = ',')\n",
    "cr_df2 = pd.read_csv(\"C:/Users/Xiaomi/Desktop/Data/credit_train.csv\", sep = ';', encoding='ANSI', decimal = ',')\n",
    "df_copy = pd.read_csv(\"C:/Users/Xiaomi/Desktop/Data/credit_train.csv\", sep = ';', encoding='ANSI', decimal = ',')"
   ]
  },
  {
   "cell_type": "code",
   "execution_count": 3,
   "metadata": {},
   "outputs": [
    {
     "data": {
      "text/plain": [
       "(170746, 15)"
      ]
     },
     "execution_count": 3,
     "metadata": {},
     "output_type": "execute_result"
    }
   ],
   "source": [
    "#Посмотрим на размер датафрейма\n",
    "cr_df.shape"
   ]
  },
  {
   "cell_type": "code",
   "execution_count": 4,
   "metadata": {},
   "outputs": [
    {
     "name": "stdout",
     "output_type": "stream",
     "text": [
      "<class 'pandas.core.frame.DataFrame'>\n",
      "RangeIndex: 170746 entries, 0 to 170745\n",
      "Data columns (total 15 columns):\n",
      "client_id               170746 non-null int64\n",
      "gender                  170746 non-null object\n",
      "age                     170743 non-null float64\n",
      "marital_status          170743 non-null object\n",
      "job_position            170746 non-null object\n",
      "credit_sum              170744 non-null float64\n",
      "credit_month            170746 non-null int64\n",
      "tariff_id               170746 non-null object\n",
      "score_shk               170739 non-null float64\n",
      "education               170741 non-null object\n",
      "living_region           170554 non-null object\n",
      "monthly_income          170741 non-null float64\n",
      "credit_count            161516 non-null float64\n",
      "overdue_credit_count    161516 non-null float64\n",
      "open_account_flg        170746 non-null int64\n",
      "dtypes: float64(6), int64(3), object(6)\n",
      "memory usage: 19.5+ MB\n"
     ]
    }
   ],
   "source": [
    "#Посмотрим на небольшую сводку, которая отражает типы данных и количество наблюдений\n",
    "cr_df.info()"
   ]
  },
  {
   "cell_type": "code",
   "execution_count": 5,
   "metadata": {},
   "outputs": [
    {
     "data": {
      "text/html": [
       "<div>\n",
       "<style scoped>\n",
       "    .dataframe tbody tr th:only-of-type {\n",
       "        vertical-align: middle;\n",
       "    }\n",
       "\n",
       "    .dataframe tbody tr th {\n",
       "        vertical-align: top;\n",
       "    }\n",
       "\n",
       "    .dataframe thead th {\n",
       "        text-align: right;\n",
       "    }\n",
       "</style>\n",
       "<table border=\"1\" class=\"dataframe\">\n",
       "  <thead>\n",
       "    <tr style=\"text-align: right;\">\n",
       "      <th></th>\n",
       "      <th>Total missing values</th>\n",
       "      <th>Percent %</th>\n",
       "    </tr>\n",
       "  </thead>\n",
       "  <tbody>\n",
       "    <tr>\n",
       "      <td>overdue_credit_count</td>\n",
       "      <td>9230</td>\n",
       "      <td>0.054057</td>\n",
       "    </tr>\n",
       "    <tr>\n",
       "      <td>credit_count</td>\n",
       "      <td>9230</td>\n",
       "      <td>0.054057</td>\n",
       "    </tr>\n",
       "    <tr>\n",
       "      <td>living_region</td>\n",
       "      <td>192</td>\n",
       "      <td>0.001124</td>\n",
       "    </tr>\n",
       "    <tr>\n",
       "      <td>score_shk</td>\n",
       "      <td>7</td>\n",
       "      <td>0.000041</td>\n",
       "    </tr>\n",
       "    <tr>\n",
       "      <td>monthly_income</td>\n",
       "      <td>5</td>\n",
       "      <td>0.000029</td>\n",
       "    </tr>\n",
       "    <tr>\n",
       "      <td>education</td>\n",
       "      <td>5</td>\n",
       "      <td>0.000029</td>\n",
       "    </tr>\n",
       "    <tr>\n",
       "      <td>marital_status</td>\n",
       "      <td>3</td>\n",
       "      <td>0.000018</td>\n",
       "    </tr>\n",
       "    <tr>\n",
       "      <td>age</td>\n",
       "      <td>3</td>\n",
       "      <td>0.000018</td>\n",
       "    </tr>\n",
       "    <tr>\n",
       "      <td>credit_sum</td>\n",
       "      <td>2</td>\n",
       "      <td>0.000012</td>\n",
       "    </tr>\n",
       "    <tr>\n",
       "      <td>open_account_flg</td>\n",
       "      <td>0</td>\n",
       "      <td>0.000000</td>\n",
       "    </tr>\n",
       "    <tr>\n",
       "      <td>tariff_id</td>\n",
       "      <td>0</td>\n",
       "      <td>0.000000</td>\n",
       "    </tr>\n",
       "    <tr>\n",
       "      <td>credit_month</td>\n",
       "      <td>0</td>\n",
       "      <td>0.000000</td>\n",
       "    </tr>\n",
       "    <tr>\n",
       "      <td>job_position</td>\n",
       "      <td>0</td>\n",
       "      <td>0.000000</td>\n",
       "    </tr>\n",
       "    <tr>\n",
       "      <td>gender</td>\n",
       "      <td>0</td>\n",
       "      <td>0.000000</td>\n",
       "    </tr>\n",
       "    <tr>\n",
       "      <td>client_id</td>\n",
       "      <td>0</td>\n",
       "      <td>0.000000</td>\n",
       "    </tr>\n",
       "  </tbody>\n",
       "</table>\n",
       "</div>"
      ],
      "text/plain": [
       "                      Total missing values  Percent %\n",
       "overdue_credit_count                  9230   0.054057\n",
       "credit_count                          9230   0.054057\n",
       "living_region                          192   0.001124\n",
       "score_shk                                7   0.000041\n",
       "monthly_income                           5   0.000029\n",
       "education                                5   0.000029\n",
       "marital_status                           3   0.000018\n",
       "age                                      3   0.000018\n",
       "credit_sum                               2   0.000012\n",
       "open_account_flg                         0   0.000000\n",
       "tariff_id                                0   0.000000\n",
       "credit_month                             0   0.000000\n",
       "job_position                             0   0.000000\n",
       "gender                                   0   0.000000\n",
       "client_id                                0   0.000000"
      ]
     },
     "execution_count": 5,
     "metadata": {},
     "output_type": "execute_result"
    }
   ],
   "source": [
    "#Создадим сводку, которая бы отражала количество пропущенных значений по столбцам и % который они составляют\n",
    "total = cr_df.isnull().sum().sort_values(ascending = False)\n",
    "percent = (cr_df.isnull().sum() / cr_df.isnull().count()).sort_values(ascending=False)\n",
    "missing_data = pd.concat([total, percent], axis = 1, keys = ['Total missing values', 'Percent %'])\n",
    "missing_data"
   ]
  },
  {
   "cell_type": "markdown",
   "metadata": {},
   "source": [
    "# Анализ числовых признаков на выбросы"
   ]
  },
  {
   "cell_type": "code",
   "execution_count": 6,
   "metadata": {},
   "outputs": [
    {
     "data": {
      "text/plain": [
       "['age',\n",
       " 'credit_sum',\n",
       " 'score_shk',\n",
       " 'monthly_income',\n",
       " 'credit_count',\n",
       " 'overdue_credit_count']"
      ]
     },
     "execution_count": 6,
     "metadata": {},
     "output_type": "execute_result"
    }
   ],
   "source": [
    "#Выведем список всех числовых признаков (age, credit_sum, credit_month, score_shk, monthly_income, credit_count,\n",
    "#overdue_credit_count)\n",
    "list(cr_df.select_dtypes(include = 'float'))"
   ]
  },
  {
   "cell_type": "code",
   "execution_count": 7,
   "metadata": {},
   "outputs": [
    {
     "data": {
      "text/plain": [
       "['client_id', 'credit_month', 'open_account_flg']"
      ]
     },
     "execution_count": 7,
     "metadata": {},
     "output_type": "execute_result"
    }
   ],
   "source": [
    "list(cr_df.select_dtypes(include = 'int64'))"
   ]
  },
  {
   "cell_type": "markdown",
   "metadata": {},
   "source": [
    "Безопасности ради я создал отдельный датафрейм под названием cr_df2, он является полной копией исходного датафрейма cr_df, который мы пока оставим до лучших времен."
   ]
  },
  {
   "cell_type": "markdown",
   "metadata": {},
   "source": [
    "# Квартили распределения и выбросы"
   ]
  },
  {
   "cell_type": "markdown",
   "metadata": {},
   "source": [
    "Все что превышает +-1,5 межквартильного размаха является выбросом, если же происходит превышение +-3 межквартильных размаха, то данное значение является экстремальным. "
   ]
  },
  {
   "cell_type": "markdown",
   "metadata": {},
   "source": [
    "## Возраст"
   ]
  },
  {
   "cell_type": "code",
   "execution_count": 8,
   "metadata": {},
   "outputs": [
    {
     "data": {
      "text/plain": [
       "count    170743.000000\n",
       "mean         36.497262\n",
       "std          10.546044\n",
       "min          18.000000\n",
       "25%          28.000000\n",
       "50%          34.000000\n",
       "75%          43.000000\n",
       "max          71.000000\n",
       "Name: age, dtype: float64"
      ]
     },
     "execution_count": 8,
     "metadata": {},
     "output_type": "execute_result"
    }
   ],
   "source": [
    "#Выведем общие статистические показатели по признаку age\n",
    "cr_df2['age'].describe()"
   ]
  },
  {
   "cell_type": "code",
   "execution_count": 9,
   "metadata": {},
   "outputs": [],
   "source": [
    "age_data = cr_df2['age']"
   ]
  },
  {
   "cell_type": "code",
   "execution_count": 10,
   "metadata": {},
   "outputs": [],
   "source": [
    "#Создадим функцию, которая бы выводила границы +-1.5 межквартильного размаха\n",
    "def quartiles(x):\n",
    " q1, q3 = np.percentile(x, [25, 75])\n",
    " iqr = q3 - q1\n",
    " lower_bound = q1 - (iqr * 1.5)\n",
    " upper_bound = q3 + (iqr * 1.5)\n",
    " return lower_bound, upper_bound "
   ]
  },
  {
   "cell_type": "code",
   "execution_count": 11,
   "metadata": {},
   "outputs": [
    {
     "data": {
      "text/plain": [
       "(5.5, 65.5)"
      ]
     },
     "execution_count": 11,
     "metadata": {},
     "output_type": "execute_result"
    }
   ],
   "source": [
    "quartiles(age_data.dropna())"
   ]
  },
  {
   "cell_type": "code",
   "execution_count": 12,
   "metadata": {},
   "outputs": [],
   "source": [
    "# Посмотрим сколько клиентов старше 65 лет\n",
    "more_65_years = cr_df2[cr_df2['age']>65]"
   ]
  },
  {
   "cell_type": "code",
   "execution_count": 13,
   "metadata": {},
   "outputs": [
    {
     "data": {
      "text/plain": [
       "(1322, 15)"
      ]
     },
     "execution_count": 13,
     "metadata": {},
     "output_type": "execute_result"
    }
   ],
   "source": [
    "# Итого 1322 клиента старше 65 лет\n",
    "more_65_years.shape"
   ]
  },
  {
   "cell_type": "code",
   "execution_count": 14,
   "metadata": {},
   "outputs": [
    {
     "name": "stdout",
     "output_type": "stream",
     "text": [
      "Доля людей старше 65 лет: 0.77 %\n"
     ]
    }
   ],
   "source": [
    "# Найдем долю в % людей старше 65 лет\n",
    "more_65_years_percent = (1322 * 100) / 170746\n",
    "print(\"Доля людей старше 65 лет: {:.2f} %\".format(more_65_years_percent))\n",
    "#Таким образом люди старше 65 лет составляют менее 1% клиентов."
   ]
  },
  {
   "cell_type": "code",
   "execution_count": 15,
   "metadata": {
    "scrolled": true
   },
   "outputs": [
    {
     "data": {
      "image/png": "[encoded data removed]",
      "text/plain": [
       "<Figure size 432x288 with 1 Axes>"
      ]
     },
     "metadata": {
      "needs_background": "light"
     },
     "output_type": "display_data"
    }
   ],
   "source": [
    "sns.boxplot(age_data.dropna());"
   ]
  },
  {
   "cell_type": "markdown",
   "metadata": {},
   "source": [
    "### Вывод: \n"
   ]
  },
  {
   "cell_type": "markdown",
   "metadata": {},
   "source": [
    "Возраст должен быть < 65.5"
   ]
  },
  {
   "cell_type": "markdown",
   "metadata": {},
   "source": [
    "## Сумма кредита"
   ]
  },
  {
   "cell_type": "code",
   "execution_count": 16,
   "metadata": {},
   "outputs": [
    {
     "data": {
      "text/plain": [
       "count    170744.000000\n",
       "mean      26095.097541\n",
       "std       16234.874095\n",
       "min        2736.000000\n",
       "25%       14908.000000\n",
       "50%       21229.000000\n",
       "75%       32068.000000\n",
       "max      200000.000000\n",
       "Name: credit_sum, dtype: float64"
      ]
     },
     "execution_count": 16,
     "metadata": {},
     "output_type": "execute_result"
    }
   ],
   "source": [
    "cr_df2['credit_sum'].describe()"
   ]
  },
  {
   "cell_type": "code",
   "execution_count": 17,
   "metadata": {},
   "outputs": [],
   "source": [
    "credit_sum_data = cr_df2['credit_sum']"
   ]
  },
  {
   "cell_type": "code",
   "execution_count": 18,
   "metadata": {},
   "outputs": [
    {
     "data": {
      "text/plain": [
       "(-10832.0, 57808.0)"
      ]
     },
     "execution_count": 18,
     "metadata": {},
     "output_type": "execute_result"
    }
   ],
   "source": [
    "quartiles(credit_sum_data.dropna())"
   ]
  },
  {
   "cell_type": "code",
   "execution_count": 19,
   "metadata": {},
   "outputs": [
    {
     "data": {
      "image/png": "[encoded data removed]",
      "text/plain": [
       "<Figure size 432x288 with 1 Axes>"
      ]
     },
     "metadata": {
      "needs_background": "light"
     },
     "output_type": "display_data"
    }
   ],
   "source": [
    "sns.boxplot(credit_sum_data.dropna());"
   ]
  },
  {
   "cell_type": "code",
   "execution_count": 20,
   "metadata": {},
   "outputs": [
    {
     "data": {
      "text/plain": [
       "(10103, 15)"
      ]
     },
     "execution_count": 20,
     "metadata": {},
     "output_type": "execute_result"
    }
   ],
   "source": [
    "# Посчитаем какую долю в % имеют клиенты с суммой кредита свыше  57808\n",
    "more_57808_credit_sum = cr_df2[cr_df2['credit_sum'] > 57808]\n",
    "more_57808_credit_sum.shape"
   ]
  },
  {
   "cell_type": "code",
   "execution_count": 21,
   "metadata": {},
   "outputs": [
    {
     "data": {
      "text/plain": [
       "(170746, 15)"
      ]
     },
     "execution_count": 21,
     "metadata": {},
     "output_type": "execute_result"
    }
   ],
   "source": [
    "cr_df2.shape"
   ]
  },
  {
   "cell_type": "code",
   "execution_count": 22,
   "metadata": {},
   "outputs": [
    {
     "name": "stdout",
     "output_type": "stream",
     "text": [
      "Доля клиентов с суммой кредита свыше  57808 рублей: 5.92 %\n"
     ]
    }
   ],
   "source": [
    "more_57808_credit_sum_percent = 10103 * 100 / 170746\n",
    "print(\"Доля клиентов с суммой кредита свыше  57808 рублей: {:.2f} %\".format(more_57808_credit_sum_percent))"
   ]
  },
  {
   "cell_type": "markdown",
   "metadata": {},
   "source": [
    "### Вывод"
   ]
  },
  {
   "cell_type": "markdown",
   "metadata": {},
   "source": [
    "Сумма кредита < 57808"
   ]
  },
  {
   "cell_type": "markdown",
   "metadata": {},
   "source": [
    "### Срок кредитования"
   ]
  },
  {
   "cell_type": "code",
   "execution_count": 23,
   "metadata": {},
   "outputs": [
    {
     "data": {
      "text/plain": [
       "count    170746.000000\n",
       "mean         10.980749\n",
       "std           3.536698\n",
       "min           3.000000\n",
       "25%          10.000000\n",
       "50%          10.000000\n",
       "75%          12.000000\n",
       "max          36.000000\n",
       "Name: credit_month, dtype: float64"
      ]
     },
     "execution_count": 23,
     "metadata": {},
     "output_type": "execute_result"
    }
   ],
   "source": [
    "cr_df2['credit_month'].describe()"
   ]
  },
  {
   "cell_type": "code",
   "execution_count": 24,
   "metadata": {},
   "outputs": [],
   "source": [
    "credit_month_data = cr_df2['credit_month']"
   ]
  },
  {
   "cell_type": "code",
   "execution_count": 25,
   "metadata": {},
   "outputs": [
    {
     "data": {
      "image/png": "[encoded data removed]",
      "text/plain": [
       "<Figure size 432x288 with 1 Axes>"
      ]
     },
     "metadata": {
      "needs_background": "light"
     },
     "output_type": "display_data"
    }
   ],
   "source": [
    "sns.boxplot(credit_month_data.dropna());"
   ]
  },
  {
   "cell_type": "code",
   "execution_count": 26,
   "metadata": {},
   "outputs": [
    {
     "data": {
      "text/plain": [
       "(7.0, 15.0)"
      ]
     },
     "execution_count": 26,
     "metadata": {},
     "output_type": "execute_result"
    }
   ],
   "source": [
    "quartiles(credit_month_data.dropna())"
   ]
  },
  {
   "cell_type": "code",
   "execution_count": 27,
   "metadata": {},
   "outputs": [],
   "source": [
    "less_7_month = cr_df2[cr_df2['credit_month']<7]\n",
    "more_15_month = cr_df2[cr_df2['credit_month']>15]"
   ]
  },
  {
   "cell_type": "code",
   "execution_count": 28,
   "metadata": {},
   "outputs": [
    {
     "data": {
      "image/png": "[encoded data removed]",
      "text/plain": [
       "<Figure size 432x288 with 1 Axes>"
      ]
     },
     "metadata": {
      "needs_background": "light"
     },
     "output_type": "display_data"
    }
   ],
   "source": [
    "sns.countplot(less_7_month['credit_month']);"
   ]
  },
  {
   "cell_type": "code",
   "execution_count": 29,
   "metadata": {},
   "outputs": [
    {
     "data": {
      "text/plain": [
       "(13353, 15)"
      ]
     },
     "execution_count": 29,
     "metadata": {},
     "output_type": "execute_result"
    }
   ],
   "source": [
    "less_7_month.shape"
   ]
  },
  {
   "cell_type": "code",
   "execution_count": 30,
   "metadata": {},
   "outputs": [
    {
     "name": "stdout",
     "output_type": "stream",
     "text": [
      "Доля клиентов со сроком кредитования менее чем 7 месяцев: 7.82%\n"
     ]
    }
   ],
   "source": [
    "less_7_month_percent = 13353 * 100 / 170746\n",
    "print(\"Доля клиентов со сроком кредитования менее чем 7 месяцев: {:.2f}%\".format(less_7_month_percent))"
   ]
  },
  {
   "cell_type": "code",
   "execution_count": 31,
   "metadata": {},
   "outputs": [
    {
     "data": {
      "image/png": "[encoded data removed]",
      "text/plain": [
       "<Figure size 432x288 with 1 Axes>"
      ]
     },
     "metadata": {
      "needs_background": "light"
     },
     "output_type": "display_data"
    }
   ],
   "source": [
    "sns.countplot(more_15_month['credit_month']);"
   ]
  },
  {
   "cell_type": "code",
   "execution_count": 32,
   "metadata": {},
   "outputs": [
    {
     "data": {
      "text/plain": [
       "(10173, 15)"
      ]
     },
     "execution_count": 32,
     "metadata": {},
     "output_type": "execute_result"
    }
   ],
   "source": [
    "more_15_month.shape"
   ]
  },
  {
   "cell_type": "code",
   "execution_count": 33,
   "metadata": {},
   "outputs": [
    {
     "name": "stdout",
     "output_type": "stream",
     "text": [
      "Доля клиентов со сроком кредитования свыше 15 месяцев: 5.96%\n"
     ]
    }
   ],
   "source": [
    "more_15_month_percent = 10173 * 100 / 170746\n",
    "print(\"Доля клиентов со сроком кредитования свыше 15 месяцев: {:.2f}%\".format(more_15_month_percent))"
   ]
  },
  {
   "cell_type": "markdown",
   "metadata": {},
   "source": [
    "### Вывод: "
   ]
  },
  {
   "cell_type": "markdown",
   "metadata": {},
   "source": [
    "Срок кредитования лежит в промежутке 7<x<15 месяцев"
   ]
  },
  {
   "cell_type": "markdown",
   "metadata": {},
   "source": [
    "## Скоринговая оценка"
   ]
  },
  {
   "cell_type": "code",
   "execution_count": 34,
   "metadata": {},
   "outputs": [
    {
     "name": "stdout",
     "output_type": "stream",
     "text": [
      "<class 'pandas.core.frame.DataFrame'>\n",
      "RangeIndex: 170746 entries, 0 to 170745\n",
      "Data columns (total 15 columns):\n",
      "client_id               170746 non-null int64\n",
      "gender                  170746 non-null object\n",
      "age                     170743 non-null float64\n",
      "marital_status          170743 non-null object\n",
      "job_position            170746 non-null object\n",
      "credit_sum              170744 non-null float64\n",
      "credit_month            170746 non-null int64\n",
      "tariff_id               170746 non-null object\n",
      "score_shk               170739 non-null float64\n",
      "education               170741 non-null object\n",
      "living_region           170554 non-null object\n",
      "monthly_income          170741 non-null float64\n",
      "credit_count            161516 non-null float64\n",
      "overdue_credit_count    161516 non-null float64\n",
      "open_account_flg        170746 non-null int64\n",
      "dtypes: float64(6), int64(3), object(6)\n",
      "memory usage: 19.5+ MB\n"
     ]
    }
   ],
   "source": [
    "cr_df2.info()"
   ]
  },
  {
   "cell_type": "code",
   "execution_count": 35,
   "metadata": {},
   "outputs": [
    {
     "data": {
      "text/plain": [
       "count    170739.000000\n",
       "mean          0.469473\n",
       "std           0.124265\n",
       "min           0.000000\n",
       "25%           0.379522\n",
       "50%           0.461599\n",
       "75%           0.552412\n",
       "max           1.128291\n",
       "Name: score_shk, dtype: float64"
      ]
     },
     "execution_count": 35,
     "metadata": {},
     "output_type": "execute_result"
    }
   ],
   "source": [
    "cr_df2['score_shk'].describe()"
   ]
  },
  {
   "cell_type": "code",
   "execution_count": 36,
   "metadata": {},
   "outputs": [],
   "source": [
    "score_shk_data = cr_df2['score_shk']"
   ]
  },
  {
   "cell_type": "code",
   "execution_count": 37,
   "metadata": {},
   "outputs": [
    {
     "data": {
      "text/plain": [
       "(0.12018774999999987, 0.8117457500000002)"
      ]
     },
     "execution_count": 37,
     "metadata": {},
     "output_type": "execute_result"
    }
   ],
   "source": [
    "quartiles(score_shk_data.dropna())"
   ]
  },
  {
   "cell_type": "code",
   "execution_count": 38,
   "metadata": {},
   "outputs": [
    {
     "data": {
      "image/png": "[encoded data removed]",
      "text/plain": [
       "<Figure size 432x288 with 1 Axes>"
      ]
     },
     "metadata": {
      "needs_background": "light"
     },
     "output_type": "display_data"
    }
   ],
   "source": [
    "sns.boxplot(score_shk_data.dropna());"
   ]
  },
  {
   "cell_type": "code",
   "execution_count": 39,
   "metadata": {},
   "outputs": [
    {
     "data": {
      "text/plain": [
       "(72, 15)"
      ]
     },
     "execution_count": 39,
     "metadata": {},
     "output_type": "execute_result"
    }
   ],
   "source": [
    "less_than_min_score_shk = cr_df2[cr_df2['score_shk']<0.12018774999999987]\n",
    "less_than_min_score_shk.shape"
   ]
  },
  {
   "cell_type": "code",
   "execution_count": 40,
   "metadata": {},
   "outputs": [
    {
     "name": "stdout",
     "output_type": "stream",
     "text": [
      "Доля клиентов с кредитным рейтингом ниже чем значения -1,5 межквартильного размаха: 0.04%\n"
     ]
    }
   ],
   "source": [
    "less_than_min_score_shk_percent = 72 * 100 / 170746\n",
    "print(\"Доля клиентов с кредитным рейтингом ниже чем значения -1,5 межквартильного размаха: {:.2f}%\".format(less_than_min_score_shk_percent))"
   ]
  },
  {
   "cell_type": "code",
   "execution_count": 41,
   "metadata": {},
   "outputs": [
    {
     "name": "stdout",
     "output_type": "stream",
     "text": [
      "(171, 15)\n",
      "Доля клиентов с кредитным рейтингом ниже чем значение +1,5 межквартильного размаха: 0.10%\n"
     ]
    }
   ],
   "source": [
    "more_than_max_score_shk = cr_df2[cr_df2['score_shk']>0.8117457500000002]\n",
    "print(more_than_max_score_shk.shape)\n",
    "more_than_max_score_shk_percent = 171 * 100 / 170746\n",
    "print(\"Доля клиентов с кредитным рейтингом ниже чем значение +1,5 межквартильного размаха: {:.2f}%\".format(more_than_max_score_shk_percent))"
   ]
  },
  {
   "cell_type": "markdown",
   "metadata": {},
   "source": [
    "### Вывод:"
   ]
  },
  {
   "cell_type": "markdown",
   "metadata": {},
   "source": [
    "Внутренний скоринговый рейтинг должен лежать в диапазоне 0.12018774999999987 < x < 0.8117457500000002 "
   ]
  },
  {
   "cell_type": "markdown",
   "metadata": {},
   "source": [
    "## Ежемесячный доход"
   ]
  },
  {
   "cell_type": "code",
   "execution_count": 42,
   "metadata": {},
   "outputs": [
    {
     "data": {
      "text/plain": [
       "count    170741.000000\n",
       "mean      40138.596149\n",
       "std       25044.373992\n",
       "min        5000.000000\n",
       "25%       25000.000000\n",
       "50%       35000.000000\n",
       "75%       50000.000000\n",
       "max      950000.000000\n",
       "Name: monthly_income, dtype: float64"
      ]
     },
     "execution_count": 42,
     "metadata": {},
     "output_type": "execute_result"
    }
   ],
   "source": [
    "cr_df2['monthly_income'].describe()"
   ]
  },
  {
   "cell_type": "code",
   "execution_count": 43,
   "metadata": {},
   "outputs": [],
   "source": [
    "monthly_income_data = cr_df2['monthly_income']"
   ]
  },
  {
   "cell_type": "code",
   "execution_count": 44,
   "metadata": {},
   "outputs": [
    {
     "data": {
      "text/plain": [
       "(-12500.0, 87500.0)"
      ]
     },
     "execution_count": 44,
     "metadata": {},
     "output_type": "execute_result"
    }
   ],
   "source": [
    "quartiles(monthly_income_data.dropna())"
   ]
  },
  {
   "cell_type": "code",
   "execution_count": 45,
   "metadata": {},
   "outputs": [
    {
     "data": {
      "image/png": "[encoded data removed]",
      "text/plain": [
       "<Figure size 432x288 with 1 Axes>"
      ]
     },
     "metadata": {
      "needs_background": "light"
     },
     "output_type": "display_data"
    }
   ],
   "source": [
    "sns.boxplot(monthly_income_data.dropna());"
   ]
  },
  {
   "cell_type": "code",
   "execution_count": 46,
   "metadata": {},
   "outputs": [
    {
     "name": "stdout",
     "output_type": "stream",
     "text": [
      "(6806, 15)\n",
      "Доля клиентов с доходом свыше 87500 тысяч рублей в месяц: 3.99%\n"
     ]
    }
   ],
   "source": [
    "more_87500_income = cr_df2[cr_df2['monthly_income']>87500]\n",
    "print(more_87500_income.shape)\n",
    "more_87500_income_percent = 6806 * 100 / 170746\n",
    "print(\"Доля клиентов с доходом свыше 87500 тысяч рублей в месяц: {:.2f}%\".format(more_87500_income_percent))"
   ]
  },
  {
   "cell_type": "markdown",
   "metadata": {},
   "source": [
    "## Вывод:"
   ]
  },
  {
   "cell_type": "markdown",
   "metadata": {},
   "source": [
    "Ежемесячный доход должен быть < 87500, иначе уже считается как выброс."
   ]
  },
  {
   "cell_type": "markdown",
   "metadata": {},
   "source": [
    "## Количество кредитов у клиента"
   ]
  },
  {
   "cell_type": "code",
   "execution_count": 47,
   "metadata": {},
   "outputs": [
    {
     "name": "stdout",
     "output_type": "stream",
     "text": [
      "<class 'pandas.core.frame.DataFrame'>\n",
      "RangeIndex: 170746 entries, 0 to 170745\n",
      "Data columns (total 15 columns):\n",
      "client_id               170746 non-null int64\n",
      "gender                  170746 non-null object\n",
      "age                     170743 non-null float64\n",
      "marital_status          170743 non-null object\n",
      "job_position            170746 non-null object\n",
      "credit_sum              170744 non-null float64\n",
      "credit_month            170746 non-null int64\n",
      "tariff_id               170746 non-null object\n",
      "score_shk               170739 non-null float64\n",
      "education               170741 non-null object\n",
      "living_region           170554 non-null object\n",
      "monthly_income          170741 non-null float64\n",
      "credit_count            161516 non-null float64\n",
      "overdue_credit_count    161516 non-null float64\n",
      "open_account_flg        170746 non-null int64\n",
      "dtypes: float64(6), int64(3), object(6)\n",
      "memory usage: 19.5+ MB\n"
     ]
    }
   ],
   "source": [
    "cr_df2.info()"
   ]
  },
  {
   "cell_type": "code",
   "execution_count": 48,
   "metadata": {},
   "outputs": [
    {
     "data": {
      "text/plain": [
       "count    161516.000000\n",
       "mean          2.107308\n",
       "std           1.777128\n",
       "min           0.000000\n",
       "25%           1.000000\n",
       "50%           2.000000\n",
       "75%           3.000000\n",
       "max          21.000000\n",
       "Name: credit_count, dtype: float64"
      ]
     },
     "execution_count": 48,
     "metadata": {},
     "output_type": "execute_result"
    }
   ],
   "source": [
    "cr_df2['credit_count'].describe()"
   ]
  },
  {
   "cell_type": "code",
   "execution_count": 49,
   "metadata": {},
   "outputs": [],
   "source": [
    "credit_count_data = cr_df2['credit_count']"
   ]
  },
  {
   "cell_type": "code",
   "execution_count": 50,
   "metadata": {},
   "outputs": [
    {
     "data": {
      "text/plain": [
       "(-2.0, 6.0)"
      ]
     },
     "execution_count": 50,
     "metadata": {},
     "output_type": "execute_result"
    }
   ],
   "source": [
    "quartiles(credit_count_data.dropna())"
   ]
  },
  {
   "cell_type": "code",
   "execution_count": 51,
   "metadata": {},
   "outputs": [
    {
     "data": {
      "image/png": "[encoded data removed]",
      "text/plain": [
       "<Figure size 432x288 with 1 Axes>"
      ]
     },
     "metadata": {
      "needs_background": "light"
     },
     "output_type": "display_data"
    }
   ],
   "source": [
    "sns.boxplot(credit_count_data.dropna());"
   ]
  },
  {
   "cell_type": "code",
   "execution_count": 52,
   "metadata": {},
   "outputs": [
    {
     "data": {
      "text/plain": [
       "(3944, 15)"
      ]
     },
     "execution_count": 52,
     "metadata": {},
     "output_type": "execute_result"
    }
   ],
   "source": [
    "more_six_credit = cr_df2[cr_df2['credit_count']>6]\n",
    "more_six_credit.shape\n"
   ]
  },
  {
   "cell_type": "code",
   "execution_count": 53,
   "metadata": {},
   "outputs": [
    {
     "name": "stdout",
     "output_type": "stream",
     "text": [
      "Доля клиентов с количеством кредитов больше чем 6: 2.31%\n"
     ]
    }
   ],
   "source": [
    "more_six_credit_percent = 3944 * 100 / 170746\n",
    "print(\"Доля клиентов с количеством кредитов больше чем 6: {:.2f}%\".format(more_six_credit_percent))"
   ]
  },
  {
   "cell_type": "markdown",
   "metadata": {},
   "source": [
    "### Вывод:"
   ]
  },
  {
   "cell_type": "markdown",
   "metadata": {},
   "source": [
    "Количество действующих кредитов клиента > 6 считается за выброс (порог  x < 6)"
   ]
  },
  {
   "cell_type": "markdown",
   "metadata": {},
   "source": [
    "## Количество просроченных кредитов"
   ]
  },
  {
   "cell_type": "code",
   "execution_count": 54,
   "metadata": {},
   "outputs": [
    {
     "data": {
      "text/plain": [
       "count    161516.000000\n",
       "mean          0.046070\n",
       "std           0.211548\n",
       "min           0.000000\n",
       "25%           0.000000\n",
       "50%           0.000000\n",
       "75%           0.000000\n",
       "max           3.000000\n",
       "Name: overdue_credit_count, dtype: float64"
      ]
     },
     "execution_count": 54,
     "metadata": {},
     "output_type": "execute_result"
    }
   ],
   "source": [
    "cr_df2['overdue_credit_count'].describe()"
   ]
  },
  {
   "cell_type": "code",
   "execution_count": 55,
   "metadata": {},
   "outputs": [],
   "source": [
    "overdue_credit_count_data = cr_df2['overdue_credit_count']"
   ]
  },
  {
   "cell_type": "code",
   "execution_count": 56,
   "metadata": {},
   "outputs": [
    {
     "data": {
      "text/plain": [
       "(0.0, 0.0)"
      ]
     },
     "execution_count": 56,
     "metadata": {},
     "output_type": "execute_result"
    }
   ],
   "source": [
    "quartiles(overdue_credit_count_data.dropna())"
   ]
  },
  {
   "cell_type": "code",
   "execution_count": 57,
   "metadata": {},
   "outputs": [
    {
     "data": {
      "image/png": "[encoded data removed]",
      "text/plain": [
       "<Figure size 432x288 with 1 Axes>"
      ]
     },
     "metadata": {
      "needs_background": "light"
     },
     "output_type": "display_data"
    }
   ],
   "source": [
    "sns.boxplot(overdue_credit_count_data.dropna());"
   ]
  },
  {
   "cell_type": "code",
   "execution_count": 58,
   "metadata": {},
   "outputs": [
    {
     "data": {
      "text/plain": [
       "(7381, 15)"
      ]
     },
     "execution_count": 58,
     "metadata": {},
     "output_type": "execute_result"
    }
   ],
   "source": [
    "have_overdue_credit = cr_df2[cr_df2['overdue_credit_count']>0]\n",
    "have_overdue_credit.shape"
   ]
  },
  {
   "cell_type": "code",
   "execution_count": 59,
   "metadata": {},
   "outputs": [
    {
     "name": "stdout",
     "output_type": "stream",
     "text": [
      "Доля клиентов имеющих просроченные кредиты: 4.32%\n"
     ]
    }
   ],
   "source": [
    "have_overdue_credit_percent = 7381 * 100 / 170746\n",
    "print(\"Доля клиентов имеющих просроченные кредиты: {:.2f}%\".format(have_overdue_credit_percent))"
   ]
  },
  {
   "cell_type": "markdown",
   "metadata": {},
   "source": [
    "### Вывод:"
   ]
  },
  {
   "cell_type": "markdown",
   "metadata": {},
   "source": [
    "Количество просроченных кредитов != 0 считается выбросом."
   ]
  },
  {
   "cell_type": "markdown",
   "metadata": {},
   "source": [
    "# Удаление выбросов"
   ]
  },
  {
   "cell_type": "code",
   "execution_count": 60,
   "metadata": {
    "scrolled": true
   },
   "outputs": [
    {
     "name": "stdout",
     "output_type": "stream",
     "text": [
      "<class 'pandas.core.frame.DataFrame'>\n",
      "RangeIndex: 170746 entries, 0 to 170745\n",
      "Data columns (total 15 columns):\n",
      "client_id               170746 non-null int64\n",
      "gender                  170746 non-null object\n",
      "age                     170743 non-null float64\n",
      "marital_status          170743 non-null object\n",
      "job_position            170746 non-null object\n",
      "credit_sum              170744 non-null float64\n",
      "credit_month            170746 non-null int64\n",
      "tariff_id               170746 non-null object\n",
      "score_shk               170739 non-null float64\n",
      "education               170741 non-null object\n",
      "living_region           170554 non-null object\n",
      "monthly_income          170741 non-null float64\n",
      "credit_count            161516 non-null float64\n",
      "overdue_credit_count    161516 non-null float64\n",
      "open_account_flg        170746 non-null int64\n",
      "dtypes: float64(6), int64(3), object(6)\n",
      "memory usage: 19.5+ MB\n"
     ]
    }
   ],
   "source": [
    "#Пока сделаем копию данных cr_df2, чтобы ее не испортить и в последствии к ней вернуться. \n",
    "#Поработаем с ее копиями, после чего уже примененим методы к исходному датафрейму.\n",
    "cr_df2.info()"
   ]
  },
  {
   "cell_type": "code",
   "execution_count": 61,
   "metadata": {},
   "outputs": [],
   "source": [
    "df4 = cr_df2.copy(deep=True)"
   ]
  },
  {
   "cell_type": "code",
   "execution_count": 62,
   "metadata": {},
   "outputs": [
    {
     "data": {
      "text/plain": [
       "(170746, 15)"
      ]
     },
     "execution_count": 62,
     "metadata": {},
     "output_type": "execute_result"
    }
   ],
   "source": [
    "df4.shape"
   ]
  },
  {
   "cell_type": "code",
   "execution_count": 63,
   "metadata": {},
   "outputs": [
    {
     "name": "stdout",
     "output_type": "stream",
     "text": [
      "<class 'pandas.core.frame.DataFrame'>\n",
      "RangeIndex: 170746 entries, 0 to 170745\n",
      "Data columns (total 15 columns):\n",
      "client_id               170746 non-null int64\n",
      "gender                  170746 non-null object\n",
      "age                     170743 non-null float64\n",
      "marital_status          170743 non-null object\n",
      "job_position            170746 non-null object\n",
      "credit_sum              170744 non-null float64\n",
      "credit_month            170746 non-null int64\n",
      "tariff_id               170746 non-null object\n",
      "score_shk               170739 non-null float64\n",
      "education               170741 non-null object\n",
      "living_region           170554 non-null object\n",
      "monthly_income          170741 non-null float64\n",
      "credit_count            161516 non-null float64\n",
      "overdue_credit_count    161516 non-null float64\n",
      "open_account_flg        170746 non-null int64\n",
      "dtypes: float64(6), int64(3), object(6)\n",
      "memory usage: 19.5+ MB\n"
     ]
    }
   ],
   "source": [
    "df4.info()"
   ]
  },
  {
   "cell_type": "code",
   "execution_count": 64,
   "metadata": {},
   "outputs": [],
   "source": [
    "#Напишем цикл, который все пропущенные значения в числовых признаках заполняет -999, а в текстовых или категориальных no_info\n",
    "for col in df4:\n",
    "    if df4[col].dtypes == 'float':\n",
    "        df4[col] = df4[col].fillna(-999)\n",
    "    elif df4[col].dtypes == 'int':\n",
    "        df4[col] = df4[col].fillna(-999)\n",
    "    else:\n",
    "        df4[col] = df4[col].fillna('no_info')"
   ]
  },
  {
   "cell_type": "code",
   "execution_count": 65,
   "metadata": {
    "scrolled": true
   },
   "outputs": [
    {
     "data": {
      "text/plain": [
       "client_id               0\n",
       "gender                  0\n",
       "age                     0\n",
       "marital_status          0\n",
       "job_position            0\n",
       "credit_sum              0\n",
       "credit_month            0\n",
       "tariff_id               0\n",
       "score_shk               0\n",
       "education               0\n",
       "living_region           0\n",
       "monthly_income          0\n",
       "credit_count            0\n",
       "overdue_credit_count    0\n",
       "open_account_flg        0\n",
       "dtype: int64"
      ]
     },
     "execution_count": 65,
     "metadata": {},
     "output_type": "execute_result"
    }
   ],
   "source": [
    "df4.isnull().sum()"
   ]
  },
  {
   "cell_type": "markdown",
   "metadata": {},
   "source": [
    "Еще раз напомню некую безопасную область, которая будет отсекать выбросы: \n",
    "- Возраст: должен быть < 65.5\n",
    "- Сумма кредита: должна быть < 57808\n",
    "- Срок кредитования: лежит в промежутке 7 < x < 15 месяцев\n",
    "- Скоринговый рейтинг: внутренний скоринговый рейтинг должен лежать в диапазоне 0.12018774999999987 < x < 0.8117457500000002\n",
    "- Ежемесячный доход: должен быть < 87500\n",
    "- Количество действующих кредитов: должно быть < 6 \n",
    "- Количество просроченных кредитов: = 0"
   ]
  },
  {
   "cell_type": "code",
   "execution_count": 66,
   "metadata": {},
   "outputs": [
    {
     "data": {
      "text/plain": [
       "(169424, 15)"
      ]
     },
     "execution_count": 66,
     "metadata": {},
     "output_type": "execute_result"
    }
   ],
   "source": [
    "#Удалим выбросы отсекая заданные пороги.\n",
    "df4 = df4[df4['age']<65.5]\n",
    "df4.shape"
   ]
  },
  {
   "cell_type": "code",
   "execution_count": 67,
   "metadata": {},
   "outputs": [],
   "source": [
    "df4 = df4[df4['credit_sum']<57808]\n",
    "df4 = df4[df4['credit_month']>7]\n",
    "df4 = df4[df4['credit_month']<15]\n",
    "df4 = df4[df4['score_shk']>0.12018774999999987]\n",
    "df4 = df4[df4['score_shk']<0.8117457500000002]\n",
    "df4 = df4[df4['monthly_income']<87500]\n",
    "df4 = df4[df4['credit_count']<6]\n",
    "df4 =df4[df4['overdue_credit_count']==0]"
   ]
  },
  {
   "cell_type": "code",
   "execution_count": 68,
   "metadata": {},
   "outputs": [
    {
     "data": {
      "text/plain": [
       "(115013, 15)"
      ]
     },
     "execution_count": 68,
     "metadata": {},
     "output_type": "execute_result"
    }
   ],
   "source": [
    "#Посмотрим на количество оставшихся наблюдений\n",
    "df4.shape"
   ]
  },
  {
   "cell_type": "code",
   "execution_count": 69,
   "metadata": {},
   "outputs": [
    {
     "data": {
      "text/html": [
       "<div>\n",
       "<style scoped>\n",
       "    .dataframe tbody tr th:only-of-type {\n",
       "        vertical-align: middle;\n",
       "    }\n",
       "\n",
       "    .dataframe tbody tr th {\n",
       "        vertical-align: top;\n",
       "    }\n",
       "\n",
       "    .dataframe thead th {\n",
       "        text-align: right;\n",
       "    }\n",
       "</style>\n",
       "<table border=\"1\" class=\"dataframe\">\n",
       "  <thead>\n",
       "    <tr style=\"text-align: right;\">\n",
       "      <th></th>\n",
       "      <th>client_id</th>\n",
       "      <th>gender</th>\n",
       "      <th>age</th>\n",
       "      <th>marital_status</th>\n",
       "      <th>job_position</th>\n",
       "      <th>credit_sum</th>\n",
       "      <th>credit_month</th>\n",
       "      <th>tariff_id</th>\n",
       "      <th>score_shk</th>\n",
       "      <th>education</th>\n",
       "      <th>living_region</th>\n",
       "      <th>monthly_income</th>\n",
       "      <th>credit_count</th>\n",
       "      <th>overdue_credit_count</th>\n",
       "      <th>open_account_flg</th>\n",
       "    </tr>\n",
       "  </thead>\n",
       "  <tbody>\n",
       "    <tr>\n",
       "      <td>170739</td>\n",
       "      <td>170740</td>\n",
       "      <td>F</td>\n",
       "      <td>32.0</td>\n",
       "      <td>MAR</td>\n",
       "      <td>SPC</td>\n",
       "      <td>15282.00</td>\n",
       "      <td>10</td>\n",
       "      <td>1.16</td>\n",
       "      <td>0.514811</td>\n",
       "      <td>GRD</td>\n",
       "      <td>САМАРСКАЯ ОБЛАСТЬ</td>\n",
       "      <td>25000.0</td>\n",
       "      <td>2.0</td>\n",
       "      <td>0.0</td>\n",
       "      <td>0</td>\n",
       "    </tr>\n",
       "    <tr>\n",
       "      <td>170740</td>\n",
       "      <td>170741</td>\n",
       "      <td>F</td>\n",
       "      <td>24.0</td>\n",
       "      <td>UNM</td>\n",
       "      <td>SPC</td>\n",
       "      <td>19818.00</td>\n",
       "      <td>12</td>\n",
       "      <td>1.6</td>\n",
       "      <td>0.624391</td>\n",
       "      <td>SCH</td>\n",
       "      <td>КРАСНОДАРСКИЙ КРАЙ</td>\n",
       "      <td>22000.0</td>\n",
       "      <td>1.0</td>\n",
       "      <td>0.0</td>\n",
       "      <td>0</td>\n",
       "    </tr>\n",
       "    <tr>\n",
       "      <td>170743</td>\n",
       "      <td>170744</td>\n",
       "      <td>F</td>\n",
       "      <td>31.0</td>\n",
       "      <td>UNM</td>\n",
       "      <td>SPC</td>\n",
       "      <td>27556.47</td>\n",
       "      <td>10</td>\n",
       "      <td>1.32</td>\n",
       "      <td>0.416098</td>\n",
       "      <td>GRD</td>\n",
       "      <td>ПРИМОРСКИЙ КРАЙ</td>\n",
       "      <td>40000.0</td>\n",
       "      <td>1.0</td>\n",
       "      <td>0.0</td>\n",
       "      <td>0</td>\n",
       "    </tr>\n",
       "    <tr>\n",
       "      <td>170744</td>\n",
       "      <td>170745</td>\n",
       "      <td>F</td>\n",
       "      <td>53.0</td>\n",
       "      <td>DIV</td>\n",
       "      <td>PNA</td>\n",
       "      <td>6189.00</td>\n",
       "      <td>12</td>\n",
       "      <td>1.1</td>\n",
       "      <td>0.482595</td>\n",
       "      <td>SCH</td>\n",
       "      <td>ПЕНЗЕНСКАЯ ОБЛ</td>\n",
       "      <td>31000.0</td>\n",
       "      <td>2.0</td>\n",
       "      <td>0.0</td>\n",
       "      <td>0</td>\n",
       "    </tr>\n",
       "    <tr>\n",
       "      <td>170745</td>\n",
       "      <td>170746</td>\n",
       "      <td>M</td>\n",
       "      <td>49.0</td>\n",
       "      <td>MAR</td>\n",
       "      <td>SPC</td>\n",
       "      <td>12787.00</td>\n",
       "      <td>10</td>\n",
       "      <td>1.1</td>\n",
       "      <td>0.316087</td>\n",
       "      <td>GRD</td>\n",
       "      <td>ОБЛ МОСКОВСКАЯ</td>\n",
       "      <td>40000.0</td>\n",
       "      <td>3.0</td>\n",
       "      <td>0.0</td>\n",
       "      <td>0</td>\n",
       "    </tr>\n",
       "  </tbody>\n",
       "</table>\n",
       "</div>"
      ],
      "text/plain": [
       "        client_id gender   age marital_status job_position  credit_sum  \\\n",
       "170739     170740      F  32.0            MAR          SPC    15282.00   \n",
       "170740     170741      F  24.0            UNM          SPC    19818.00   \n",
       "170743     170744      F  31.0            UNM          SPC    27556.47   \n",
       "170744     170745      F  53.0            DIV          PNA     6189.00   \n",
       "170745     170746      M  49.0            MAR          SPC    12787.00   \n",
       "\n",
       "        credit_month tariff_id  score_shk education       living_region  \\\n",
       "170739            10      1.16   0.514811       GRD   САМАРСКАЯ ОБЛАСТЬ   \n",
       "170740            12       1.6   0.624391       SCH  КРАСНОДАРСКИЙ КРАЙ   \n",
       "170743            10      1.32   0.416098       GRD     ПРИМОРСКИЙ КРАЙ   \n",
       "170744            12       1.1   0.482595       SCH      ПЕНЗЕНСКАЯ ОБЛ   \n",
       "170745            10       1.1   0.316087       GRD      ОБЛ МОСКОВСКАЯ   \n",
       "\n",
       "        monthly_income  credit_count  overdue_credit_count  open_account_flg  \n",
       "170739         25000.0           2.0                   0.0                 0  \n",
       "170740         22000.0           1.0                   0.0                 0  \n",
       "170743         40000.0           1.0                   0.0                 0  \n",
       "170744         31000.0           2.0                   0.0                 0  \n",
       "170745         40000.0           3.0                   0.0                 0  "
      ]
     },
     "execution_count": 69,
     "metadata": {},
     "output_type": "execute_result"
    }
   ],
   "source": [
    "df4.tail()"
   ]
  },
  {
   "cell_type": "code",
   "execution_count": 70,
   "metadata": {
    "scrolled": true
   },
   "outputs": [
    {
     "name": "stdout",
     "output_type": "stream",
     "text": [
      "<class 'pandas.core.frame.DataFrame'>\n",
      "Int64Index: 115013 entries, 4 to 170745\n",
      "Data columns (total 15 columns):\n",
      "client_id               115013 non-null int64\n",
      "gender                  115013 non-null object\n",
      "age                     115013 non-null float64\n",
      "marital_status          115013 non-null object\n",
      "job_position            115013 non-null object\n",
      "credit_sum              115013 non-null float64\n",
      "credit_month            115013 non-null int64\n",
      "tariff_id               115013 non-null object\n",
      "score_shk               115013 non-null float64\n",
      "education               115013 non-null object\n",
      "living_region           115013 non-null object\n",
      "monthly_income          115013 non-null float64\n",
      "credit_count            115013 non-null float64\n",
      "overdue_credit_count    115013 non-null float64\n",
      "open_account_flg        115013 non-null int64\n",
      "dtypes: float64(6), int64(3), object(6)\n",
      "memory usage: 14.0+ MB\n"
     ]
    }
   ],
   "source": [
    "df4.info()"
   ]
  },
  {
   "cell_type": "code",
   "execution_count": 71,
   "metadata": {},
   "outputs": [],
   "source": [
    "#Приравняем датафрейм cr_df2 к df4\n",
    "cr_df2 = df4.copy(deep = True)"
   ]
  },
  {
   "cell_type": "code",
   "execution_count": 72,
   "metadata": {},
   "outputs": [
    {
     "data": {
      "text/plain": [
       "(115013, 15)"
      ]
     },
     "execution_count": 72,
     "metadata": {},
     "output_type": "execute_result"
    }
   ],
   "source": [
    "cr_df2.shape"
   ]
  },
  {
   "cell_type": "code",
   "execution_count": 73,
   "metadata": {},
   "outputs": [
    {
     "data": {
      "text/plain": [
       "client_id               0\n",
       "gender                  0\n",
       "age                     0\n",
       "marital_status          0\n",
       "job_position            0\n",
       "credit_sum              0\n",
       "credit_month            0\n",
       "tariff_id               0\n",
       "score_shk               0\n",
       "education               0\n",
       "living_region           0\n",
       "monthly_income          0\n",
       "credit_count            0\n",
       "overdue_credit_count    0\n",
       "open_account_flg        0\n",
       "dtype: int64"
      ]
     },
     "execution_count": 73,
     "metadata": {},
     "output_type": "execute_result"
    }
   ],
   "source": [
    "cr_df2.isnull().sum()"
   ]
  },
  {
   "cell_type": "markdown",
   "metadata": {},
   "source": [
    "# Обработка категориальных переменных"
   ]
  },
  {
   "cell_type": "code",
   "execution_count": 74,
   "metadata": {},
   "outputs": [
    {
     "data": {
      "text/plain": [
       "['gender',\n",
       " 'marital_status',\n",
       " 'job_position',\n",
       " 'tariff_id',\n",
       " 'education',\n",
       " 'living_region']"
      ]
     },
     "execution_count": 74,
     "metadata": {},
     "output_type": "execute_result"
    }
   ],
   "source": [
    "# Выведем список всех категориальных переменных\n",
    "list(cr_df2.select_dtypes(include = 'object'))"
   ]
  },
  {
   "cell_type": "markdown",
   "metadata": {},
   "source": [
    "## Обработка признака living_region"
   ]
  },
  {
   "cell_type": "code",
   "execution_count": 75,
   "metadata": {},
   "outputs": [
    {
     "data": {
      "text/plain": [
       "270"
      ]
     },
     "execution_count": 75,
     "metadata": {},
     "output_type": "execute_result"
    }
   ],
   "source": [
    "#В России всего 85 субъектов, таким образом столбец региона должен содержать в себе максимум 85 уникальных значений.\n",
    "cr_df2['living_region'].nunique()"
   ]
  },
  {
   "cell_type": "code",
   "execution_count": 76,
   "metadata": {},
   "outputs": [],
   "source": [
    "#Увеличим количество отображаемых строк\n",
    "pd.options.display.max_rows = 310"
   ]
  },
  {
   "cell_type": "code",
   "execution_count": 77,
   "metadata": {},
   "outputs": [],
   "source": [
    "#Создадим Series, которая будет содержать в себе все уникальные значения регионов по нашему датафрейму.\n",
    "regions = cr_df2['living_region'].unique()\n",
    "regions = pd.Series(data = regions, index = regions, name = 'regions')"
   ]
  },
  {
   "cell_type": "code",
   "execution_count": 78,
   "metadata": {},
   "outputs": [
    {
     "data": {
      "text/plain": [
       "pandas.core.series.Series"
      ]
     },
     "execution_count": 78,
     "metadata": {},
     "output_type": "execute_result"
    }
   ],
   "source": [
    "type(regions)"
   ]
  },
  {
   "cell_type": "code",
   "execution_count": 79,
   "metadata": {},
   "outputs": [
    {
     "data": {
      "text/plain": [
       "ЧЕЛЯБИНСКАЯ ОБЛАСТЬ                                              ЧЕЛЯБИНСКАЯ ОБЛАСТЬ\n",
       "МОСКОВСКАЯ ОБЛ                                                        МОСКОВСКАЯ ОБЛ\n",
       "САНКТ-ПЕТЕРБУРГ                                                      САНКТ-ПЕТЕРБУРГ\n",
       "РЕСП. БАШКОРТОСТАН                                                РЕСП. БАШКОРТОСТАН\n",
       "ОБЛ АРХАНГЕЛЬСКАЯ                                                  ОБЛ АРХАНГЕЛЬСКАЯ\n",
       "РЕСП БАШКОРТОСТАН                                                  РЕСП БАШКОРТОСТАН\n",
       "ПЕРМСКИЙ КРАЙ                                                          ПЕРМСКИЙ КРАЙ\n",
       "КРАСНОДАРСКИЙ КРАЙ                                                КРАСНОДАРСКИЙ КРАЙ\n",
       "ХАНТЫ-МАНСИЙСКИЙ АВТОНОМНЫЙ ОКРУГ - ЮГРА    ХАНТЫ-МАНСИЙСКИЙ АВТОНОМНЫЙ ОКРУГ - ЮГРА\n",
       "РЕСП КАРАЧАЕВО-ЧЕРКЕССКАЯ                                  РЕСП КАРАЧАЕВО-ЧЕРКЕССКАЯ\n",
       "САРАТОВСКАЯ ОБЛ                                                      САРАТОВСКАЯ ОБЛ\n",
       "ОБЛ ВОЛОГОДСКАЯ                                                      ОБЛ ВОЛОГОДСКАЯ\n",
       "УДМУРТСКАЯ РЕСП                                                      УДМУРТСКАЯ РЕСП\n",
       "ОБЛ ИРКУТСКАЯ                                                          ОБЛ ИРКУТСКАЯ\n",
       "ОБЛ МОСКОВСКАЯ                                                        ОБЛ МОСКОВСКАЯ\n",
       "ОБЛ ТЮМЕНСКАЯ                                                          ОБЛ ТЮМЕНСКАЯ\n",
       "ОБЛ БЕЛГОРОДСКАЯ                                                    ОБЛ БЕЛГОРОДСКАЯ\n",
       "ХАНТЫ-МАНСИЙСКИЙ АО                                              ХАНТЫ-МАНСИЙСКИЙ АО\n",
       "ОБЛ КОСТРОМСКАЯ                                                      ОБЛ КОСТРОМСКАЯ\n",
       "РЕСП ХАКАСИЯ                                                            РЕСП ХАКАСИЯ\n",
       "РЕСПУБЛИКА ТАТАРСТАН                                            РЕСПУБЛИКА ТАТАРСТАН\n",
       "ИРКУТСКАЯ ОБЛАСТЬ                                                  ИРКУТСКАЯ ОБЛАСТЬ\n",
       "ОБЛ СВЕРДЛОВСКАЯ                                                    ОБЛ СВЕРДЛОВСКАЯ\n",
       "ОБЛ ПСКОВСКАЯ                                                          ОБЛ ПСКОВСКАЯ\n",
       "КРАЙ ЗАБАЙКАЛЬСКИЙ                                                КРАЙ ЗАБАЙКАЛЬСКИЙ\n",
       "ОБЛ НИЖЕГОРОДСКАЯ                                                  ОБЛ НИЖЕГОРОДСКАЯ\n",
       "СВЕРДЛОВСКАЯ ОБЛ                                                    СВЕРДЛОВСКАЯ ОБЛ\n",
       "ОБЛ ОРЕНБУРГСКАЯ                                                    ОБЛ ОРЕНБУРГСКАЯ\n",
       "ОБЛ ВОРОНЕЖСКАЯ                                                      ОБЛ ВОРОНЕЖСКАЯ\n",
       "ОБЛ АСТРАХАНСКАЯ                                                    ОБЛ АСТРАХАНСКАЯ\n",
       "ОРЕНБУРГСКАЯ ОБЛ                                                    ОРЕНБУРГСКАЯ ОБЛ\n",
       "КРАЙ СТАВРОПОЛЬСКИЙ                                              КРАЙ СТАВРОПОЛЬСКИЙ\n",
       "ТАТАРСТАН РЕСП                                                        ТАТАРСТАН РЕСП\n",
       "УЛЬЯНОВСКАЯ ОБЛ                                                      УЛЬЯНОВСКАЯ ОБЛ\n",
       "СТАВРОПОЛЬСКИЙ КРАЙ                                              СТАВРОПОЛЬСКИЙ КРАЙ\n",
       "РОСТОВСКАЯ ОБЛ                                                        РОСТОВСКАЯ ОБЛ\n",
       "ОБЛ НОВОСИБИРСКАЯ                                                  ОБЛ НОВОСИБИРСКАЯ\n",
       "ОБЛ МУРМАНСКАЯ                                                        ОБЛ МУРМАНСКАЯ\n",
       "ОБЛ АМУРСКАЯ                                                            ОБЛ АМУРСКАЯ\n",
       "МОСКВА Г                                                                    МОСКВА Г\n",
       "ХАБАРОВСКИЙ КРАЙ                                                    ХАБАРОВСКИЙ КРАЙ\n",
       "САНКТ-ПЕТЕРБУРГ Г                                                  САНКТ-ПЕТЕРБУРГ Г\n",
       "ЯМАЛО-НЕНЕЦКИЙ АО                                                  ЯМАЛО-НЕНЕЦКИЙ АО\n",
       "МОСКВА                                                                        МОСКВА\n",
       "ТВЕРСКАЯ ОБЛАСТЬ                                                    ТВЕРСКАЯ ОБЛАСТЬ\n",
       "ЯРОСЛАВСКАЯ ОБЛАСТЬ                                              ЯРОСЛАВСКАЯ ОБЛАСТЬ\n",
       "СВЕРДЛОВСКАЯ ОБЛАСТЬ                                            СВЕРДЛОВСКАЯ ОБЛАСТЬ\n",
       "ОБЛ САМАРСКАЯ                                                          ОБЛ САМАРСКАЯ\n",
       "ОБЛ ВЛАДИМИРСКАЯ                                                    ОБЛ ВЛАДИМИРСКАЯ\n",
       "ОБЛ ЛЕНИНГРАДСКАЯ                                                  ОБЛ ЛЕНИНГРАДСКАЯ\n",
       "ОБЛ КЕМЕРОВСКАЯ                                                      ОБЛ КЕМЕРОВСКАЯ\n",
       "ТЮМЕНСКАЯ ОБЛАСТЬ                                                  ТЮМЕНСКАЯ ОБЛАСТЬ\n",
       "КРАСНОЯРСКИЙ КРАЙ                                                  КРАСНОЯРСКИЙ КРАЙ\n",
       "ОМСКАЯ ОБЛ                                                                ОМСКАЯ ОБЛ\n",
       "ОБЛ КУРСКАЯ                                                              ОБЛ КУРСКАЯ\n",
       "ТУЛЬСКАЯ ОБЛ                                                            ТУЛЬСКАЯ ОБЛ\n",
       "РЕСПУБЛИКА КОМИ                                                      РЕСПУБЛИКА КОМИ\n",
       "ОБЛ ВОЛГОГРАДСКАЯ                                                  ОБЛ ВОЛГОГРАДСКАЯ\n",
       "ПРИМОРСКИЙ КРАЙ                                                      ПРИМОРСКИЙ КРАЙ\n",
       "ОРЛОВСКАЯ ОБЛ                                                          ОРЛОВСКАЯ ОБЛ\n",
       "ОБЛ КИРОВСКАЯ                                                          ОБЛ КИРОВСКАЯ\n",
       "САМАРСКАЯ ОБЛАСТЬ                                                  САМАРСКАЯ ОБЛАСТЬ\n",
       "ПЕНЗЕНСКАЯ ОБЛ                                                        ПЕНЗЕНСКАЯ ОБЛ\n",
       "ТВЕРСКАЯ ОБЛ                                                            ТВЕРСКАЯ ОБЛ\n",
       "УДМУРТСКАЯ РЕСПУБЛИКА                                          УДМУРТСКАЯ РЕСПУБЛИКА\n",
       "РЕСП КАРЕЛИЯ                                                            РЕСП КАРЕЛИЯ\n",
       "РЕСПУБЛИКА БУРЯТИЯ                                                РЕСПУБЛИКА БУРЯТИЯ\n",
       "ОБЛ МАГАДАНСКАЯ                                                      ОБЛ МАГАДАНСКАЯ\n",
       "РЕСП КОМИ                                                                  РЕСП КОМИ\n",
       "ОБЛ КАЛУЖСКАЯ                                                          ОБЛ КАЛУЖСКАЯ\n",
       "ТОМСКАЯ ОБЛАСТЬ                                                      ТОМСКАЯ ОБЛАСТЬ\n",
       "ОБЛ ИВАНОВСКАЯ                                                        ОБЛ ИВАНОВСКАЯ\n",
       "КРАЙ КРАСНОДАРСКИЙ                                                КРАЙ КРАСНОДАРСКИЙ\n",
       "САРАТОВСКАЯ ОБЛАСТЬ                                              САРАТОВСКАЯ ОБЛАСТЬ\n",
       "РЕСП. САХА (ЯКУТИЯ)                                              РЕСП. САХА (ЯКУТИЯ)\n",
       "ЕВРЕЙСКАЯ АОБЛ                                                        ЕВРЕЙСКАЯ АОБЛ\n",
       "ХАКАСИЯ РЕСП                                                            ХАКАСИЯ РЕСП\n",
       "ЧЕЛЯБИНСКАЯ ОБЛ                                                      ЧЕЛЯБИНСКАЯ ОБЛ\n",
       "САМАРСКАЯ ОБЛ                                                          САМАРСКАЯ ОБЛ\n",
       "КРАЙ АЛТАЙСКИЙ                                                        КРАЙ АЛТАЙСКИЙ\n",
       "РЕСП КАБАРДИНО-БАЛКАРСКАЯ                                  РЕСП КАБАРДИНО-БАЛКАРСКАЯ\n",
       "ТЮМЕНСКАЯ ОБЛ                                                          ТЮМЕНСКАЯ ОБЛ\n",
       "КРАЙ ПЕРМСКИЙ                                                          КРАЙ ПЕРМСКИЙ\n",
       "БАШКОРТОСТАН                                                            БАШКОРТОСТАН\n",
       "ОБЛ ТАМБОВСКАЯ                                                        ОБЛ ТАМБОВСКАЯ\n",
       "ТЫВА РЕСП                                                                  ТЫВА РЕСП\n",
       "ОБЛ НОВГОРОДСКАЯ                                                    ОБЛ НОВГОРОДСКАЯ\n",
       "ОБЛ КУРГАНСКАЯ                                                        ОБЛ КУРГАНСКАЯ\n",
       "ОБЛ ЛИПЕЦКАЯ                                                            ОБЛ ЛИПЕЦКАЯ\n",
       "РОСТОВСКАЯ ОБЛАСТЬ                                                РОСТОВСКАЯ ОБЛАСТЬ\n",
       "РЕСПУБЛИКА АДЫГЕЯ                                                  РЕСПУБЛИКА АДЫГЕЯ\n",
       "ТАМБОВСКАЯ ОБЛ                                                        ТАМБОВСКАЯ ОБЛ\n",
       "РЕСП СЕВЕРНАЯ ОСЕТИЯ - АЛАНИЯ                          РЕСП СЕВЕРНАЯ ОСЕТИЯ - АЛАНИЯ\n",
       "ПЕНЗЕНСКАЯ ОБЛАСТЬ                                                ПЕНЗЕНСКАЯ ОБЛАСТЬ\n",
       "ОБЛ ЧЕЛЯБИНСКАЯ                                                      ОБЛ ЧЕЛЯБИНСКАЯ\n",
       "УЛЬЯНОВСКАЯ ОБЛАСТЬ                                              УЛЬЯНОВСКАЯ ОБЛАСТЬ\n",
       "СМОЛЕНСКАЯ ОБЛ                                                        СМОЛЕНСКАЯ ОБЛ\n",
       "Г. САНКТ-ПЕТЕРБУРГ                                                Г. САНКТ-ПЕТЕРБУРГ\n",
       "ТОМСКАЯ ОБЛ                                                              ТОМСКАЯ ОБЛ\n",
       "ЧУВАШСКАЯ РЕСПУБЛИКА - ЧУВАШИЯ                        ЧУВАШСКАЯ РЕСПУБЛИКА - ЧУВАШИЯ\n",
       "no_info                                                                      no_info\n",
       "БАШКОРТОСТАН РЕСП                                                  БАШКОРТОСТАН РЕСП\n",
       "ЛЕНИНГРАДСКАЯ ОБЛ                                                  ЛЕНИНГРАДСКАЯ ОБЛ\n",
       "РЕСП МОРДОВИЯ                                                          РЕСП МОРДОВИЯ\n",
       "ТУЛЬСКАЯ ОБЛАСТЬ                                                    ТУЛЬСКАЯ ОБЛАСТЬ\n",
       "РЕСПУБЛИКА КАЛМЫКИЯ                                              РЕСПУБЛИКА КАЛМЫКИЯ\n",
       "РЕСП АЛТАЙ                                                                РЕСП АЛТАЙ\n",
       "РЕСП АДЫГЕЯ                                                              РЕСП АДЫГЕЯ\n",
       "ОБЛ БРЯНСКАЯ                                                            ОБЛ БРЯНСКАЯ\n",
       "ОМСКАЯ ОБЛАСТЬ                                                        ОМСКАЯ ОБЛАСТЬ\n",
       "РЕСП БУРЯТИЯ                                                            РЕСП БУРЯТИЯ\n",
       "РЕСП ТАТАРСТАН                                                        РЕСП ТАТАРСТАН\n",
       "КАБАРДИНО-БАЛКАРСКАЯ РЕСП                                  КАБАРДИНО-БАЛКАРСКАЯ РЕСП\n",
       "ЧУВАШСКАЯ РЕСПУБЛИКА                                            ЧУВАШСКАЯ РЕСПУБЛИКА\n",
       "АО ЯМАЛО-НЕНЕЦКИЙ                                                  АО ЯМАЛО-НЕНЕЦКИЙ\n",
       "ОБЛ ПЕНЗЕНСКАЯ                                                        ОБЛ ПЕНЗЕНСКАЯ\n",
       "РЕСП МАРИЙ ЭЛ                                                          РЕСП МАРИЙ ЭЛ\n",
       "САХАЛИНСКАЯ ОБЛ                                                      САХАЛИНСКАЯ ОБЛ\n",
       "КРАЙ КАМЧАТСКИЙ                                                      КРАЙ КАМЧАТСКИЙ\n",
       "ОРЕНБУРГСКАЯ ОБЛАСТЬ                                            ОРЕНБУРГСКАЯ ОБЛАСТЬ\n",
       "РЯЗАНСКАЯ ОБЛАСТЬ                                                  РЯЗАНСКАЯ ОБЛАСТЬ\n",
       "РЕСПУБЛИКА КАРЕЛИЯ                                                РЕСПУБЛИКА КАРЕЛИЯ\n",
       "ОБЛ КАЛИНИНГРАДСКАЯ                                              ОБЛ КАЛИНИНГРАДСКАЯ\n",
       "РЕСПУБЛИКА ТЫВА                                                      РЕСПУБЛИКА ТЫВА\n",
       "КРАЙ КРАСНОЯРСКИЙ                                                  КРАЙ КРАСНОЯРСКИЙ\n",
       "ОБЛ СМОЛЕНСКАЯ                                                        ОБЛ СМОЛЕНСКАЯ\n",
       "ОРЛОВСКАЯ ОБЛАСТЬ                                                  ОРЛОВСКАЯ ОБЛАСТЬ\n",
       "ОБЛ ТВЕРСКАЯ                                                            ОБЛ ТВЕРСКАЯ\n",
       "МУРМАНСКАЯ ОБЛ                                                        МУРМАНСКАЯ ОБЛ\n",
       "САХА /ЯКУТИЯ/ РЕСП                                                САХА /ЯКУТИЯ/ РЕСП\n",
       "ПСКОВСКАЯ ОБЛ                                                          ПСКОВСКАЯ ОБЛ\n",
       "РЯЗАНСКАЯ ОБЛ                                                          РЯЗАНСКАЯ ОБЛ\n",
       "ЯРОСЛАВСКАЯ ОБЛ                                                      ЯРОСЛАВСКАЯ ОБЛ\n",
       "ОБЛ ТУЛЬСКАЯ                                                            ОБЛ ТУЛЬСКАЯ\n",
       "ТАМБОВСКАЯ ОБЛАСТЬ                                                ТАМБОВСКАЯ ОБЛАСТЬ\n",
       "ОБЛ РОСТОВСКАЯ                                                        ОБЛ РОСТОВСКАЯ\n",
       "РЕСПУБЛИКА МАРИЙ ЭЛ                                              РЕСПУБЛИКА МАРИЙ ЭЛ\n",
       "АСТРАХАНСКАЯ ОБЛАСТЬ                                            АСТРАХАНСКАЯ ОБЛАСТЬ\n",
       "КУРСКАЯ ОБЛ                                                              КУРСКАЯ ОБЛ\n",
       "НИЖЕГОРОДСКАЯ ОБЛ                                                  НИЖЕГОРОДСКАЯ ОБЛ\n",
       "СЕВЕРНАЯ ОСЕТИЯ - АЛАНИЯ РЕСП                          СЕВЕРНАЯ ОСЕТИЯ - АЛАНИЯ РЕСП\n",
       "НОВОСИБИРСКАЯ ОБЛ                                                  НОВОСИБИРСКАЯ ОБЛ\n",
       "ЧУВАШСКАЯ - ЧУВАШИЯ РЕСП                                    ЧУВАШСКАЯ - ЧУВАШИЯ РЕСП\n",
       "РЕСП КАЛМЫКИЯ                                                          РЕСП КАЛМЫКИЯ\n",
       "РЕСПУБЛИКА МОРДОВИЯ                                              РЕСПУБЛИКА МОРДОВИЯ\n",
       "НЕНЕЦКИЙ АО                                                              НЕНЕЦКИЙ АО\n",
       "МОСКОВСКАЯ ОБЛАСТЬ                                                МОСКОВСКАЯ ОБЛАСТЬ\n",
       "САХАЛИНСКАЯ ОБЛАСТЬ                                              САХАЛИНСКАЯ ОБЛАСТЬ\n",
       "ПСКОВСКАЯ ОБЛАСТЬ                                                  ПСКОВСКАЯ ОБЛАСТЬ\n",
       "АРХАНГЕЛЬСКАЯ                                                          АРХАНГЕЛЬСКАЯ\n",
       "РЕСП САХА /ЯКУТИЯ/                                                РЕСП САХА /ЯКУТИЯ/\n",
       "БУРЯТИЯ РЕСП                                                            БУРЯТИЯ РЕСП\n",
       "АО ХАНТЫ-МАНСИЙСКИЙ АВТОНОМНЫЙ ОКРУГ - Ю    АО ХАНТЫ-МАНСИЙСКИЙ АВТОНОМНЫЙ ОКРУГ - Ю\n",
       "РЕСП ТЫВА                                                                  РЕСП ТЫВА\n",
       "НИЖЕГОРОДСКАЯ ОБЛАСТЬ                                          НИЖЕГОРОДСКАЯ ОБЛАСТЬ\n",
       "ПЕРМСКАЯ ОБЛ                                                            ПЕРМСКАЯ ОБЛ\n",
       "ОБЛ РЯЗАНСКАЯ                                                          ОБЛ РЯЗАНСКАЯ\n",
       "ЗАБАЙКАЛЬСКИЙ КРАЙ                                                ЗАБАЙКАЛЬСКИЙ КРАЙ\n",
       "КАБАРДИНО-БАЛКАРСКАЯ                                            КАБАРДИНО-БАЛКАРСКАЯ\n",
       "ОБЛ САРАТОВСКАЯ                                                      ОБЛ САРАТОВСКАЯ\n",
       "ОБЛ ЯРОСЛАВСКАЯ                                                      ОБЛ ЯРОСЛАВСКАЯ\n",
       "ВОЛОГОДСКАЯ ОБЛАСТЬ                                              ВОЛОГОДСКАЯ ОБЛАСТЬ\n",
       "МУРМАНСКАЯ ОБЛАСТЬ                                                МУРМАНСКАЯ ОБЛАСТЬ\n",
       "СМОЛЕНСКАЯ ОБЛАСТЬ                                                СМОЛЕНСКАЯ ОБЛАСТЬ\n",
       "ВОЛОГОДСКАЯ ОБЛ                                                      ВОЛОГОДСКАЯ ОБЛ\n",
       "КЕМЕРОВСКАЯ ОБЛАСТЬ                                              КЕМЕРОВСКАЯ ОБЛАСТЬ\n",
       "ВЛАДИМИРСКАЯ ОБЛ                                                    ВЛАДИМИРСКАЯ ОБЛ\n",
       "АСТРАХАНСКАЯ ОБЛ                                                    АСТРАХАНСКАЯ ОБЛ\n",
       "КУРСКАЯ ОБЛАСТЬ                                                      КУРСКАЯ ОБЛАСТЬ\n",
       "КЕМЕРОВСКАЯ ОБЛ                                                      КЕМЕРОВСКАЯ ОБЛ\n",
       "КУРГАНСКАЯ ОБЛАСТЬ                                                КУРГАНСКАЯ ОБЛАСТЬ\n",
       "ВОРОНЕЖСКАЯ ОБЛ                                                      ВОРОНЕЖСКАЯ ОБЛ\n",
       "ОБЛ САХАЛИНСКАЯ                                                      ОБЛ САХАЛИНСКАЯ\n",
       "БЕЛГОРОДСКАЯ ОБЛ                                                    БЕЛГОРОДСКАЯ ОБЛ\n",
       "ЛЕНИНГРАДСКАЯ ОБЛАСТЬ                                          ЛЕНИНГРАДСКАЯ ОБЛАСТЬ\n",
       "РОСТОВСКАЯ                                                                РОСТОВСКАЯ\n",
       "ВОЛГОГРАДСКАЯ ОБЛАСТЬ                                          ВОЛГОГРАДСКАЯ ОБЛАСТЬ\n",
       "ГОРЬКОВСКАЯ ОБЛ                                                      ГОРЬКОВСКАЯ ОБЛ\n",
       "НОВГОРОДСКАЯ ОБЛ                                                    НОВГОРОДСКАЯ ОБЛ\n",
       "КАЛИНИНГРАДСКАЯ ОБЛ                                              КАЛИНИНГРАДСКАЯ ОБЛ\n",
       "СЕВ. ОСЕТИЯ - АЛАНИЯ                                            СЕВ. ОСЕТИЯ - АЛАНИЯ\n",
       "РЕСП ДАГЕСТАН                                                          РЕСП ДАГЕСТАН\n",
       "САМАРСКАЯ                                                                  САМАРСКАЯ\n",
       "АСТРАХАНСКАЯ                                                            АСТРАХАНСКАЯ\n",
       "РЕСП УДМУРТСКАЯ                                                      РЕСП УДМУРТСКАЯ\n",
       "ВЛАДИМИРСКАЯ ОБЛАСТЬ                                            ВЛАДИМИРСКАЯ ОБЛАСТЬ\n",
       "ОБЛ ОРЛОВСКАЯ                                                          ОБЛ ОРЛОВСКАЯ\n",
       "ИРКУТСКАЯ ОБЛ                                                          ИРКУТСКАЯ ОБЛ\n",
       "КРАЙ ХАБАРОВСКИЙ                                                    КРАЙ ХАБАРОВСКИЙ\n",
       "ОБЛ ТОМСКАЯ                                                              ОБЛ ТОМСКАЯ\n",
       "ВОЛГОГРАДСКАЯ ОБЛ                                                  ВОЛГОГРАДСКАЯ ОБЛ\n",
       "ЧУВАШИЯ ЧУВАШСКАЯ РЕСПУБЛИКА -                        ЧУВАШИЯ ЧУВАШСКАЯ РЕСПУБЛИКА -\n",
       "КРАЙ ПРИМОРСКИЙ                                                      КРАЙ ПРИМОРСКИЙ\n",
       "АМУРСКАЯ ОБЛАСТЬ                                                    АМУРСКАЯ ОБЛАСТЬ\n",
       "БРЯНСКАЯ ОБЛ                                                            БРЯНСКАЯ ОБЛ\n",
       "ЧУКОТСКИЙ АО                                                            ЧУКОТСКИЙ АО\n",
       "ЧЕЧЕНСКАЯ РЕСПУБЛИКА                                            ЧЕЧЕНСКАЯ РЕСПУБЛИКА\n",
       "БЕЛГОРОДСКАЯ ОБЛАСТЬ                                            БЕЛГОРОДСКАЯ ОБЛАСТЬ\n",
       "КУРГАНСКАЯ ОБЛ                                                        КУРГАНСКАЯ ОБЛ\n",
       "КОМИ РЕСП                                                                  КОМИ РЕСП\n",
       "АДЫГЕЯ РЕСП                                                              АДЫГЕЯ РЕСП\n",
       "ОБЛ ОМСКАЯ                                                                ОБЛ ОМСКАЯ\n",
       "РОССИЯ                                                                        РОССИЯ\n",
       "РЕСП ЧЕЧЕНСКАЯ                                                        РЕСП ЧЕЧЕНСКАЯ\n",
       "МАРИЙ ЭЛ РЕСП                                                          МАРИЙ ЭЛ РЕСП\n",
       "КИРОВСКАЯ ОБЛ                                                          КИРОВСКАЯ ОБЛ\n",
       "ВОРОНЕЖСКАЯ ОБЛАСТЬ                                              ВОРОНЕЖСКАЯ ОБЛАСТЬ\n",
       "ЛЕНИНГРАДСКАЯ                                                          ЛЕНИНГРАДСКАЯ\n",
       "ЛИПЕЦКАЯ ОБЛ                                                            ЛИПЕЦКАЯ ОБЛ\n",
       "ОБЛ УЛЬЯНОВСКАЯ                                                      ОБЛ УЛЬЯНОВСКАЯ\n",
       "КОМИ                                                                            КОМИ\n",
       "КАЛУЖСКАЯ ОБЛ                                                          КАЛУЖСКАЯ ОБЛ\n",
       "ЧИТИНСКАЯ ОБЛ                                                          ЧИТИНСКАЯ ОБЛ\n",
       "КРАСНОДАРСКИЙ                                                          КРАСНОДАРСКИЙ\n",
       "РЕСП ИНГУШЕТИЯ                                                        РЕСП ИНГУШЕТИЯ\n",
       "БРЯНСКАЯ ОБЛАСТЬ                                                    БРЯНСКАЯ ОБЛАСТЬ\n",
       "МОРДОВИЯ РЕСП                                                          МОРДОВИЯ РЕСП\n",
       "Г. МОСКВА                                                                  Г. МОСКВА\n",
       "АМУРСКАЯ ОБЛ                                                            АМУРСКАЯ ОБЛ\n",
       "КАРАЧАЕВО-ЧЕРКЕССКАЯ РЕСП                                  КАРАЧАЕВО-ЧЕРКЕССКАЯ РЕСП\n",
       "98                                                                                98\n",
       "МЫТИЩИНСКИЙ Р-Н                                                      МЫТИЩИНСКИЙ Р-Н\n",
       "АРХАНГЕЛЬСКАЯ ОБЛ                                                  АРХАНГЕЛЬСКАЯ ОБЛ\n",
       "СТАВРОПОЛЬСКИЙ                                                        СТАВРОПОЛЬСКИЙ\n",
       "ИВАНОВСКАЯ ОБЛАСТЬ                                                ИВАНОВСКАЯ ОБЛАСТЬ\n",
       "ВОЛОГОДСКАЯ                                                              ВОЛОГОДСКАЯ\n",
       "РЕСПУБЛИКА ДАГЕСТАН                                              РЕСПУБЛИКА ДАГЕСТАН\n",
       "ИВАНОВСКАЯ ОБЛ                                                        ИВАНОВСКАЯ ОБЛ\n",
       "РЕСПУБЛИКА ХАКАСИЯ                                                РЕСПУБЛИКА ХАКАСИЯ\n",
       "ЧЕЧЕНСКАЯ РЕСП                                                        ЧЕЧЕНСКАЯ РЕСП\n",
       "КАЛУЖСКАЯ ОБЛАСТЬ                                                  КАЛУЖСКАЯ ОБЛАСТЬ\n",
       "МОСКОВСКАЯ                                                                МОСКОВСКАЯ\n",
       "ДАГЕСТАН РЕСП                                                          ДАГЕСТАН РЕСП\n",
       "ОБЛ.РОСТОВСКАЯ                                                        ОБЛ.РОСТОВСКАЯ\n",
       "ЛИПЕЦКАЯ ОБЛАСТЬ                                                    ЛИПЕЦКАЯ ОБЛАСТЬ\n",
       "ЕВРЕЙСКАЯ АВТОНОМНАЯ                                            ЕВРЕЙСКАЯ АВТОНОМНАЯ\n",
       "КАМЧАТСКАЯ ОБЛАСТЬ                                                КАМЧАТСКАЯ ОБЛАСТЬ\n",
       "РЕСПУБЛИКА АЛТАЙ                                                    РЕСПУБЛИКА АЛТАЙ\n",
       "АЛТАЙСКИЙ КРАЙ                                                        АЛТАЙСКИЙ КРАЙ\n",
       "НОВОСИБИРСКАЯ ОБЛАСТЬ                                          НОВОСИБИРСКАЯ ОБЛАСТЬ\n",
       "КОСТРОМСКАЯ ОБЛ                                                      КОСТРОМСКАЯ ОБЛ\n",
       "КАМЧАТСКИЙ КРАЙ                                                      КАМЧАТСКИЙ КРАЙ\n",
       "КАРЕЛИЯ РЕСП                                                            КАРЕЛИЯ РЕСП\n",
       "АРХАНГЕЛЬСКАЯ ОБЛАСТЬ                                          АРХАНГЕЛЬСКАЯ ОБЛАСТЬ\n",
       "АО НЕНЕЦКИЙ                                                              АО НЕНЕЦКИЙ\n",
       "БУРЯТИЯ                                                                      БУРЯТИЯ\n",
       "ИНГУШЕТИЯ РЕСП                                                        ИНГУШЕТИЯ РЕСП\n",
       "КИРОВСКАЯ ОБЛАСТЬ                                                  КИРОВСКАЯ ОБЛАСТЬ\n",
       "ОБЛ. МУРМАНСКАЯ                                                      ОБЛ. МУРМАНСКАЯ\n",
       "КАРЕЛИЯ                                                                      КАРЕЛИЯ\n",
       "ОБЛ. ЛИПЕЦКАЯ                                                          ОБЛ. ЛИПЕЦКАЯ\n",
       "НОВГОРОДСКАЯ ОБЛАСТЬ                                            НОВГОРОДСКАЯ ОБЛАСТЬ\n",
       "КАЛМЫКИЯ РЕСП                                                          КАЛМЫКИЯ РЕСП\n",
       "ОБЛ.НИЖЕГОРОДСКАЯ                                                  ОБЛ.НИЖЕГОРОДСКАЯ\n",
       "КОСТРОМСКАЯ ОБЛАСТЬ                                              КОСТРОМСКАЯ ОБЛАСТЬ\n",
       "АОБЛ ЕВРЕЙСКАЯ                                                        АОБЛ ЕВРЕЙСКАЯ\n",
       "СВЕРДЛОВСКАЯ                                                            СВЕРДЛОВСКАЯ\n",
       "ОБЛ.МОСКОВСКАЯ                                                        ОБЛ.МОСКОВСКАЯ\n",
       "ОБЛ.САРАТОВСКАЯ                                                      ОБЛ.САРАТОВСКАЯ\n",
       "Г МОСКВА                                                                    Г МОСКВА\n",
       "МАГАДАНСКАЯ ОБЛАСТЬ                                              МАГАДАНСКАЯ ОБЛАСТЬ\n",
       "ВОЛОГОДСКАЯ ОБЛ.                                                    ВОЛОГОДСКАЯ ОБЛ.\n",
       "ОБЛ. СВЕРДЛОВСКАЯ                                                  ОБЛ. СВЕРДЛОВСКАЯ\n",
       "КАРАЧАЕВО-ЧЕРКЕССКАЯ                                            КАРАЧАЕВО-ЧЕРКЕССКАЯ\n",
       "ОБЛ. ЧЕЛЯБИНСКАЯ                                                    ОБЛ. ЧЕЛЯБИНСКАЯ\n",
       "НОВОСИБИРСКАЯ                                                          НОВОСИБИРСКАЯ\n",
       "КРАЙ. ПЕРМСКИЙ                                                        КРАЙ. ПЕРМСКИЙ\n",
       "РЕСП ЧУВАШСКАЯ - ЧУВАШИЯ                                    РЕСП ЧУВАШСКАЯ - ЧУВАШИЯ\n",
       "ОБЛ. КИРОВСКАЯ                                                        ОБЛ. КИРОВСКАЯ\n",
       "КАЛИНИНГРАДСКАЯ ОБЛ.                                            КАЛИНИНГРАДСКАЯ ОБЛ.\n",
       "Name: regions, dtype: object"
      ]
     },
     "execution_count": 79,
     "metadata": {},
     "output_type": "execute_result"
    }
   ],
   "source": [
    "regions"
   ]
  },
  {
   "cell_type": "code",
   "execution_count": 80,
   "metadata": {},
   "outputs": [],
   "source": [
    "#Создадим стоп-слова\n",
    "stopwrds = set(['ОБЛ','ОБЛАСТЬ', 'РЕСП', 'РЕСПУБЛИКА', \n",
    "                'КРАЙ', 'Г', 'АО', 'АОБЛ', 'АВТОНОМНАЯ'])"
   ]
  },
  {
   "cell_type": "code",
   "execution_count": 81,
   "metadata": {},
   "outputs": [],
   "source": [
    "#Создадим функцию, которая будет удалять из записей точки и запятые и разбивать на отдельные слова, затем зададим проверку на наличие в stopwords\n",
    "def clean_region(x):\n",
    "    x = re.sub('[.,]+', ' ', str(x))\n",
    "    wrds = x.split(' ')\n",
    "    wrds_new = []\n",
    "    for w in wrds:\n",
    "        if not w in stopwrds:\n",
    "            wrds_new.append(w)\n",
    "    x = ''.join(wrds_new)\n",
    "    return x"
   ]
  },
  {
   "cell_type": "code",
   "execution_count": 82,
   "metadata": {},
   "outputs": [],
   "source": [
    "regions = regions.map(clean_region)"
   ]
  },
  {
   "cell_type": "code",
   "execution_count": 83,
   "metadata": {},
   "outputs": [
    {
     "data": {
      "text/plain": [
       "ЧЕЛЯБИНСКАЯ ОБЛАСТЬ                                                  ЧЕЛЯБИНСКАЯ\n",
       "МОСКОВСКАЯ ОБЛ                                                        МОСКОВСКАЯ\n",
       "САНКТ-ПЕТЕРБУРГ                                                  САНКТ-ПЕТЕРБУРГ\n",
       "РЕСП. БАШКОРТОСТАН                                                  БАШКОРТОСТАН\n",
       "ОБЛ АРХАНГЕЛЬСКАЯ                                                  АРХАНГЕЛЬСКАЯ\n",
       "РЕСП БАШКОРТОСТАН                                                   БАШКОРТОСТАН\n",
       "ПЕРМСКИЙ КРАЙ                                                           ПЕРМСКИЙ\n",
       "КРАСНОДАРСКИЙ КРАЙ                                                 КРАСНОДАРСКИЙ\n",
       "ХАНТЫ-МАНСИЙСКИЙ АВТОНОМНЫЙ ОКРУГ - ЮГРА    ХАНТЫ-МАНСИЙСКИЙАВТОНОМНЫЙОКРУГ-ЮГРА\n",
       "РЕСП КАРАЧАЕВО-ЧЕРКЕССКАЯ                                   КАРАЧАЕВО-ЧЕРКЕССКАЯ\n",
       "САРАТОВСКАЯ ОБЛ                                                      САРАТОВСКАЯ\n",
       "ОБЛ ВОЛОГОДСКАЯ                                                      ВОЛОГОДСКАЯ\n",
       "УДМУРТСКАЯ РЕСП                                                       УДМУРТСКАЯ\n",
       "ОБЛ ИРКУТСКАЯ                                                          ИРКУТСКАЯ\n",
       "ОБЛ МОСКОВСКАЯ                                                        МОСКОВСКАЯ\n",
       "ОБЛ ТЮМЕНСКАЯ                                                          ТЮМЕНСКАЯ\n",
       "ОБЛ БЕЛГОРОДСКАЯ                                                    БЕЛГОРОДСКАЯ\n",
       "ХАНТЫ-МАНСИЙСКИЙ АО                                             ХАНТЫ-МАНСИЙСКИЙ\n",
       "ОБЛ КОСТРОМСКАЯ                                                      КОСТРОМСКАЯ\n",
       "РЕСП ХАКАСИЯ                                                             ХАКАСИЯ\n",
       "РЕСПУБЛИКА ТАТАРСТАН                                                   ТАТАРСТАН\n",
       "ИРКУТСКАЯ ОБЛАСТЬ                                                      ИРКУТСКАЯ\n",
       "ОБЛ СВЕРДЛОВСКАЯ                                                    СВЕРДЛОВСКАЯ\n",
       "ОБЛ ПСКОВСКАЯ                                                          ПСКОВСКАЯ\n",
       "КРАЙ ЗАБАЙКАЛЬСКИЙ                                                 ЗАБАЙКАЛЬСКИЙ\n",
       "ОБЛ НИЖЕГОРОДСКАЯ                                                  НИЖЕГОРОДСКАЯ\n",
       "СВЕРДЛОВСКАЯ ОБЛ                                                    СВЕРДЛОВСКАЯ\n",
       "ОБЛ ОРЕНБУРГСКАЯ                                                    ОРЕНБУРГСКАЯ\n",
       "ОБЛ ВОРОНЕЖСКАЯ                                                      ВОРОНЕЖСКАЯ\n",
       "ОБЛ АСТРАХАНСКАЯ                                                    АСТРАХАНСКАЯ\n",
       "ОРЕНБУРГСКАЯ ОБЛ                                                    ОРЕНБУРГСКАЯ\n",
       "КРАЙ СТАВРОПОЛЬСКИЙ                                               СТАВРОПОЛЬСКИЙ\n",
       "ТАТАРСТАН РЕСП                                                         ТАТАРСТАН\n",
       "УЛЬЯНОВСКАЯ ОБЛ                                                      УЛЬЯНОВСКАЯ\n",
       "СТАВРОПОЛЬСКИЙ КРАЙ                                               СТАВРОПОЛЬСКИЙ\n",
       "РОСТОВСКАЯ ОБЛ                                                        РОСТОВСКАЯ\n",
       "ОБЛ НОВОСИБИРСКАЯ                                                  НОВОСИБИРСКАЯ\n",
       "ОБЛ МУРМАНСКАЯ                                                        МУРМАНСКАЯ\n",
       "ОБЛ АМУРСКАЯ                                                            АМУРСКАЯ\n",
       "МОСКВА Г                                                                  МОСКВА\n",
       "ХАБАРОВСКИЙ КРАЙ                                                     ХАБАРОВСКИЙ\n",
       "САНКТ-ПЕТЕРБУРГ Г                                                САНКТ-ПЕТЕРБУРГ\n",
       "ЯМАЛО-НЕНЕЦКИЙ АО                                                 ЯМАЛО-НЕНЕЦКИЙ\n",
       "МОСКВА                                                                    МОСКВА\n",
       "ТВЕРСКАЯ ОБЛАСТЬ                                                        ТВЕРСКАЯ\n",
       "ЯРОСЛАВСКАЯ ОБЛАСТЬ                                                  ЯРОСЛАВСКАЯ\n",
       "СВЕРДЛОВСКАЯ ОБЛАСТЬ                                                СВЕРДЛОВСКАЯ\n",
       "ОБЛ САМАРСКАЯ                                                          САМАРСКАЯ\n",
       "ОБЛ ВЛАДИМИРСКАЯ                                                    ВЛАДИМИРСКАЯ\n",
       "ОБЛ ЛЕНИНГРАДСКАЯ                                                  ЛЕНИНГРАДСКАЯ\n",
       "ОБЛ КЕМЕРОВСКАЯ                                                      КЕМЕРОВСКАЯ\n",
       "ТЮМЕНСКАЯ ОБЛАСТЬ                                                      ТЮМЕНСКАЯ\n",
       "КРАСНОЯРСКИЙ КРАЙ                                                   КРАСНОЯРСКИЙ\n",
       "ОМСКАЯ ОБЛ                                                                ОМСКАЯ\n",
       "ОБЛ КУРСКАЯ                                                              КУРСКАЯ\n",
       "ТУЛЬСКАЯ ОБЛ                                                            ТУЛЬСКАЯ\n",
       "РЕСПУБЛИКА КОМИ                                                             КОМИ\n",
       "ОБЛ ВОЛГОГРАДСКАЯ                                                  ВОЛГОГРАДСКАЯ\n",
       "ПРИМОРСКИЙ КРАЙ                                                       ПРИМОРСКИЙ\n",
       "ОРЛОВСКАЯ ОБЛ                                                          ОРЛОВСКАЯ\n",
       "ОБЛ КИРОВСКАЯ                                                          КИРОВСКАЯ\n",
       "САМАРСКАЯ ОБЛАСТЬ                                                      САМАРСКАЯ\n",
       "ПЕНЗЕНСКАЯ ОБЛ                                                        ПЕНЗЕНСКАЯ\n",
       "ТВЕРСКАЯ ОБЛ                                                            ТВЕРСКАЯ\n",
       "УДМУРТСКАЯ РЕСПУБЛИКА                                                 УДМУРТСКАЯ\n",
       "РЕСП КАРЕЛИЯ                                                             КАРЕЛИЯ\n",
       "РЕСПУБЛИКА БУРЯТИЯ                                                       БУРЯТИЯ\n",
       "ОБЛ МАГАДАНСКАЯ                                                      МАГАДАНСКАЯ\n",
       "РЕСП КОМИ                                                                   КОМИ\n",
       "ОБЛ КАЛУЖСКАЯ                                                          КАЛУЖСКАЯ\n",
       "ТОМСКАЯ ОБЛАСТЬ                                                          ТОМСКАЯ\n",
       "ОБЛ ИВАНОВСКАЯ                                                        ИВАНОВСКАЯ\n",
       "КРАЙ КРАСНОДАРСКИЙ                                                 КРАСНОДАРСКИЙ\n",
       "САРАТОВСКАЯ ОБЛАСТЬ                                                  САРАТОВСКАЯ\n",
       "РЕСП. САХА (ЯКУТИЯ)                                                 САХА(ЯКУТИЯ)\n",
       "ЕВРЕЙСКАЯ АОБЛ                                                         ЕВРЕЙСКАЯ\n",
       "ХАКАСИЯ РЕСП                                                             ХАКАСИЯ\n",
       "ЧЕЛЯБИНСКАЯ ОБЛ                                                      ЧЕЛЯБИНСКАЯ\n",
       "САМАРСКАЯ ОБЛ                                                          САМАРСКАЯ\n",
       "КРАЙ АЛТАЙСКИЙ                                                         АЛТАЙСКИЙ\n",
       "РЕСП КАБАРДИНО-БАЛКАРСКАЯ                                   КАБАРДИНО-БАЛКАРСКАЯ\n",
       "ТЮМЕНСКАЯ ОБЛ                                                          ТЮМЕНСКАЯ\n",
       "КРАЙ ПЕРМСКИЙ                                                           ПЕРМСКИЙ\n",
       "БАШКОРТОСТАН                                                        БАШКОРТОСТАН\n",
       "ОБЛ ТАМБОВСКАЯ                                                        ТАМБОВСКАЯ\n",
       "ТЫВА РЕСП                                                                   ТЫВА\n",
       "ОБЛ НОВГОРОДСКАЯ                                                    НОВГОРОДСКАЯ\n",
       "ОБЛ КУРГАНСКАЯ                                                        КУРГАНСКАЯ\n",
       "ОБЛ ЛИПЕЦКАЯ                                                            ЛИПЕЦКАЯ\n",
       "РОСТОВСКАЯ ОБЛАСТЬ                                                    РОСТОВСКАЯ\n",
       "РЕСПУБЛИКА АДЫГЕЯ                                                         АДЫГЕЯ\n",
       "ТАМБОВСКАЯ ОБЛ                                                        ТАМБОВСКАЯ\n",
       "РЕСП СЕВЕРНАЯ ОСЕТИЯ - АЛАНИЯ                              СЕВЕРНАЯОСЕТИЯ-АЛАНИЯ\n",
       "ПЕНЗЕНСКАЯ ОБЛАСТЬ                                                    ПЕНЗЕНСКАЯ\n",
       "ОБЛ ЧЕЛЯБИНСКАЯ                                                      ЧЕЛЯБИНСКАЯ\n",
       "УЛЬЯНОВСКАЯ ОБЛАСТЬ                                                  УЛЬЯНОВСКАЯ\n",
       "СМОЛЕНСКАЯ ОБЛ                                                        СМОЛЕНСКАЯ\n",
       "Г. САНКТ-ПЕТЕРБУРГ                                               САНКТ-ПЕТЕРБУРГ\n",
       "ТОМСКАЯ ОБЛ                                                              ТОМСКАЯ\n",
       "ЧУВАШСКАЯ РЕСПУБЛИКА - ЧУВАШИЯ                                 ЧУВАШСКАЯ-ЧУВАШИЯ\n",
       "no_info                                                                  no_info\n",
       "БАШКОРТОСТАН РЕСП                                                   БАШКОРТОСТАН\n",
       "ЛЕНИНГРАДСКАЯ ОБЛ                                                  ЛЕНИНГРАДСКАЯ\n",
       "РЕСП МОРДОВИЯ                                                           МОРДОВИЯ\n",
       "ТУЛЬСКАЯ ОБЛАСТЬ                                                        ТУЛЬСКАЯ\n",
       "РЕСПУБЛИКА КАЛМЫКИЯ                                                     КАЛМЫКИЯ\n",
       "РЕСП АЛТАЙ                                                                 АЛТАЙ\n",
       "РЕСП АДЫГЕЯ                                                               АДЫГЕЯ\n",
       "ОБЛ БРЯНСКАЯ                                                            БРЯНСКАЯ\n",
       "ОМСКАЯ ОБЛАСТЬ                                                            ОМСКАЯ\n",
       "РЕСП БУРЯТИЯ                                                             БУРЯТИЯ\n",
       "РЕСП ТАТАРСТАН                                                         ТАТАРСТАН\n",
       "КАБАРДИНО-БАЛКАРСКАЯ РЕСП                                   КАБАРДИНО-БАЛКАРСКАЯ\n",
       "ЧУВАШСКАЯ РЕСПУБЛИКА                                                   ЧУВАШСКАЯ\n",
       "АО ЯМАЛО-НЕНЕЦКИЙ                                                 ЯМАЛО-НЕНЕЦКИЙ\n",
       "ОБЛ ПЕНЗЕНСКАЯ                                                        ПЕНЗЕНСКАЯ\n",
       "РЕСП МАРИЙ ЭЛ                                                            МАРИЙЭЛ\n",
       "САХАЛИНСКАЯ ОБЛ                                                      САХАЛИНСКАЯ\n",
       "КРАЙ КАМЧАТСКИЙ                                                       КАМЧАТСКИЙ\n",
       "ОРЕНБУРГСКАЯ ОБЛАСТЬ                                                ОРЕНБУРГСКАЯ\n",
       "РЯЗАНСКАЯ ОБЛАСТЬ                                                      РЯЗАНСКАЯ\n",
       "РЕСПУБЛИКА КАРЕЛИЯ                                                       КАРЕЛИЯ\n",
       "ОБЛ КАЛИНИНГРАДСКАЯ                                              КАЛИНИНГРАДСКАЯ\n",
       "РЕСПУБЛИКА ТЫВА                                                             ТЫВА\n",
       "КРАЙ КРАСНОЯРСКИЙ                                                   КРАСНОЯРСКИЙ\n",
       "ОБЛ СМОЛЕНСКАЯ                                                        СМОЛЕНСКАЯ\n",
       "ОРЛОВСКАЯ ОБЛАСТЬ                                                      ОРЛОВСКАЯ\n",
       "ОБЛ ТВЕРСКАЯ                                                            ТВЕРСКАЯ\n",
       "МУРМАНСКАЯ ОБЛ                                                        МУРМАНСКАЯ\n",
       "САХА /ЯКУТИЯ/ РЕСП                                                  САХА/ЯКУТИЯ/\n",
       "ПСКОВСКАЯ ОБЛ                                                          ПСКОВСКАЯ\n",
       "РЯЗАНСКАЯ ОБЛ                                                          РЯЗАНСКАЯ\n",
       "ЯРОСЛАВСКАЯ ОБЛ                                                      ЯРОСЛАВСКАЯ\n",
       "ОБЛ ТУЛЬСКАЯ                                                            ТУЛЬСКАЯ\n",
       "ТАМБОВСКАЯ ОБЛАСТЬ                                                    ТАМБОВСКАЯ\n",
       "ОБЛ РОСТОВСКАЯ                                                        РОСТОВСКАЯ\n",
       "РЕСПУБЛИКА МАРИЙ ЭЛ                                                      МАРИЙЭЛ\n",
       "АСТРАХАНСКАЯ ОБЛАСТЬ                                                АСТРАХАНСКАЯ\n",
       "КУРСКАЯ ОБЛ                                                              КУРСКАЯ\n",
       "НИЖЕГОРОДСКАЯ ОБЛ                                                  НИЖЕГОРОДСКАЯ\n",
       "СЕВЕРНАЯ ОСЕТИЯ - АЛАНИЯ РЕСП                              СЕВЕРНАЯОСЕТИЯ-АЛАНИЯ\n",
       "НОВОСИБИРСКАЯ ОБЛ                                                  НОВОСИБИРСКАЯ\n",
       "ЧУВАШСКАЯ - ЧУВАШИЯ РЕСП                                       ЧУВАШСКАЯ-ЧУВАШИЯ\n",
       "РЕСП КАЛМЫКИЯ                                                           КАЛМЫКИЯ\n",
       "РЕСПУБЛИКА МОРДОВИЯ                                                     МОРДОВИЯ\n",
       "НЕНЕЦКИЙ АО                                                             НЕНЕЦКИЙ\n",
       "МОСКОВСКАЯ ОБЛАСТЬ                                                    МОСКОВСКАЯ\n",
       "САХАЛИНСКАЯ ОБЛАСТЬ                                                  САХАЛИНСКАЯ\n",
       "ПСКОВСКАЯ ОБЛАСТЬ                                                      ПСКОВСКАЯ\n",
       "АРХАНГЕЛЬСКАЯ                                                      АРХАНГЕЛЬСКАЯ\n",
       "РЕСП САХА /ЯКУТИЯ/                                                  САХА/ЯКУТИЯ/\n",
       "БУРЯТИЯ РЕСП                                                             БУРЯТИЯ\n",
       "АО ХАНТЫ-МАНСИЙСКИЙ АВТОНОМНЫЙ ОКРУГ - Ю       ХАНТЫ-МАНСИЙСКИЙАВТОНОМНЫЙОКРУГ-Ю\n",
       "РЕСП ТЫВА                                                                   ТЫВА\n",
       "НИЖЕГОРОДСКАЯ ОБЛАСТЬ                                              НИЖЕГОРОДСКАЯ\n",
       "ПЕРМСКАЯ ОБЛ                                                            ПЕРМСКАЯ\n",
       "ОБЛ РЯЗАНСКАЯ                                                          РЯЗАНСКАЯ\n",
       "ЗАБАЙКАЛЬСКИЙ КРАЙ                                                 ЗАБАЙКАЛЬСКИЙ\n",
       "КАБАРДИНО-БАЛКАРСКАЯ                                        КАБАРДИНО-БАЛКАРСКАЯ\n",
       "ОБЛ САРАТОВСКАЯ                                                      САРАТОВСКАЯ\n",
       "ОБЛ ЯРОСЛАВСКАЯ                                                      ЯРОСЛАВСКАЯ\n",
       "ВОЛОГОДСКАЯ ОБЛАСТЬ                                                  ВОЛОГОДСКАЯ\n",
       "МУРМАНСКАЯ ОБЛАСТЬ                                                    МУРМАНСКАЯ\n",
       "СМОЛЕНСКАЯ ОБЛАСТЬ                                                    СМОЛЕНСКАЯ\n",
       "ВОЛОГОДСКАЯ ОБЛ                                                      ВОЛОГОДСКАЯ\n",
       "КЕМЕРОВСКАЯ ОБЛАСТЬ                                                  КЕМЕРОВСКАЯ\n",
       "ВЛАДИМИРСКАЯ ОБЛ                                                    ВЛАДИМИРСКАЯ\n",
       "АСТРАХАНСКАЯ ОБЛ                                                    АСТРАХАНСКАЯ\n",
       "КУРСКАЯ ОБЛАСТЬ                                                          КУРСКАЯ\n",
       "КЕМЕРОВСКАЯ ОБЛ                                                      КЕМЕРОВСКАЯ\n",
       "КУРГАНСКАЯ ОБЛАСТЬ                                                    КУРГАНСКАЯ\n",
       "ВОРОНЕЖСКАЯ ОБЛ                                                      ВОРОНЕЖСКАЯ\n",
       "ОБЛ САХАЛИНСКАЯ                                                      САХАЛИНСКАЯ\n",
       "БЕЛГОРОДСКАЯ ОБЛ                                                    БЕЛГОРОДСКАЯ\n",
       "ЛЕНИНГРАДСКАЯ ОБЛАСТЬ                                              ЛЕНИНГРАДСКАЯ\n",
       "РОСТОВСКАЯ                                                            РОСТОВСКАЯ\n",
       "ВОЛГОГРАДСКАЯ ОБЛАСТЬ                                              ВОЛГОГРАДСКАЯ\n",
       "ГОРЬКОВСКАЯ ОБЛ                                                      ГОРЬКОВСКАЯ\n",
       "НОВГОРОДСКАЯ ОБЛ                                                    НОВГОРОДСКАЯ\n",
       "КАЛИНИНГРАДСКАЯ ОБЛ                                              КАЛИНИНГРАДСКАЯ\n",
       "СЕВ. ОСЕТИЯ - АЛАНИЯ                                            СЕВОСЕТИЯ-АЛАНИЯ\n",
       "РЕСП ДАГЕСТАН                                                           ДАГЕСТАН\n",
       "САМАРСКАЯ                                                              САМАРСКАЯ\n",
       "АСТРАХАНСКАЯ                                                        АСТРАХАНСКАЯ\n",
       "РЕСП УДМУРТСКАЯ                                                       УДМУРТСКАЯ\n",
       "ВЛАДИМИРСКАЯ ОБЛАСТЬ                                                ВЛАДИМИРСКАЯ\n",
       "ОБЛ ОРЛОВСКАЯ                                                          ОРЛОВСКАЯ\n",
       "ИРКУТСКАЯ ОБЛ                                                          ИРКУТСКАЯ\n",
       "КРАЙ ХАБАРОВСКИЙ                                                     ХАБАРОВСКИЙ\n",
       "ОБЛ ТОМСКАЯ                                                              ТОМСКАЯ\n",
       "ВОЛГОГРАДСКАЯ ОБЛ                                                  ВОЛГОГРАДСКАЯ\n",
       "ЧУВАШИЯ ЧУВАШСКАЯ РЕСПУБЛИКА -                                 ЧУВАШИЯЧУВАШСКАЯ-\n",
       "КРАЙ ПРИМОРСКИЙ                                                       ПРИМОРСКИЙ\n",
       "АМУРСКАЯ ОБЛАСТЬ                                                        АМУРСКАЯ\n",
       "БРЯНСКАЯ ОБЛ                                                            БРЯНСКАЯ\n",
       "ЧУКОТСКИЙ АО                                                           ЧУКОТСКИЙ\n",
       "ЧЕЧЕНСКАЯ РЕСПУБЛИКА                                                   ЧЕЧЕНСКАЯ\n",
       "БЕЛГОРОДСКАЯ ОБЛАСТЬ                                                БЕЛГОРОДСКАЯ\n",
       "КУРГАНСКАЯ ОБЛ                                                        КУРГАНСКАЯ\n",
       "КОМИ РЕСП                                                                   КОМИ\n",
       "АДЫГЕЯ РЕСП                                                               АДЫГЕЯ\n",
       "ОБЛ ОМСКАЯ                                                                ОМСКАЯ\n",
       "РОССИЯ                                                                    РОССИЯ\n",
       "РЕСП ЧЕЧЕНСКАЯ                                                         ЧЕЧЕНСКАЯ\n",
       "МАРИЙ ЭЛ РЕСП                                                            МАРИЙЭЛ\n",
       "КИРОВСКАЯ ОБЛ                                                          КИРОВСКАЯ\n",
       "ВОРОНЕЖСКАЯ ОБЛАСТЬ                                                  ВОРОНЕЖСКАЯ\n",
       "ЛЕНИНГРАДСКАЯ                                                      ЛЕНИНГРАДСКАЯ\n",
       "ЛИПЕЦКАЯ ОБЛ                                                            ЛИПЕЦКАЯ\n",
       "ОБЛ УЛЬЯНОВСКАЯ                                                      УЛЬЯНОВСКАЯ\n",
       "КОМИ                                                                        КОМИ\n",
       "КАЛУЖСКАЯ ОБЛ                                                          КАЛУЖСКАЯ\n",
       "ЧИТИНСКАЯ ОБЛ                                                          ЧИТИНСКАЯ\n",
       "КРАСНОДАРСКИЙ                                                      КРАСНОДАРСКИЙ\n",
       "РЕСП ИНГУШЕТИЯ                                                         ИНГУШЕТИЯ\n",
       "БРЯНСКАЯ ОБЛАСТЬ                                                        БРЯНСКАЯ\n",
       "МОРДОВИЯ РЕСП                                                           МОРДОВИЯ\n",
       "Г. МОСКВА                                                                 МОСКВА\n",
       "АМУРСКАЯ ОБЛ                                                            АМУРСКАЯ\n",
       "КАРАЧАЕВО-ЧЕРКЕССКАЯ РЕСП                                   КАРАЧАЕВО-ЧЕРКЕССКАЯ\n",
       "98                                                                            98\n",
       "МЫТИЩИНСКИЙ Р-Н                                                   МЫТИЩИНСКИЙР-Н\n",
       "АРХАНГЕЛЬСКАЯ ОБЛ                                                  АРХАНГЕЛЬСКАЯ\n",
       "СТАВРОПОЛЬСКИЙ                                                    СТАВРОПОЛЬСКИЙ\n",
       "ИВАНОВСКАЯ ОБЛАСТЬ                                                    ИВАНОВСКАЯ\n",
       "ВОЛОГОДСКАЯ                                                          ВОЛОГОДСКАЯ\n",
       "РЕСПУБЛИКА ДАГЕСТАН                                                     ДАГЕСТАН\n",
       "ИВАНОВСКАЯ ОБЛ                                                        ИВАНОВСКАЯ\n",
       "РЕСПУБЛИКА ХАКАСИЯ                                                       ХАКАСИЯ\n",
       "ЧЕЧЕНСКАЯ РЕСП                                                         ЧЕЧЕНСКАЯ\n",
       "КАЛУЖСКАЯ ОБЛАСТЬ                                                      КАЛУЖСКАЯ\n",
       "МОСКОВСКАЯ                                                            МОСКОВСКАЯ\n",
       "ДАГЕСТАН РЕСП                                                           ДАГЕСТАН\n",
       "ОБЛ.РОСТОВСКАЯ                                                        РОСТОВСКАЯ\n",
       "ЛИПЕЦКАЯ ОБЛАСТЬ                                                        ЛИПЕЦКАЯ\n",
       "ЕВРЕЙСКАЯ АВТОНОМНАЯ                                                   ЕВРЕЙСКАЯ\n",
       "КАМЧАТСКАЯ ОБЛАСТЬ                                                    КАМЧАТСКАЯ\n",
       "РЕСПУБЛИКА АЛТАЙ                                                           АЛТАЙ\n",
       "АЛТАЙСКИЙ КРАЙ                                                         АЛТАЙСКИЙ\n",
       "НОВОСИБИРСКАЯ ОБЛАСТЬ                                              НОВОСИБИРСКАЯ\n",
       "КОСТРОМСКАЯ ОБЛ                                                      КОСТРОМСКАЯ\n",
       "КАМЧАТСКИЙ КРАЙ                                                       КАМЧАТСКИЙ\n",
       "КАРЕЛИЯ РЕСП                                                             КАРЕЛИЯ\n",
       "АРХАНГЕЛЬСКАЯ ОБЛАСТЬ                                              АРХАНГЕЛЬСКАЯ\n",
       "АО НЕНЕЦКИЙ                                                             НЕНЕЦКИЙ\n",
       "БУРЯТИЯ                                                                  БУРЯТИЯ\n",
       "ИНГУШЕТИЯ РЕСП                                                         ИНГУШЕТИЯ\n",
       "КИРОВСКАЯ ОБЛАСТЬ                                                      КИРОВСКАЯ\n",
       "ОБЛ. МУРМАНСКАЯ                                                       МУРМАНСКАЯ\n",
       "КАРЕЛИЯ                                                                  КАРЕЛИЯ\n",
       "ОБЛ. ЛИПЕЦКАЯ                                                           ЛИПЕЦКАЯ\n",
       "НОВГОРОДСКАЯ ОБЛАСТЬ                                                НОВГОРОДСКАЯ\n",
       "КАЛМЫКИЯ РЕСП                                                           КАЛМЫКИЯ\n",
       "ОБЛ.НИЖЕГОРОДСКАЯ                                                  НИЖЕГОРОДСКАЯ\n",
       "КОСТРОМСКАЯ ОБЛАСТЬ                                                  КОСТРОМСКАЯ\n",
       "АОБЛ ЕВРЕЙСКАЯ                                                         ЕВРЕЙСКАЯ\n",
       "СВЕРДЛОВСКАЯ                                                        СВЕРДЛОВСКАЯ\n",
       "ОБЛ.МОСКОВСКАЯ                                                        МОСКОВСКАЯ\n",
       "ОБЛ.САРАТОВСКАЯ                                                      САРАТОВСКАЯ\n",
       "Г МОСКВА                                                                  МОСКВА\n",
       "МАГАДАНСКАЯ ОБЛАСТЬ                                                  МАГАДАНСКАЯ\n",
       "ВОЛОГОДСКАЯ ОБЛ.                                                     ВОЛОГОДСКАЯ\n",
       "ОБЛ. СВЕРДЛОВСКАЯ                                                   СВЕРДЛОВСКАЯ\n",
       "КАРАЧАЕВО-ЧЕРКЕССКАЯ                                        КАРАЧАЕВО-ЧЕРКЕССКАЯ\n",
       "ОБЛ. ЧЕЛЯБИНСКАЯ                                                     ЧЕЛЯБИНСКАЯ\n",
       "НОВОСИБИРСКАЯ                                                      НОВОСИБИРСКАЯ\n",
       "КРАЙ. ПЕРМСКИЙ                                                          ПЕРМСКИЙ\n",
       "РЕСП ЧУВАШСКАЯ - ЧУВАШИЯ                                       ЧУВАШСКАЯ-ЧУВАШИЯ\n",
       "ОБЛ. КИРОВСКАЯ                                                         КИРОВСКАЯ\n",
       "КАЛИНИНГРАДСКАЯ ОБЛ.                                             КАЛИНИНГРАДСКАЯ\n",
       "Name: regions, dtype: object"
      ]
     },
     "execution_count": 83,
     "metadata": {},
     "output_type": "execute_result"
    }
   ],
   "source": [
    "regions"
   ]
  },
  {
   "cell_type": "code",
   "execution_count": 84,
   "metadata": {},
   "outputs": [],
   "source": [
    "regions['ЧУКОТСКИЙ АO'] = 'ЧУКОТСКИЙ'\n",
    "regions['ЧУВАШСКАЯ РЕСПУБЛИКА - ЧУВАШИЯ'] = 'ЧУВАШСКАЯ'\n",
    "regions['ЧУВАШИЯ ЧУВАШСКАЯ РЕСПУБЛИКА -'] = 'ЧУВАШСКАЯ'\n",
    "regions['ЧУВАШСКАЯ - ЧУВАШИЯ РЕСП'] = 'ЧУВАШСКАЯ'\n",
    "regions['РЕСП ЧУВАШСКАЯ - ЧУВАШИЯ'] = 'ЧУВАШСКАЯ'\n",
    "regions['ЧУВАШСКАЯ - ЧУВАШИЯ РЕСП'] = 'ЧУВАШСКАЯ'\n",
    "regions['РЕСПУБЛИКАТАТАРСТАН'] = 'ТАТАРСТАН'\n",
    "regions['ПРИВОЛЖСКИЙ ФЕДЕРАЛЬНЫЙ ОКРУГ'] = 'МОСКОВСКАЯ'\n",
    "regions['ПЕРМСКАЯ ОБЛ'] = 'ПЕРМСКИЙ'\n",
    "regions['ОРЁЛ'] = 'ОРЛОВСКАЯ'\n",
    "regions['Г.ОДИНЦОВО МОСКОВСКАЯ ОБЛ'] = 'МОСКОВСКАЯ'\n",
    "regions['МЫТИЩИНСКИЙ Р-Н'] = 'МОСКОВСКАЯ'\n",
    "regions['МОСКОВСКИЙ П'] = 'МОСКОВСКАЯ'\n",
    "regions['КАМЧАТСКАЯ ОБЛАСТЬ'] = 'КАМЧАТСКИЙ'\n",
    "regions['ДАЛЬНИЙ ВОСТОК'] = 'МОСКОВСКАЯ'\n",
    "regions['ДАЛЬНИЙВОСТОК'] = 'МОСКОВСКАЯ'\n",
    "regions['ГУСЬ-ХРУСТАЛЬНЫЙ Р-Н'] = 'ВЛАДИМИРСКАЯ'\n",
    "regions['ГОРЬКОВСКАЯ ОБЛ'] = 'НИЖЕГОРОДСКАЯ'\n",
    "regions['ЭВЕНКИЙСКИЙ АО'] = 'КРАСНОЯРСКИЙ'\n",
    "regions['ХАНТЫ-МАНСИЙСКИЙ АВТОНОМНЫЙ ОКРУГ - ЮГРА'] = 'ХАНТЫ-МАНСИЙСКИЙ'\n",
    "regions['АО ХАНТЫ-МАНСИЙСКИЙ АВТОНОМНЫЙ ОКРУГ - Ю'] = 'ХАНТЫ-МАНСИЙСКИЙ'\n",
    "regions['АО ХАНТЫ-МАНСИЙСКИЙ-ЮГРА'] = 'ХАНТЫ-МАНСИЙСКИЙ'\n",
    "regions['СЕВ. ОСЕТИЯ - АЛАНИЯ'] = 'СЕВЕРНАЯОСЕТИЯ-АЛАНИЯ'\n",
    "regions['РЕСП. САХА (ЯКУТИЯ)'] ='САХА/ЯКУТИЯ/'\n",
    "regions['РЕСПУБЛИКА САХА'] = 'САХА/ЯКУТИЯ/'\n",
    "regions['ДАЛЬНИЙВОСТОК'] = 'МОСКОВСКАЯ'\n",
    "regions['САХА'] = 'САХА/ЯКУТИЯ/'\n",
    "regions['98'] = 'САНКТ-ПЕТЕРБУРГ'\n",
    "regions['74'] = 'ЧЕЛЯБИНСКАЯ'\n",
    "regions['РОССИЯ'] = 'МОСКОВСКАЯ'\n",
    "regions['МОСКВОСКАЯ'] = 'МОСКОВСКАЯ'\n",
    "regions['МОСКВОСКАЯ ОБЛ'] = 'МОСКОВСКАЯ'\n",
    "regions['ЧЕЛЯБИНСК'] = 'ЧЕЛЯБИНСКАЯ'\n",
    "regions['Г. ЧЕЛЯБИНСК'] = 'ЧЕЛЯБИНСКАЯ'\n",
    "regions['БРЯНСКИЙ'] = 'БРЯНСКАЯ'"
   ]
  },
  {
   "cell_type": "code",
   "execution_count": 85,
   "metadata": {},
   "outputs": [
    {
     "data": {
      "text/plain": [
       "85"
      ]
     },
     "execution_count": 85,
     "metadata": {},
     "output_type": "execute_result"
    }
   ],
   "source": [
    "#Проверим признак living_region на уникальные значения, их должно быть 85\n",
    "regions.nunique()"
   ]
  },
  {
   "cell_type": "code",
   "execution_count": 86,
   "metadata": {},
   "outputs": [],
   "source": [
    "#Заменим наш обработанный признак региона в датафрейме cr_df2\n",
    "cr_df2['living_region'] = cr_df2['living_region'].map(regions)"
   ]
  },
  {
   "cell_type": "code",
   "execution_count": 87,
   "metadata": {},
   "outputs": [
    {
     "data": {
      "text/plain": [
       "85"
      ]
     },
     "execution_count": 87,
     "metadata": {},
     "output_type": "execute_result"
    }
   ],
   "source": [
    "cr_df2['living_region'].nunique()"
   ]
  },
  {
   "cell_type": "markdown",
   "metadata": {},
   "source": [
    "## Обработка признака gender"
   ]
  },
  {
   "cell_type": "code",
   "execution_count": 88,
   "metadata": {},
   "outputs": [
    {
     "data": {
      "text/plain": [
       "2"
      ]
     },
     "execution_count": 88,
     "metadata": {},
     "output_type": "execute_result"
    }
   ],
   "source": [
    "#Признак gender содержит в себе всего лишь 2 уникальных значения, \n",
    "#которые в дальнейшем можно будет обработать с помощью one-hot кодирования,\n",
    "#или же просто заменить на 0 и 1 в соотвествующем признаке, так как уникальных значений всего 2 и можно обойтись и этим.\n",
    "cr_df2['gender'].nunique()"
   ]
  },
  {
   "cell_type": "code",
   "execution_count": 89,
   "metadata": {},
   "outputs": [
    {
     "data": {
      "image/png": "[encoded data removed]",
      "text/plain": [
       "<Figure size 432x288 with 1 Axes>"
      ]
     },
     "metadata": {
      "needs_background": "light"
     },
     "output_type": "display_data"
    }
   ],
   "source": [
    "sns.countplot(cr_df2['gender']);"
   ]
  },
  {
   "cell_type": "code",
   "execution_count": 90,
   "metadata": {},
   "outputs": [],
   "source": [
    "genders = {'M': 0, 'F': 1}"
   ]
  },
  {
   "cell_type": "code",
   "execution_count": 91,
   "metadata": {},
   "outputs": [],
   "source": [
    "cr_df2['gender'] = cr_df2['gender'].replace(genders)"
   ]
  },
  {
   "cell_type": "code",
   "execution_count": 92,
   "metadata": {},
   "outputs": [
    {
     "data": {
      "image/png": "[encoded data removed]",
      "text/plain": [
       "<Figure size 432x288 with 1 Axes>"
      ]
     },
     "metadata": {
      "needs_background": "light"
     },
     "output_type": "display_data"
    }
   ],
   "source": [
    "#После перекодирования значения М - мужчина принимает 0, а значение F - женщина принимает значение 1\n",
    "sns.countplot(cr_df2['gender']);"
   ]
  },
  {
   "cell_type": "code",
   "execution_count": 93,
   "metadata": {},
   "outputs": [
    {
     "data": {
      "text/plain": [
       "['marital_status', 'job_position', 'tariff_id', 'education', 'living_region']"
      ]
     },
     "execution_count": 93,
     "metadata": {},
     "output_type": "execute_result"
    }
   ],
   "source": [
    "#Посмотрим на остальные категориальные признаки\n",
    "list(cr_df2.select_dtypes(include = 'object'))"
   ]
  },
  {
   "cell_type": "markdown",
   "metadata": {},
   "source": [
    "## Обработка признака marital_status"
   ]
  },
  {
   "cell_type": "code",
   "execution_count": 94,
   "metadata": {
    "scrolled": true
   },
   "outputs": [
    {
     "data": {
      "image/png": "[encoded data removed]",
      "text/plain": [
       "<Figure size 432x288 with 1 Axes>"
      ]
     },
     "metadata": {
      "needs_background": "light"
     },
     "output_type": "display_data"
    }
   ],
   "source": [
    "#Признак marital_status можно будет также обработать one-hot\n",
    "sns.countplot(cr_df2['marital_status']);"
   ]
  },
  {
   "cell_type": "markdown",
   "metadata": {},
   "source": [
    "Мы видим основные типы семейного статуса:\n",
    "    - UNM - не состоит в браке\n",
    "    - MAR - состоит в браке\n",
    "    - DIV - разведен/на\n",
    "    - WID - вдова/вдовец\n",
    "    - CIV - гражданский брак"
   ]
  },
  {
   "cell_type": "markdown",
   "metadata": {},
   "source": [
    "## Обработка признака job_position"
   ]
  },
  {
   "cell_type": "code",
   "execution_count": 95,
   "metadata": {},
   "outputs": [
    {
     "data": {
      "text/plain": [
       "SPC    93090\n",
       "UMN    11378\n",
       "BIS     3220\n",
       "PNA     2495\n",
       "DIR     1896\n",
       "ATP     1849\n",
       "WRK      372\n",
       "NOR      267\n",
       "WOI      194\n",
       "INP       88\n",
       "WRP       54\n",
       "BIU       45\n",
       "PNI       28\n",
       "PNV       25\n",
       "HSK        7\n",
       "INV        3\n",
       "PNS        2\n",
       "Name: job_position, dtype: int64"
      ]
     },
     "execution_count": 95,
     "metadata": {},
     "output_type": "execute_result"
    }
   ],
   "source": [
    "cr_df2['job_position'].value_counts(dropna = False)"
   ]
  },
  {
   "cell_type": "code",
   "execution_count": 96,
   "metadata": {},
   "outputs": [],
   "source": [
    "#Обозначим указанные категории как other, так как они относительно небольшие\n",
    "cr_df2.at[cr_df2['job_position'].isin(['WRP','BIU','PNI', 'PNV', 'HSK', 'INV', 'PNS']), 'job_position'] = 'OTHER'"
   ]
  },
  {
   "cell_type": "code",
   "execution_count": 97,
   "metadata": {},
   "outputs": [
    {
     "data": {
      "text/plain": [
       "SPC      93090\n",
       "UMN      11378\n",
       "BIS       3220\n",
       "PNA       2495\n",
       "DIR       1896\n",
       "ATP       1849\n",
       "WRK        372\n",
       "NOR        267\n",
       "WOI        194\n",
       "OTHER      164\n",
       "INP         88\n",
       "Name: job_position, dtype: int64"
      ]
     },
     "execution_count": 97,
     "metadata": {},
     "output_type": "execute_result"
    }
   ],
   "source": [
    "cr_df2['job_position'].value_counts(dropna = False)"
   ]
  },
  {
   "cell_type": "markdown",
   "metadata": {},
   "source": [
    "## Обработка признака tariff_id"
   ]
  },
  {
   "cell_type": "code",
   "execution_count": 98,
   "metadata": {},
   "outputs": [
    {
     "data": {
      "text/plain": [
       "1.1     46999\n",
       "1.6     25713\n",
       "1.32    13387\n",
       "1.4      6866\n",
       "1.5      4227\n",
       "1.9      2799\n",
       "1.43     2770\n",
       "1.16     2512\n",
       "1.3      1850\n",
       "1.19     1630\n",
       "1.44     1167\n",
       "1.0      1097\n",
       "1.7       605\n",
       "1.20      601\n",
       "1.17      568\n",
       "1.21      470\n",
       "1.94      282\n",
       "1.22      280\n",
       "1.23      273\n",
       "1.91      266\n",
       "1.24      242\n",
       "1.2       208\n",
       "1.41      109\n",
       "1.25       43\n",
       "1.26       10\n",
       "1.28       10\n",
       "1.18        8\n",
       "1.27        6\n",
       "1.52        6\n",
       "1.48        5\n",
       "1.56        2\n",
       "1.96        1\n",
       "1.29        1\n",
       "Name: tariff_id, dtype: int64"
      ]
     },
     "execution_count": 98,
     "metadata": {},
     "output_type": "execute_result"
    }
   ],
   "source": [
    "#Выведем частоты категории tariff_id\n",
    "cr_df2['tariff_id'].value_counts()"
   ]
  },
  {
   "cell_type": "code",
   "execution_count": 99,
   "metadata": {},
   "outputs": [],
   "source": [
    "#Для всех значений с частотой менее 42 создадим отдельную категорию 1.99\n",
    "cr_df2.loc[cr_df2['tariff_id'].value_counts()[cr_df2['tariff_id']].values < 42, 'tariff_id'] = 1.99"
   ]
  },
  {
   "cell_type": "code",
   "execution_count": 100,
   "metadata": {},
   "outputs": [
    {
     "data": {
      "text/plain": [
       "1.1     46999\n",
       "1.6     25713\n",
       "1.32    13387\n",
       "1.4      6866\n",
       "1.5      4227\n",
       "1.9      2799\n",
       "1.43     2770\n",
       "1.16     2512\n",
       "1.3      1850\n",
       "1.19     1630\n",
       "1.44     1167\n",
       "1.0      1097\n",
       "1.7       605\n",
       "1.20      601\n",
       "1.17      568\n",
       "1.21      470\n",
       "1.94      282\n",
       "1.22      280\n",
       "1.23      273\n",
       "1.91      266\n",
       "1.24      242\n",
       "1.2       208\n",
       "1.41      109\n",
       "1.99       49\n",
       "1.25       43\n",
       "Name: tariff_id, dtype: int64"
      ]
     },
     "execution_count": 100,
     "metadata": {},
     "output_type": "execute_result"
    }
   ],
   "source": [
    "cr_df2['tariff_id'].value_counts()"
   ]
  },
  {
   "cell_type": "code",
   "execution_count": 101,
   "metadata": {},
   "outputs": [],
   "source": [
    "#Изменим наименование тарифов заменив точки на нижнее подчеркивание\n",
    "cr_df2['tariff_id'] = cr_df2['tariff_id'].astype('str').str.replace('.', '_')"
   ]
  },
  {
   "cell_type": "code",
   "execution_count": 102,
   "metadata": {},
   "outputs": [
    {
     "data": {
      "text/plain": [
       "1_1     46999\n",
       "1_6     25713\n",
       "1_32    13387\n",
       "1_4      6866\n",
       "1_5      4227\n",
       "1_9      2799\n",
       "1_43     2770\n",
       "1_16     2512\n",
       "1_3      1850\n",
       "1_19     1630\n",
       "1_44     1167\n",
       "1_0      1097\n",
       "1_7       605\n",
       "1_20      601\n",
       "1_17      568\n",
       "1_21      470\n",
       "1_94      282\n",
       "1_22      280\n",
       "1_23      273\n",
       "1_91      266\n",
       "1_24      242\n",
       "1_2       208\n",
       "1_41      109\n",
       "1_99       49\n",
       "1_25       43\n",
       "Name: tariff_id, dtype: int64"
      ]
     },
     "execution_count": 102,
     "metadata": {},
     "output_type": "execute_result"
    }
   ],
   "source": [
    "#Выведем частоты и посмотрим что получилось\n",
    "cr_df2['tariff_id'].value_counts()"
   ]
  },
  {
   "cell_type": "markdown",
   "metadata": {},
   "source": [
    "## Дообработка признака living_region"
   ]
  },
  {
   "cell_type": "code",
   "execution_count": 103,
   "metadata": {},
   "outputs": [
    {
     "data": {
      "text/plain": [
       "ЕВРЕЙСКАЯ      134\n",
       "no_info        129\n",
       "НЕНЕЦКИЙ       106\n",
       "МАГАДАНСКАЯ     75\n",
       "ДАГЕСТАН        44\n",
       "АЛТАЙ           32\n",
       "ЧУКОТСКИЙ       17\n",
       "ЧИТИНСКАЯ       12\n",
       "ЧЕЧЕНСКАЯ       11\n",
       "ИНГУШЕТИЯ       10\n",
       "Name: living_region, dtype: int64"
      ]
     },
     "execution_count": 103,
     "metadata": {},
     "output_type": "execute_result"
    }
   ],
   "source": [
    "#Посмотрим на последние значения данного признака, которые встречаются реже всего\n",
    "cr_df2['living_region'].value_counts().tail(10)"
   ]
  },
  {
   "cell_type": "code",
   "execution_count": 104,
   "metadata": {},
   "outputs": [],
   "source": [
    "#Создадим объект Series, который будет содержать в себе частоты значений признака living_region\n",
    "regions_series = cr_df2['living_region'].value_counts()"
   ]
  },
  {
   "cell_type": "code",
   "execution_count": 105,
   "metadata": {},
   "outputs": [],
   "source": [
    "region_frequency = regions_series / regions_series.sum() * 100"
   ]
  },
  {
   "cell_type": "code",
   "execution_count": 106,
   "metadata": {},
   "outputs": [
    {
     "data": {
      "text/plain": [
       "МОСКОВСКАЯ               6.909654\n",
       "КРАСНОДАРСКИЙ            4.869884\n",
       "ТАТАРСТАН                4.815108\n",
       "СВЕРДЛОВСКАЯ             4.527314\n",
       "САНКТ-ПЕТЕРБУРГ          4.495144\n",
       "МОСКВА                   4.040413\n",
       "БАШКОРТОСТАН             3.838696\n",
       "ЧЕЛЯБИНСКАЯ              3.243981\n",
       "САМАРСКАЯ                2.853590\n",
       "СТАВРОПОЛЬСКИЙ           2.744038\n",
       "РОСТОВСКАЯ               2.604053\n",
       "ИРКУТСКАЯ                2.601445\n",
       "ХАНТЫ-МАНСИЙСКИЙ         2.515368\n",
       "НИЖЕГОРОДСКАЯ            2.299740\n",
       "ПЕРМСКИЙ                 2.187579\n",
       "ЛЕНИНГРАДСКАЯ            2.095415\n",
       "КРАСНОЯРСКИЙ             1.859790\n",
       "КЕМЕРОВСКАЯ              1.738064\n",
       "АСТРАХАНСКАЯ             1.632859\n",
       "ВОЛГОГРАДСКАЯ            1.545912\n",
       "ВОЛОГОДСКАЯ              1.435490\n",
       "САРАТОВСКАЯ              1.434620\n",
       "ТЮМЕНСКАЯ                1.432012\n",
       "НОВОСИБИРСКАЯ            1.177258\n",
       "КОМИ                     1.141610\n",
       "ВОРОНЕЖСКАЯ              1.085095\n",
       "ЯМАЛО-НЕНЕЦКИЙ           1.041621\n",
       "ВЛАДИМИРСКАЯ             0.999018\n",
       "ТВЕРСКАЯ                 0.972064\n",
       "АРХАНГЕЛЬСКАЯ            0.970325\n",
       "БУРЯТИЯ                  0.947719\n",
       "САХА/ЯКУТИЯ/             0.942502\n",
       "ХАБАРОВСКИЙ              0.892943\n",
       "ТУЛЬСКАЯ                 0.849469\n",
       "ОРЕНБУРГСКАЯ             0.825124\n",
       "КУРСКАЯ                  0.820777\n",
       "КУРГАНСКАЯ               0.812952\n",
       "ЗАБАЙКАЛЬСКИЙ            0.792954\n",
       "МУРМАНСКАЯ               0.772087\n",
       "ТАМБОВСКАЯ               0.735569\n",
       "ПРИМОРСКИЙ               0.712963\n",
       "УДМУРТСКАЯ               0.694704\n",
       "КАЛУЖСКАЯ                0.694704\n",
       "СМОЛЕНСКАЯ               0.677315\n",
       "УЛЬЯНОВСКАЯ              0.638189\n",
       "ЧУВАШСКАЯ                0.607757\n",
       "ИВАНОВСКАЯ               0.604280\n",
       "ПЕНЗЕНСКАЯ               0.592107\n",
       "ЛИПЕЦКАЯ                 0.571240\n",
       "ЯРОСЛАВСКАЯ              0.568631\n",
       "ОМСКАЯ                   0.566023\n",
       "АМУРСКАЯ                 0.506030\n",
       "БРЯНСКАЯ                 0.495596\n",
       "ОРЛОВСКАЯ                0.482554\n",
       "НОВГОРОДСКАЯ             0.466904\n",
       "РЯЗАНСКАЯ                0.463426\n",
       "МОРДОВИЯ                 0.447775\n",
       "КАЛИНИНГРАДСКАЯ          0.445167\n",
       "БЕЛГОРОДСКАЯ             0.445167\n",
       "МАРИЙЭЛ                  0.439950\n",
       "КИРОВСКАЯ                0.417344\n",
       "ТОМСКАЯ                  0.404302\n",
       "САХАЛИНСКАЯ              0.399955\n",
       "КАРЕЛИЯ                  0.393869\n",
       "КАБАРДИНО-БАЛКАРСКАЯ     0.392999\n",
       "ТЫВА                     0.374740\n",
       "КАРАЧАЕВО-ЧЕРКЕССКАЯ     0.366046\n",
       "ПСКОВСКАЯ                0.341701\n",
       "АЛТАЙСКИЙ                0.324311\n",
       "АДЫГЕЯ                   0.324311\n",
       "КОСТРОМСКАЯ              0.298227\n",
       "ХАКАСИЯ                  0.284316\n",
       "СЕВЕРНАЯОСЕТИЯ-АЛАНИЯ    0.208672\n",
       "КАМЧАТСКИЙ               0.184327\n",
       "КАЛМЫКИЯ                 0.169546\n",
       "ЕВРЕЙСКАЯ                0.116509\n",
       "no_info                  0.112161\n",
       "НЕНЕЦКИЙ                 0.092163\n",
       "МАГАДАНСКАЯ              0.065210\n",
       "ДАГЕСТАН                 0.038257\n",
       "АЛТАЙ                    0.027823\n",
       "ЧУКОТСКИЙ                0.014781\n",
       "ЧИТИНСКАЯ                0.010434\n",
       "ЧЕЧЕНСКАЯ                0.009564\n",
       "ИНГУШЕТИЯ                0.008695\n",
       "Name: living_region, dtype: float64"
      ]
     },
     "execution_count": 106,
     "metadata": {},
     "output_type": "execute_result"
    }
   ],
   "source": [
    "region_frequency"
   ]
  },
  {
   "cell_type": "code",
   "execution_count": 107,
   "metadata": {},
   "outputs": [],
   "source": [
    "#Создадим маску, которая будет принимать значение True если частота меньше чем 0.027\n",
    "region_mask = region_frequency.lt(0.027)"
   ]
  },
  {
   "cell_type": "code",
   "execution_count": 108,
   "metadata": {},
   "outputs": [
    {
     "data": {
      "text/plain": [
       "ЕВРЕЙСКАЯ      False\n",
       "no_info        False\n",
       "НЕНЕЦКИЙ       False\n",
       "МАГАДАНСКАЯ    False\n",
       "ДАГЕСТАН       False\n",
       "АЛТАЙ          False\n",
       "ЧУКОТСКИЙ       True\n",
       "ЧИТИНСКАЯ       True\n",
       "ЧЕЧЕНСКАЯ       True\n",
       "ИНГУШЕТИЯ       True\n",
       "Name: living_region, dtype: bool"
      ]
     },
     "execution_count": 108,
     "metadata": {},
     "output_type": "execute_result"
    }
   ],
   "source": [
    "region_mask.tail(10)"
   ]
  },
  {
   "cell_type": "code",
   "execution_count": 109,
   "metadata": {},
   "outputs": [],
   "source": [
    "#Для всех регионов со значением True поставим OTHER\n",
    "cr_df2['living_region'] = np.where(cr_df2['living_region'].isin(regions_series[region_mask].index), \n",
    "                                   'OTHER', cr_df2['living_region'])"
   ]
  },
  {
   "cell_type": "code",
   "execution_count": 110,
   "metadata": {},
   "outputs": [
    {
     "data": {
      "text/plain": [
       "СЕВЕРНАЯОСЕТИЯ-АЛАНИЯ    240\n",
       "КАМЧАТСКИЙ               212\n",
       "КАЛМЫКИЯ                 195\n",
       "ЕВРЕЙСКАЯ                134\n",
       "no_info                  129\n",
       "НЕНЕЦКИЙ                 106\n",
       "МАГАДАНСКАЯ               75\n",
       "OTHER                     50\n",
       "ДАГЕСТАН                  44\n",
       "АЛТАЙ                     32\n",
       "Name: living_region, dtype: int64"
      ]
     },
     "execution_count": 110,
     "metadata": {},
     "output_type": "execute_result"
    }
   ],
   "source": [
    "cr_df2['living_region'].value_counts().tail(10)"
   ]
  },
  {
   "cell_type": "code",
   "execution_count": 111,
   "metadata": {},
   "outputs": [
    {
     "data": {
      "text/plain": [
       "['marital_status', 'job_position', 'tariff_id', 'education', 'living_region']"
      ]
     },
     "execution_count": 111,
     "metadata": {},
     "output_type": "execute_result"
    }
   ],
   "source": [
    "list(cr_df2.select_dtypes(include = object))"
   ]
  },
  {
   "cell_type": "markdown",
   "metadata": {},
   "source": [
    "## Обработка признака education"
   ]
  },
  {
   "cell_type": "code",
   "execution_count": 112,
   "metadata": {},
   "outputs": [
    {
     "data": {
      "image/png": "[encoded data removed]",
      "text/plain": [
       "<Figure size 432x288 with 1 Axes>"
      ]
     },
     "metadata": {
      "needs_background": "light"
     },
     "output_type": "display_data"
    }
   ],
   "source": [
    "sns.countplot(cr_df2['education']);"
   ]
  },
  {
   "cell_type": "code",
   "execution_count": 113,
   "metadata": {
    "scrolled": true
   },
   "outputs": [
    {
     "data": {
      "text/plain": [
       "SCH        62285\n",
       "GRD        46598\n",
       "UGR         5858\n",
       "PGR          229\n",
       "ACD           41\n",
       "no_info        2\n",
       "Name: education, dtype: int64"
      ]
     },
     "execution_count": 113,
     "metadata": {},
     "output_type": "execute_result"
    }
   ],
   "source": [
    "cr_df2['education'].value_counts()\n",
    "#В последствие можно будет применить one-hot кодирование"
   ]
  },
  {
   "cell_type": "code",
   "execution_count": 114,
   "metadata": {},
   "outputs": [
    {
     "data": {
      "text/html": [
       "<div>\n",
       "<style scoped>\n",
       "    .dataframe tbody tr th:only-of-type {\n",
       "        vertical-align: middle;\n",
       "    }\n",
       "\n",
       "    .dataframe tbody tr th {\n",
       "        vertical-align: top;\n",
       "    }\n",
       "\n",
       "    .dataframe thead th {\n",
       "        text-align: right;\n",
       "    }\n",
       "</style>\n",
       "<table border=\"1\" class=\"dataframe\">\n",
       "  <thead>\n",
       "    <tr style=\"text-align: right;\">\n",
       "      <th></th>\n",
       "      <th>client_id</th>\n",
       "      <th>gender</th>\n",
       "      <th>age</th>\n",
       "      <th>marital_status</th>\n",
       "      <th>job_position</th>\n",
       "      <th>credit_sum</th>\n",
       "      <th>credit_month</th>\n",
       "      <th>tariff_id</th>\n",
       "      <th>score_shk</th>\n",
       "      <th>education</th>\n",
       "      <th>living_region</th>\n",
       "      <th>monthly_income</th>\n",
       "      <th>credit_count</th>\n",
       "      <th>overdue_credit_count</th>\n",
       "      <th>open_account_flg</th>\n",
       "    </tr>\n",
       "  </thead>\n",
       "  <tbody>\n",
       "    <tr>\n",
       "      <td>4</td>\n",
       "      <td>5</td>\n",
       "      <td>0</td>\n",
       "      <td>45.0</td>\n",
       "      <td>no_info</td>\n",
       "      <td>SPC</td>\n",
       "      <td>-999.0</td>\n",
       "      <td>10</td>\n",
       "      <td>1_1</td>\n",
       "      <td>0.421385</td>\n",
       "      <td>SCH</td>\n",
       "      <td>ЧЕЛЯБИНСКАЯ</td>\n",
       "      <td>-999.0</td>\n",
       "      <td>1.0</td>\n",
       "      <td>0.0</td>\n",
       "      <td>0</td>\n",
       "    </tr>\n",
       "    <tr>\n",
       "      <td>7</td>\n",
       "      <td>8</td>\n",
       "      <td>1</td>\n",
       "      <td>26.0</td>\n",
       "      <td>UNM</td>\n",
       "      <td>SPC</td>\n",
       "      <td>47878.0</td>\n",
       "      <td>10</td>\n",
       "      <td>1_1</td>\n",
       "      <td>0.512525</td>\n",
       "      <td>GRD</td>\n",
       "      <td>МОСКОВСКАЯ</td>\n",
       "      <td>60000.0</td>\n",
       "      <td>3.0</td>\n",
       "      <td>0.0</td>\n",
       "      <td>0</td>\n",
       "    </tr>\n",
       "    <tr>\n",
       "      <td>10</td>\n",
       "      <td>11</td>\n",
       "      <td>0</td>\n",
       "      <td>26.0</td>\n",
       "      <td>MAR</td>\n",
       "      <td>SPC</td>\n",
       "      <td>16793.0</td>\n",
       "      <td>14</td>\n",
       "      <td>1_0</td>\n",
       "      <td>0.445430</td>\n",
       "      <td>SCH</td>\n",
       "      <td>САНКТ-ПЕТЕРБУРГ</td>\n",
       "      <td>36000.0</td>\n",
       "      <td>2.0</td>\n",
       "      <td>0.0</td>\n",
       "      <td>0</td>\n",
       "    </tr>\n",
       "    <tr>\n",
       "      <td>11</td>\n",
       "      <td>12</td>\n",
       "      <td>1</td>\n",
       "      <td>26.0</td>\n",
       "      <td>UNM</td>\n",
       "      <td>SPC</td>\n",
       "      <td>18936.0</td>\n",
       "      <td>10</td>\n",
       "      <td>1_32</td>\n",
       "      <td>0.455774</td>\n",
       "      <td>no_info</td>\n",
       "      <td>БАШКОРТОСТАН</td>\n",
       "      <td>30000.0</td>\n",
       "      <td>0.0</td>\n",
       "      <td>0.0</td>\n",
       "      <td>0</td>\n",
       "    </tr>\n",
       "    <tr>\n",
       "      <td>12</td>\n",
       "      <td>13</td>\n",
       "      <td>0</td>\n",
       "      <td>37.0</td>\n",
       "      <td>MAR</td>\n",
       "      <td>SPC</td>\n",
       "      <td>42289.0</td>\n",
       "      <td>10</td>\n",
       "      <td>1_6</td>\n",
       "      <td>0.691609</td>\n",
       "      <td>SCH</td>\n",
       "      <td>АРХАНГЕЛЬСКАЯ</td>\n",
       "      <td>70000.0</td>\n",
       "      <td>1.0</td>\n",
       "      <td>0.0</td>\n",
       "      <td>0</td>\n",
       "    </tr>\n",
       "  </tbody>\n",
       "</table>\n",
       "</div>"
      ],
      "text/plain": [
       "    client_id  gender   age marital_status job_position  credit_sum  \\\n",
       "4           5       0  45.0        no_info          SPC      -999.0   \n",
       "7           8       1  26.0            UNM          SPC     47878.0   \n",
       "10         11       0  26.0            MAR          SPC     16793.0   \n",
       "11         12       1  26.0            UNM          SPC     18936.0   \n",
       "12         13       0  37.0            MAR          SPC     42289.0   \n",
       "\n",
       "    credit_month tariff_id  score_shk education    living_region  \\\n",
       "4             10       1_1   0.421385       SCH      ЧЕЛЯБИНСКАЯ   \n",
       "7             10       1_1   0.512525       GRD       МОСКОВСКАЯ   \n",
       "10            14       1_0   0.445430       SCH  САНКТ-ПЕТЕРБУРГ   \n",
       "11            10      1_32   0.455774   no_info     БАШКОРТОСТАН   \n",
       "12            10       1_6   0.691609       SCH    АРХАНГЕЛЬСКАЯ   \n",
       "\n",
       "    monthly_income  credit_count  overdue_credit_count  open_account_flg  \n",
       "4           -999.0           1.0                   0.0                 0  \n",
       "7          60000.0           3.0                   0.0                 0  \n",
       "10         36000.0           2.0                   0.0                 0  \n",
       "11         30000.0           0.0                   0.0                 0  \n",
       "12         70000.0           1.0                   0.0                 0  "
      ]
     },
     "execution_count": 114,
     "metadata": {},
     "output_type": "execute_result"
    }
   ],
   "source": [
    "cr_df2.head()"
   ]
  },
  {
   "cell_type": "markdown",
   "metadata": {},
   "source": [
    "# Конструирование новых признаков"
   ]
  },
  {
   "cell_type": "code",
   "execution_count": 115,
   "metadata": {},
   "outputs": [],
   "source": [
    "#Необходимо создать отдельные признаки - идентификаторы пропусков"
   ]
  },
  {
   "cell_type": "code",
   "execution_count": 116,
   "metadata": {},
   "outputs": [
    {
     "name": "stdout",
     "output_type": "stream",
     "text": [
      "<class 'pandas.core.frame.DataFrame'>\n",
      "RangeIndex: 170746 entries, 0 to 170745\n",
      "Data columns (total 15 columns):\n",
      "client_id               170746 non-null int64\n",
      "gender                  170746 non-null object\n",
      "age                     170743 non-null float64\n",
      "marital_status          170743 non-null object\n",
      "job_position            170746 non-null object\n",
      "credit_sum              170744 non-null float64\n",
      "credit_month            170746 non-null int64\n",
      "tariff_id               170746 non-null object\n",
      "score_shk               170739 non-null float64\n",
      "education               170741 non-null object\n",
      "living_region           170554 non-null object\n",
      "monthly_income          170741 non-null float64\n",
      "credit_count            161516 non-null float64\n",
      "overdue_credit_count    161516 non-null float64\n",
      "open_account_flg        170746 non-null int64\n",
      "dtypes: float64(6), int64(3), object(6)\n",
      "memory usage: 19.5+ MB\n"
     ]
    }
   ],
   "source": [
    "#Посмотрим на исходный \"грязный\" датафрейм\n",
    "cr_df.info()"
   ]
  },
  {
   "cell_type": "code",
   "execution_count": 117,
   "metadata": {},
   "outputs": [],
   "source": [
    "#Пропущенные числовые значения были заполнены -999, теперь необходимо создать отдельный признак, \n",
    "#который бы являлся неким флагом, символизирующем о том, что в наблюдении по признаку стоит -999.\n",
    "\n",
    "#начнем с обработки признака age\n",
    "cr_df2['no_age_info'] = cr_df2.age.map(lambda x: 1 if x == -999 else 0)"
   ]
  },
  {
   "cell_type": "code",
   "execution_count": 118,
   "metadata": {},
   "outputs": [
    {
     "data": {
      "text/plain": [
       "-999.0"
      ]
     },
     "execution_count": 118,
     "metadata": {},
     "output_type": "execute_result"
    }
   ],
   "source": [
    "#Проверим на наличие индентификатора пропущенного значения в признаке credit_sum\n",
    "cr_df2['credit_sum'].min()"
   ]
  },
  {
   "cell_type": "code",
   "execution_count": 119,
   "metadata": {},
   "outputs": [
    {
     "data": {
      "text/html": [
       "<div>\n",
       "<style scoped>\n",
       "    .dataframe tbody tr th:only-of-type {\n",
       "        vertical-align: middle;\n",
       "    }\n",
       "\n",
       "    .dataframe tbody tr th {\n",
       "        vertical-align: top;\n",
       "    }\n",
       "\n",
       "    .dataframe thead th {\n",
       "        text-align: right;\n",
       "    }\n",
       "</style>\n",
       "<table border=\"1\" class=\"dataframe\">\n",
       "  <thead>\n",
       "    <tr style=\"text-align: right;\">\n",
       "      <th></th>\n",
       "      <th>client_id</th>\n",
       "      <th>gender</th>\n",
       "      <th>age</th>\n",
       "      <th>marital_status</th>\n",
       "      <th>job_position</th>\n",
       "      <th>credit_sum</th>\n",
       "      <th>credit_month</th>\n",
       "      <th>tariff_id</th>\n",
       "      <th>score_shk</th>\n",
       "      <th>education</th>\n",
       "      <th>living_region</th>\n",
       "      <th>monthly_income</th>\n",
       "      <th>credit_count</th>\n",
       "      <th>overdue_credit_count</th>\n",
       "      <th>open_account_flg</th>\n",
       "      <th>no_age_info</th>\n",
       "    </tr>\n",
       "  </thead>\n",
       "  <tbody>\n",
       "    <tr>\n",
       "      <td>4</td>\n",
       "      <td>5</td>\n",
       "      <td>0</td>\n",
       "      <td>45.0</td>\n",
       "      <td>no_info</td>\n",
       "      <td>SPC</td>\n",
       "      <td>-999.0</td>\n",
       "      <td>10</td>\n",
       "      <td>1_1</td>\n",
       "      <td>0.421385</td>\n",
       "      <td>SCH</td>\n",
       "      <td>ЧЕЛЯБИНСКАЯ</td>\n",
       "      <td>-999.0</td>\n",
       "      <td>1.0</td>\n",
       "      <td>0.0</td>\n",
       "      <td>0</td>\n",
       "      <td>0</td>\n",
       "    </tr>\n",
       "  </tbody>\n",
       "</table>\n",
       "</div>"
      ],
      "text/plain": [
       "   client_id  gender   age marital_status job_position  credit_sum  \\\n",
       "4          5       0  45.0        no_info          SPC      -999.0   \n",
       "\n",
       "   credit_month tariff_id  score_shk education living_region  monthly_income  \\\n",
       "4            10       1_1   0.421385       SCH   ЧЕЛЯБИНСКАЯ          -999.0   \n",
       "\n",
       "   credit_count  overdue_credit_count  open_account_flg  no_age_info  \n",
       "4           1.0                   0.0                 0            0  "
      ]
     },
     "execution_count": 119,
     "metadata": {},
     "output_type": "execute_result"
    }
   ],
   "source": [
    "#Есть всего лишь одно наблюдение с идентификатором -999 по признаку credit_sum\n",
    "cr_df2[cr_df2['credit_sum']==-999]"
   ]
  },
  {
   "cell_type": "code",
   "execution_count": 120,
   "metadata": {},
   "outputs": [],
   "source": [
    "cr_df2['no_creditsum_info'] = cr_df2.credit_sum.map(lambda x: 1 if x == -999 else 0)"
   ]
  },
  {
   "cell_type": "code",
   "execution_count": 121,
   "metadata": {},
   "outputs": [
    {
     "data": {
      "text/html": [
       "<div>\n",
       "<style scoped>\n",
       "    .dataframe tbody tr th:only-of-type {\n",
       "        vertical-align: middle;\n",
       "    }\n",
       "\n",
       "    .dataframe tbody tr th {\n",
       "        vertical-align: top;\n",
       "    }\n",
       "\n",
       "    .dataframe thead th {\n",
       "        text-align: right;\n",
       "    }\n",
       "</style>\n",
       "<table border=\"1\" class=\"dataframe\">\n",
       "  <thead>\n",
       "    <tr style=\"text-align: right;\">\n",
       "      <th></th>\n",
       "      <th>client_id</th>\n",
       "      <th>gender</th>\n",
       "      <th>age</th>\n",
       "      <th>marital_status</th>\n",
       "      <th>job_position</th>\n",
       "      <th>credit_sum</th>\n",
       "      <th>credit_month</th>\n",
       "      <th>tariff_id</th>\n",
       "      <th>score_shk</th>\n",
       "      <th>education</th>\n",
       "      <th>living_region</th>\n",
       "      <th>monthly_income</th>\n",
       "      <th>credit_count</th>\n",
       "      <th>overdue_credit_count</th>\n",
       "      <th>open_account_flg</th>\n",
       "      <th>no_age_info</th>\n",
       "      <th>no_creditsum_info</th>\n",
       "    </tr>\n",
       "  </thead>\n",
       "  <tbody>\n",
       "    <tr>\n",
       "      <td>4</td>\n",
       "      <td>5</td>\n",
       "      <td>0</td>\n",
       "      <td>45.0</td>\n",
       "      <td>no_info</td>\n",
       "      <td>SPC</td>\n",
       "      <td>-999.0</td>\n",
       "      <td>10</td>\n",
       "      <td>1_1</td>\n",
       "      <td>0.421385</td>\n",
       "      <td>SCH</td>\n",
       "      <td>ЧЕЛЯБИНСКАЯ</td>\n",
       "      <td>-999.0</td>\n",
       "      <td>1.0</td>\n",
       "      <td>0.0</td>\n",
       "      <td>0</td>\n",
       "      <td>0</td>\n",
       "      <td>1</td>\n",
       "    </tr>\n",
       "  </tbody>\n",
       "</table>\n",
       "</div>"
      ],
      "text/plain": [
       "   client_id  gender   age marital_status job_position  credit_sum  \\\n",
       "4          5       0  45.0        no_info          SPC      -999.0   \n",
       "\n",
       "   credit_month tariff_id  score_shk education living_region  monthly_income  \\\n",
       "4            10       1_1   0.421385       SCH   ЧЕЛЯБИНСКАЯ          -999.0   \n",
       "\n",
       "   credit_count  overdue_credit_count  open_account_flg  no_age_info  \\\n",
       "4           1.0                   0.0                 0            0   \n",
       "\n",
       "   no_creditsum_info  \n",
       "4                  1  "
      ]
     },
     "execution_count": 121,
     "metadata": {},
     "output_type": "execute_result"
    }
   ],
   "source": [
    "cr_df2[cr_df2['no_creditsum_info']==1]"
   ]
  },
  {
   "cell_type": "code",
   "execution_count": 122,
   "metadata": {},
   "outputs": [
    {
     "name": "stdout",
     "output_type": "stream",
     "text": [
      "<class 'pandas.core.frame.DataFrame'>\n",
      "RangeIndex: 170746 entries, 0 to 170745\n",
      "Data columns (total 15 columns):\n",
      "client_id               170746 non-null int64\n",
      "gender                  170746 non-null object\n",
      "age                     170743 non-null float64\n",
      "marital_status          170743 non-null object\n",
      "job_position            170746 non-null object\n",
      "credit_sum              170744 non-null float64\n",
      "credit_month            170746 non-null int64\n",
      "tariff_id               170746 non-null object\n",
      "score_shk               170739 non-null float64\n",
      "education               170741 non-null object\n",
      "living_region           170554 non-null object\n",
      "monthly_income          170741 non-null float64\n",
      "credit_count            161516 non-null float64\n",
      "overdue_credit_count    161516 non-null float64\n",
      "open_account_flg        170746 non-null int64\n",
      "dtypes: float64(6), int64(3), object(6)\n",
      "memory usage: 19.5+ MB\n"
     ]
    }
   ],
   "source": [
    "cr_df.info()"
   ]
  },
  {
   "cell_type": "code",
   "execution_count": 123,
   "metadata": {},
   "outputs": [
    {
     "data": {
      "text/html": [
       "<div>\n",
       "<style scoped>\n",
       "    .dataframe tbody tr th:only-of-type {\n",
       "        vertical-align: middle;\n",
       "    }\n",
       "\n",
       "    .dataframe tbody tr th {\n",
       "        vertical-align: top;\n",
       "    }\n",
       "\n",
       "    .dataframe thead th {\n",
       "        text-align: right;\n",
       "    }\n",
       "</style>\n",
       "<table border=\"1\" class=\"dataframe\">\n",
       "  <thead>\n",
       "    <tr style=\"text-align: right;\">\n",
       "      <th></th>\n",
       "      <th>client_id</th>\n",
       "      <th>gender</th>\n",
       "      <th>age</th>\n",
       "      <th>marital_status</th>\n",
       "      <th>job_position</th>\n",
       "      <th>credit_sum</th>\n",
       "      <th>credit_month</th>\n",
       "      <th>tariff_id</th>\n",
       "      <th>score_shk</th>\n",
       "      <th>education</th>\n",
       "      <th>living_region</th>\n",
       "      <th>monthly_income</th>\n",
       "      <th>credit_count</th>\n",
       "      <th>overdue_credit_count</th>\n",
       "      <th>open_account_flg</th>\n",
       "      <th>no_age_info</th>\n",
       "      <th>no_creditsum_info</th>\n",
       "    </tr>\n",
       "  </thead>\n",
       "  <tbody>\n",
       "    <tr>\n",
       "      <td>4</td>\n",
       "      <td>5</td>\n",
       "      <td>0</td>\n",
       "      <td>45.0</td>\n",
       "      <td>no_info</td>\n",
       "      <td>SPC</td>\n",
       "      <td>-999.0</td>\n",
       "      <td>10</td>\n",
       "      <td>1_1</td>\n",
       "      <td>0.421385</td>\n",
       "      <td>SCH</td>\n",
       "      <td>ЧЕЛЯБИНСКАЯ</td>\n",
       "      <td>-999.0</td>\n",
       "      <td>1.0</td>\n",
       "      <td>0.0</td>\n",
       "      <td>0</td>\n",
       "      <td>0</td>\n",
       "      <td>1</td>\n",
       "    </tr>\n",
       "    <tr>\n",
       "      <td>19639</td>\n",
       "      <td>19640</td>\n",
       "      <td>1</td>\n",
       "      <td>33.0</td>\n",
       "      <td>MAR</td>\n",
       "      <td>BIS</td>\n",
       "      <td>13009.0</td>\n",
       "      <td>10</td>\n",
       "      <td>1_6</td>\n",
       "      <td>0.535834</td>\n",
       "      <td>SCH</td>\n",
       "      <td>ПРИМОРСКИЙ</td>\n",
       "      <td>-999.0</td>\n",
       "      <td>2.0</td>\n",
       "      <td>0.0</td>\n",
       "      <td>0</td>\n",
       "      <td>0</td>\n",
       "      <td>0</td>\n",
       "    </tr>\n",
       "  </tbody>\n",
       "</table>\n",
       "</div>"
      ],
      "text/plain": [
       "       client_id  gender   age marital_status job_position  credit_sum  \\\n",
       "4              5       0  45.0        no_info          SPC      -999.0   \n",
       "19639      19640       1  33.0            MAR          BIS     13009.0   \n",
       "\n",
       "       credit_month tariff_id  score_shk education living_region  \\\n",
       "4                10       1_1   0.421385       SCH   ЧЕЛЯБИНСКАЯ   \n",
       "19639            10       1_6   0.535834       SCH    ПРИМОРСКИЙ   \n",
       "\n",
       "       monthly_income  credit_count  overdue_credit_count  open_account_flg  \\\n",
       "4              -999.0           1.0                   0.0                 0   \n",
       "19639          -999.0           2.0                   0.0                 0   \n",
       "\n",
       "       no_age_info  no_creditsum_info  \n",
       "4                0                  1  \n",
       "19639            0                  0  "
      ]
     },
     "execution_count": 123,
     "metadata": {},
     "output_type": "execute_result"
    }
   ],
   "source": [
    "cr_df2[cr_df2['monthly_income']==-999]"
   ]
  },
  {
   "cell_type": "code",
   "execution_count": 124,
   "metadata": {},
   "outputs": [],
   "source": [
    "cr_df2['no_monthlyincome_info'] = cr_df2.monthly_income.map(lambda x: 1 if x == -999 else 0)"
   ]
  },
  {
   "cell_type": "code",
   "execution_count": 125,
   "metadata": {},
   "outputs": [
    {
     "data": {
      "text/html": [
       "<div>\n",
       "<style scoped>\n",
       "    .dataframe tbody tr th:only-of-type {\n",
       "        vertical-align: middle;\n",
       "    }\n",
       "\n",
       "    .dataframe tbody tr th {\n",
       "        vertical-align: top;\n",
       "    }\n",
       "\n",
       "    .dataframe thead th {\n",
       "        text-align: right;\n",
       "    }\n",
       "</style>\n",
       "<table border=\"1\" class=\"dataframe\">\n",
       "  <thead>\n",
       "    <tr style=\"text-align: right;\">\n",
       "      <th></th>\n",
       "      <th>client_id</th>\n",
       "      <th>gender</th>\n",
       "      <th>age</th>\n",
       "      <th>marital_status</th>\n",
       "      <th>job_position</th>\n",
       "      <th>credit_sum</th>\n",
       "      <th>credit_month</th>\n",
       "      <th>tariff_id</th>\n",
       "      <th>score_shk</th>\n",
       "      <th>education</th>\n",
       "      <th>living_region</th>\n",
       "      <th>monthly_income</th>\n",
       "      <th>credit_count</th>\n",
       "      <th>overdue_credit_count</th>\n",
       "      <th>open_account_flg</th>\n",
       "      <th>no_age_info</th>\n",
       "      <th>no_creditsum_info</th>\n",
       "      <th>no_monthlyincome_info</th>\n",
       "    </tr>\n",
       "  </thead>\n",
       "  <tbody>\n",
       "    <tr>\n",
       "      <td>4</td>\n",
       "      <td>5</td>\n",
       "      <td>0</td>\n",
       "      <td>45.0</td>\n",
       "      <td>no_info</td>\n",
       "      <td>SPC</td>\n",
       "      <td>-999.0</td>\n",
       "      <td>10</td>\n",
       "      <td>1_1</td>\n",
       "      <td>0.421385</td>\n",
       "      <td>SCH</td>\n",
       "      <td>ЧЕЛЯБИНСКАЯ</td>\n",
       "      <td>-999.0</td>\n",
       "      <td>1.0</td>\n",
       "      <td>0.0</td>\n",
       "      <td>0</td>\n",
       "      <td>0</td>\n",
       "      <td>1</td>\n",
       "      <td>1</td>\n",
       "    </tr>\n",
       "    <tr>\n",
       "      <td>19639</td>\n",
       "      <td>19640</td>\n",
       "      <td>1</td>\n",
       "      <td>33.0</td>\n",
       "      <td>MAR</td>\n",
       "      <td>BIS</td>\n",
       "      <td>13009.0</td>\n",
       "      <td>10</td>\n",
       "      <td>1_6</td>\n",
       "      <td>0.535834</td>\n",
       "      <td>SCH</td>\n",
       "      <td>ПРИМОРСКИЙ</td>\n",
       "      <td>-999.0</td>\n",
       "      <td>2.0</td>\n",
       "      <td>0.0</td>\n",
       "      <td>0</td>\n",
       "      <td>0</td>\n",
       "      <td>0</td>\n",
       "      <td>1</td>\n",
       "    </tr>\n",
       "  </tbody>\n",
       "</table>\n",
       "</div>"
      ],
      "text/plain": [
       "       client_id  gender   age marital_status job_position  credit_sum  \\\n",
       "4              5       0  45.0        no_info          SPC      -999.0   \n",
       "19639      19640       1  33.0            MAR          BIS     13009.0   \n",
       "\n",
       "       credit_month tariff_id  score_shk education living_region  \\\n",
       "4                10       1_1   0.421385       SCH   ЧЕЛЯБИНСКАЯ   \n",
       "19639            10       1_6   0.535834       SCH    ПРИМОРСКИЙ   \n",
       "\n",
       "       monthly_income  credit_count  overdue_credit_count  open_account_flg  \\\n",
       "4              -999.0           1.0                   0.0                 0   \n",
       "19639          -999.0           2.0                   0.0                 0   \n",
       "\n",
       "       no_age_info  no_creditsum_info  no_monthlyincome_info  \n",
       "4                0                  1                      1  \n",
       "19639            0                  0                      1  "
      ]
     },
     "execution_count": 125,
     "metadata": {},
     "output_type": "execute_result"
    }
   ],
   "source": [
    "cr_df2[cr_df2['no_monthlyincome_info']==1]"
   ]
  },
  {
   "cell_type": "code",
   "execution_count": 126,
   "metadata": {},
   "outputs": [
    {
     "data": {
      "text/html": [
       "<div>\n",
       "<style scoped>\n",
       "    .dataframe tbody tr th:only-of-type {\n",
       "        vertical-align: middle;\n",
       "    }\n",
       "\n",
       "    .dataframe tbody tr th {\n",
       "        vertical-align: top;\n",
       "    }\n",
       "\n",
       "    .dataframe thead th {\n",
       "        text-align: right;\n",
       "    }\n",
       "</style>\n",
       "<table border=\"1\" class=\"dataframe\">\n",
       "  <thead>\n",
       "    <tr style=\"text-align: right;\">\n",
       "      <th></th>\n",
       "      <th>client_id</th>\n",
       "      <th>gender</th>\n",
       "      <th>age</th>\n",
       "      <th>marital_status</th>\n",
       "      <th>job_position</th>\n",
       "      <th>credit_sum</th>\n",
       "      <th>credit_month</th>\n",
       "      <th>tariff_id</th>\n",
       "      <th>score_shk</th>\n",
       "      <th>education</th>\n",
       "      <th>living_region</th>\n",
       "      <th>monthly_income</th>\n",
       "      <th>credit_count</th>\n",
       "      <th>overdue_credit_count</th>\n",
       "      <th>open_account_flg</th>\n",
       "      <th>no_age_info</th>\n",
       "      <th>no_creditsum_info</th>\n",
       "      <th>no_monthlyincome_info</th>\n",
       "    </tr>\n",
       "  </thead>\n",
       "  <tbody>\n",
       "  </tbody>\n",
       "</table>\n",
       "</div>"
      ],
      "text/plain": [
       "Empty DataFrame\n",
       "Columns: [client_id, gender, age, marital_status, job_position, credit_sum, credit_month, tariff_id, score_shk, education, living_region, monthly_income, credit_count, overdue_credit_count, open_account_flg, no_age_info, no_creditsum_info, no_monthlyincome_info]\n",
       "Index: []"
      ]
     },
     "execution_count": 126,
     "metadata": {},
     "output_type": "execute_result"
    }
   ],
   "source": [
    "cr_df2[cr_df2['credit_count']==-999]"
   ]
  },
  {
   "cell_type": "code",
   "execution_count": 127,
   "metadata": {},
   "outputs": [
    {
     "data": {
      "text/html": [
       "<div>\n",
       "<style scoped>\n",
       "    .dataframe tbody tr th:only-of-type {\n",
       "        vertical-align: middle;\n",
       "    }\n",
       "\n",
       "    .dataframe tbody tr th {\n",
       "        vertical-align: top;\n",
       "    }\n",
       "\n",
       "    .dataframe thead th {\n",
       "        text-align: right;\n",
       "    }\n",
       "</style>\n",
       "<table border=\"1\" class=\"dataframe\">\n",
       "  <thead>\n",
       "    <tr style=\"text-align: right;\">\n",
       "      <th></th>\n",
       "      <th>client_id</th>\n",
       "      <th>gender</th>\n",
       "      <th>age</th>\n",
       "      <th>marital_status</th>\n",
       "      <th>job_position</th>\n",
       "      <th>credit_sum</th>\n",
       "      <th>credit_month</th>\n",
       "      <th>tariff_id</th>\n",
       "      <th>score_shk</th>\n",
       "      <th>education</th>\n",
       "      <th>living_region</th>\n",
       "      <th>monthly_income</th>\n",
       "      <th>credit_count</th>\n",
       "      <th>overdue_credit_count</th>\n",
       "      <th>open_account_flg</th>\n",
       "      <th>no_age_info</th>\n",
       "      <th>no_creditsum_info</th>\n",
       "      <th>no_monthlyincome_info</th>\n",
       "    </tr>\n",
       "  </thead>\n",
       "  <tbody>\n",
       "  </tbody>\n",
       "</table>\n",
       "</div>"
      ],
      "text/plain": [
       "Empty DataFrame\n",
       "Columns: [client_id, gender, age, marital_status, job_position, credit_sum, credit_month, tariff_id, score_shk, education, living_region, monthly_income, credit_count, overdue_credit_count, open_account_flg, no_age_info, no_creditsum_info, no_monthlyincome_info]\n",
       "Index: []"
      ]
     },
     "execution_count": 127,
     "metadata": {},
     "output_type": "execute_result"
    }
   ],
   "source": [
    "cr_df2[cr_df2['overdue_credit_count']==-999]"
   ]
  },
  {
   "cell_type": "code",
   "execution_count": 128,
   "metadata": {},
   "outputs": [
    {
     "data": {
      "text/html": [
       "<div>\n",
       "<style scoped>\n",
       "    .dataframe tbody tr th:only-of-type {\n",
       "        vertical-align: middle;\n",
       "    }\n",
       "\n",
       "    .dataframe tbody tr th {\n",
       "        vertical-align: top;\n",
       "    }\n",
       "\n",
       "    .dataframe thead th {\n",
       "        text-align: right;\n",
       "    }\n",
       "</style>\n",
       "<table border=\"1\" class=\"dataframe\">\n",
       "  <thead>\n",
       "    <tr style=\"text-align: right;\">\n",
       "      <th></th>\n",
       "      <th>client_id</th>\n",
       "      <th>gender</th>\n",
       "      <th>age</th>\n",
       "      <th>marital_status</th>\n",
       "      <th>job_position</th>\n",
       "      <th>credit_sum</th>\n",
       "      <th>credit_month</th>\n",
       "      <th>tariff_id</th>\n",
       "      <th>score_shk</th>\n",
       "      <th>education</th>\n",
       "      <th>living_region</th>\n",
       "      <th>monthly_income</th>\n",
       "      <th>credit_count</th>\n",
       "      <th>overdue_credit_count</th>\n",
       "      <th>open_account_flg</th>\n",
       "      <th>no_age_info</th>\n",
       "      <th>no_creditsum_info</th>\n",
       "      <th>no_monthlyincome_info</th>\n",
       "    </tr>\n",
       "  </thead>\n",
       "  <tbody>\n",
       "  </tbody>\n",
       "</table>\n",
       "</div>"
      ],
      "text/plain": [
       "Empty DataFrame\n",
       "Columns: [client_id, gender, age, marital_status, job_position, credit_sum, credit_month, tariff_id, score_shk, education, living_region, monthly_income, credit_count, overdue_credit_count, open_account_flg, no_age_info, no_creditsum_info, no_monthlyincome_info]\n",
       "Index: []"
      ]
     },
     "execution_count": 128,
     "metadata": {},
     "output_type": "execute_result"
    }
   ],
   "source": [
    "cr_df2[cr_df2['open_account_flg']==-999]"
   ]
  },
  {
   "cell_type": "markdown",
   "metadata": {},
   "source": [
    "Таким образом были созданы признаки-флаги по каждому из признаков датафрейма. Если в этом признаке встречается значение -999, которое символизирует о том, что значение ранее было пропущенным, то в соответствующем флаге срабатывает 1."
   ]
  },
  {
   "cell_type": "code",
   "execution_count": 129,
   "metadata": {},
   "outputs": [
    {
     "data": {
      "text/html": [
       "<div>\n",
       "<style scoped>\n",
       "    .dataframe tbody tr th:only-of-type {\n",
       "        vertical-align: middle;\n",
       "    }\n",
       "\n",
       "    .dataframe tbody tr th {\n",
       "        vertical-align: top;\n",
       "    }\n",
       "\n",
       "    .dataframe thead th {\n",
       "        text-align: right;\n",
       "    }\n",
       "</style>\n",
       "<table border=\"1\" class=\"dataframe\">\n",
       "  <thead>\n",
       "    <tr style=\"text-align: right;\">\n",
       "      <th></th>\n",
       "      <th>client_id</th>\n",
       "      <th>gender</th>\n",
       "      <th>age</th>\n",
       "      <th>marital_status</th>\n",
       "      <th>job_position</th>\n",
       "      <th>credit_sum</th>\n",
       "      <th>credit_month</th>\n",
       "      <th>tariff_id</th>\n",
       "      <th>score_shk</th>\n",
       "      <th>education</th>\n",
       "      <th>living_region</th>\n",
       "      <th>monthly_income</th>\n",
       "      <th>credit_count</th>\n",
       "      <th>overdue_credit_count</th>\n",
       "      <th>open_account_flg</th>\n",
       "      <th>no_age_info</th>\n",
       "      <th>no_creditsum_info</th>\n",
       "      <th>no_monthlyincome_info</th>\n",
       "    </tr>\n",
       "  </thead>\n",
       "  <tbody>\n",
       "    <tr>\n",
       "      <td>4</td>\n",
       "      <td>5</td>\n",
       "      <td>0</td>\n",
       "      <td>45.0</td>\n",
       "      <td>no_info</td>\n",
       "      <td>SPC</td>\n",
       "      <td>-999.0</td>\n",
       "      <td>10</td>\n",
       "      <td>1_1</td>\n",
       "      <td>0.421385</td>\n",
       "      <td>SCH</td>\n",
       "      <td>ЧЕЛЯБИНСКАЯ</td>\n",
       "      <td>-999.0</td>\n",
       "      <td>1.0</td>\n",
       "      <td>0.0</td>\n",
       "      <td>0</td>\n",
       "      <td>0</td>\n",
       "      <td>1</td>\n",
       "      <td>1</td>\n",
       "    </tr>\n",
       "    <tr>\n",
       "      <td>7</td>\n",
       "      <td>8</td>\n",
       "      <td>1</td>\n",
       "      <td>26.0</td>\n",
       "      <td>UNM</td>\n",
       "      <td>SPC</td>\n",
       "      <td>47878.0</td>\n",
       "      <td>10</td>\n",
       "      <td>1_1</td>\n",
       "      <td>0.512525</td>\n",
       "      <td>GRD</td>\n",
       "      <td>МОСКОВСКАЯ</td>\n",
       "      <td>60000.0</td>\n",
       "      <td>3.0</td>\n",
       "      <td>0.0</td>\n",
       "      <td>0</td>\n",
       "      <td>0</td>\n",
       "      <td>0</td>\n",
       "      <td>0</td>\n",
       "    </tr>\n",
       "    <tr>\n",
       "      <td>10</td>\n",
       "      <td>11</td>\n",
       "      <td>0</td>\n",
       "      <td>26.0</td>\n",
       "      <td>MAR</td>\n",
       "      <td>SPC</td>\n",
       "      <td>16793.0</td>\n",
       "      <td>14</td>\n",
       "      <td>1_0</td>\n",
       "      <td>0.445430</td>\n",
       "      <td>SCH</td>\n",
       "      <td>САНКТ-ПЕТЕРБУРГ</td>\n",
       "      <td>36000.0</td>\n",
       "      <td>2.0</td>\n",
       "      <td>0.0</td>\n",
       "      <td>0</td>\n",
       "      <td>0</td>\n",
       "      <td>0</td>\n",
       "      <td>0</td>\n",
       "    </tr>\n",
       "    <tr>\n",
       "      <td>11</td>\n",
       "      <td>12</td>\n",
       "      <td>1</td>\n",
       "      <td>26.0</td>\n",
       "      <td>UNM</td>\n",
       "      <td>SPC</td>\n",
       "      <td>18936.0</td>\n",
       "      <td>10</td>\n",
       "      <td>1_32</td>\n",
       "      <td>0.455774</td>\n",
       "      <td>no_info</td>\n",
       "      <td>БАШКОРТОСТАН</td>\n",
       "      <td>30000.0</td>\n",
       "      <td>0.0</td>\n",
       "      <td>0.0</td>\n",
       "      <td>0</td>\n",
       "      <td>0</td>\n",
       "      <td>0</td>\n",
       "      <td>0</td>\n",
       "    </tr>\n",
       "    <tr>\n",
       "      <td>12</td>\n",
       "      <td>13</td>\n",
       "      <td>0</td>\n",
       "      <td>37.0</td>\n",
       "      <td>MAR</td>\n",
       "      <td>SPC</td>\n",
       "      <td>42289.0</td>\n",
       "      <td>10</td>\n",
       "      <td>1_6</td>\n",
       "      <td>0.691609</td>\n",
       "      <td>SCH</td>\n",
       "      <td>АРХАНГЕЛЬСКАЯ</td>\n",
       "      <td>70000.0</td>\n",
       "      <td>1.0</td>\n",
       "      <td>0.0</td>\n",
       "      <td>0</td>\n",
       "      <td>0</td>\n",
       "      <td>0</td>\n",
       "      <td>0</td>\n",
       "    </tr>\n",
       "  </tbody>\n",
       "</table>\n",
       "</div>"
      ],
      "text/plain": [
       "    client_id  gender   age marital_status job_position  credit_sum  \\\n",
       "4           5       0  45.0        no_info          SPC      -999.0   \n",
       "7           8       1  26.0            UNM          SPC     47878.0   \n",
       "10         11       0  26.0            MAR          SPC     16793.0   \n",
       "11         12       1  26.0            UNM          SPC     18936.0   \n",
       "12         13       0  37.0            MAR          SPC     42289.0   \n",
       "\n",
       "    credit_month tariff_id  score_shk education    living_region  \\\n",
       "4             10       1_1   0.421385       SCH      ЧЕЛЯБИНСКАЯ   \n",
       "7             10       1_1   0.512525       GRD       МОСКОВСКАЯ   \n",
       "10            14       1_0   0.445430       SCH  САНКТ-ПЕТЕРБУРГ   \n",
       "11            10      1_32   0.455774   no_info     БАШКОРТОСТАН   \n",
       "12            10       1_6   0.691609       SCH    АРХАНГЕЛЬСКАЯ   \n",
       "\n",
       "    monthly_income  credit_count  overdue_credit_count  open_account_flg  \\\n",
       "4           -999.0           1.0                   0.0                 0   \n",
       "7          60000.0           3.0                   0.0                 0   \n",
       "10         36000.0           2.0                   0.0                 0   \n",
       "11         30000.0           0.0                   0.0                 0   \n",
       "12         70000.0           1.0                   0.0                 0   \n",
       "\n",
       "    no_age_info  no_creditsum_info  no_monthlyincome_info  \n",
       "4             0                  1                      1  \n",
       "7             0                  0                      0  \n",
       "10            0                  0                      0  \n",
       "11            0                  0                      0  \n",
       "12            0                  0                      0  "
      ]
     },
     "execution_count": 129,
     "metadata": {},
     "output_type": "execute_result"
    }
   ],
   "source": [
    "cr_df2.head()"
   ]
  },
  {
   "cell_type": "code",
   "execution_count": 130,
   "metadata": {},
   "outputs": [],
   "source": [
    "cr_df2_copy = cr_df2.copy(deep=True)"
   ]
  },
  {
   "cell_type": "code",
   "execution_count": 131,
   "metadata": {},
   "outputs": [],
   "source": [
    "dummies_cr_df2 = pd.get_dummies(cr_df2)"
   ]
  },
  {
   "cell_type": "code",
   "execution_count": 132,
   "metadata": {},
   "outputs": [
    {
     "data": {
      "text/plain": [
       "(115013, 143)"
      ]
     },
     "execution_count": 132,
     "metadata": {},
     "output_type": "execute_result"
    }
   ],
   "source": [
    "dummies_cr_df2.shape"
   ]
  },
  {
   "cell_type": "code",
   "execution_count": 133,
   "metadata": {},
   "outputs": [],
   "source": [
    "pd.set_option('display.max_columns', 150)"
   ]
  },
  {
   "cell_type": "code",
   "execution_count": 134,
   "metadata": {},
   "outputs": [
    {
     "data": {
      "text/html": [
       "<div>\n",
       "<style scoped>\n",
       "    .dataframe tbody tr th:only-of-type {\n",
       "        vertical-align: middle;\n",
       "    }\n",
       "\n",
       "    .dataframe tbody tr th {\n",
       "        vertical-align: top;\n",
       "    }\n",
       "\n",
       "    .dataframe thead th {\n",
       "        text-align: right;\n",
       "    }\n",
       "</style>\n",
       "<table border=\"1\" class=\"dataframe\">\n",
       "  <thead>\n",
       "    <tr style=\"text-align: right;\">\n",
       "      <th></th>\n",
       "      <th>client_id</th>\n",
       "      <th>gender</th>\n",
       "      <th>age</th>\n",
       "      <th>credit_sum</th>\n",
       "      <th>credit_month</th>\n",
       "      <th>score_shk</th>\n",
       "      <th>monthly_income</th>\n",
       "      <th>credit_count</th>\n",
       "      <th>overdue_credit_count</th>\n",
       "      <th>open_account_flg</th>\n",
       "      <th>no_age_info</th>\n",
       "      <th>no_creditsum_info</th>\n",
       "      <th>no_monthlyincome_info</th>\n",
       "      <th>marital_status_CIV</th>\n",
       "      <th>marital_status_DIV</th>\n",
       "      <th>marital_status_MAR</th>\n",
       "      <th>marital_status_UNM</th>\n",
       "      <th>marital_status_WID</th>\n",
       "      <th>marital_status_no_info</th>\n",
       "      <th>job_position_ATP</th>\n",
       "      <th>job_position_BIS</th>\n",
       "      <th>job_position_DIR</th>\n",
       "      <th>job_position_INP</th>\n",
       "      <th>job_position_NOR</th>\n",
       "      <th>job_position_OTHER</th>\n",
       "      <th>job_position_PNA</th>\n",
       "      <th>job_position_SPC</th>\n",
       "      <th>job_position_UMN</th>\n",
       "      <th>job_position_WOI</th>\n",
       "      <th>job_position_WRK</th>\n",
       "      <th>tariff_id_1_0</th>\n",
       "      <th>tariff_id_1_1</th>\n",
       "      <th>tariff_id_1_16</th>\n",
       "      <th>tariff_id_1_17</th>\n",
       "      <th>tariff_id_1_19</th>\n",
       "      <th>tariff_id_1_2</th>\n",
       "      <th>tariff_id_1_20</th>\n",
       "      <th>tariff_id_1_21</th>\n",
       "      <th>tariff_id_1_22</th>\n",
       "      <th>tariff_id_1_23</th>\n",
       "      <th>tariff_id_1_24</th>\n",
       "      <th>tariff_id_1_25</th>\n",
       "      <th>tariff_id_1_3</th>\n",
       "      <th>tariff_id_1_32</th>\n",
       "      <th>tariff_id_1_4</th>\n",
       "      <th>tariff_id_1_41</th>\n",
       "      <th>tariff_id_1_43</th>\n",
       "      <th>tariff_id_1_44</th>\n",
       "      <th>tariff_id_1_5</th>\n",
       "      <th>tariff_id_1_6</th>\n",
       "      <th>tariff_id_1_7</th>\n",
       "      <th>tariff_id_1_9</th>\n",
       "      <th>tariff_id_1_91</th>\n",
       "      <th>tariff_id_1_94</th>\n",
       "      <th>tariff_id_1_99</th>\n",
       "      <th>education_ACD</th>\n",
       "      <th>education_GRD</th>\n",
       "      <th>education_PGR</th>\n",
       "      <th>education_SCH</th>\n",
       "      <th>education_UGR</th>\n",
       "      <th>education_no_info</th>\n",
       "      <th>living_region_OTHER</th>\n",
       "      <th>living_region_no_info</th>\n",
       "      <th>living_region_АДЫГЕЯ</th>\n",
       "      <th>living_region_АЛТАЙ</th>\n",
       "      <th>living_region_АЛТАЙСКИЙ</th>\n",
       "      <th>living_region_АМУРСКАЯ</th>\n",
       "      <th>living_region_АРХАНГЕЛЬСКАЯ</th>\n",
       "      <th>living_region_АСТРАХАНСКАЯ</th>\n",
       "      <th>living_region_БАШКОРТОСТАН</th>\n",
       "      <th>living_region_БЕЛГОРОДСКАЯ</th>\n",
       "      <th>living_region_БРЯНСКАЯ</th>\n",
       "      <th>living_region_БУРЯТИЯ</th>\n",
       "      <th>living_region_ВЛАДИМИРСКАЯ</th>\n",
       "      <th>living_region_ВОЛГОГРАДСКАЯ</th>\n",
       "      <th>living_region_ВОЛОГОДСКАЯ</th>\n",
       "      <th>living_region_ВОРОНЕЖСКАЯ</th>\n",
       "      <th>living_region_ДАГЕСТАН</th>\n",
       "      <th>living_region_ЕВРЕЙСКАЯ</th>\n",
       "      <th>living_region_ЗАБАЙКАЛЬСКИЙ</th>\n",
       "      <th>living_region_ИВАНОВСКАЯ</th>\n",
       "      <th>living_region_ИРКУТСКАЯ</th>\n",
       "      <th>living_region_КАБАРДИНО-БАЛКАРСКАЯ</th>\n",
       "      <th>living_region_КАЛИНИНГРАДСКАЯ</th>\n",
       "      <th>living_region_КАЛМЫКИЯ</th>\n",
       "      <th>living_region_КАЛУЖСКАЯ</th>\n",
       "      <th>living_region_КАМЧАТСКИЙ</th>\n",
       "      <th>living_region_КАРАЧАЕВО-ЧЕРКЕССКАЯ</th>\n",
       "      <th>living_region_КАРЕЛИЯ</th>\n",
       "      <th>living_region_КЕМЕРОВСКАЯ</th>\n",
       "      <th>living_region_КИРОВСКАЯ</th>\n",
       "      <th>living_region_КОМИ</th>\n",
       "      <th>living_region_КОСТРОМСКАЯ</th>\n",
       "      <th>living_region_КРАСНОДАРСКИЙ</th>\n",
       "      <th>living_region_КРАСНОЯРСКИЙ</th>\n",
       "      <th>living_region_КУРГАНСКАЯ</th>\n",
       "      <th>living_region_КУРСКАЯ</th>\n",
       "      <th>living_region_ЛЕНИНГРАДСКАЯ</th>\n",
       "      <th>living_region_ЛИПЕЦКАЯ</th>\n",
       "      <th>living_region_МАГАДАНСКАЯ</th>\n",
       "      <th>living_region_МАРИЙЭЛ</th>\n",
       "      <th>living_region_МОРДОВИЯ</th>\n",
       "      <th>living_region_МОСКВА</th>\n",
       "      <th>living_region_МОСКОВСКАЯ</th>\n",
       "      <th>living_region_МУРМАНСКАЯ</th>\n",
       "      <th>living_region_НЕНЕЦКИЙ</th>\n",
       "      <th>living_region_НИЖЕГОРОДСКАЯ</th>\n",
       "      <th>living_region_НОВГОРОДСКАЯ</th>\n",
       "      <th>living_region_НОВОСИБИРСКАЯ</th>\n",
       "      <th>living_region_ОМСКАЯ</th>\n",
       "      <th>living_region_ОРЕНБУРГСКАЯ</th>\n",
       "      <th>living_region_ОРЛОВСКАЯ</th>\n",
       "      <th>living_region_ПЕНЗЕНСКАЯ</th>\n",
       "      <th>living_region_ПЕРМСКИЙ</th>\n",
       "      <th>living_region_ПРИМОРСКИЙ</th>\n",
       "      <th>living_region_ПСКОВСКАЯ</th>\n",
       "      <th>living_region_РОСТОВСКАЯ</th>\n",
       "      <th>living_region_РЯЗАНСКАЯ</th>\n",
       "      <th>living_region_САМАРСКАЯ</th>\n",
       "      <th>living_region_САНКТ-ПЕТЕРБУРГ</th>\n",
       "      <th>living_region_САРАТОВСКАЯ</th>\n",
       "      <th>living_region_САХА/ЯКУТИЯ/</th>\n",
       "      <th>living_region_САХАЛИНСКАЯ</th>\n",
       "      <th>living_region_СВЕРДЛОВСКАЯ</th>\n",
       "      <th>living_region_СЕВЕРНАЯОСЕТИЯ-АЛАНИЯ</th>\n",
       "      <th>living_region_СМОЛЕНСКАЯ</th>\n",
       "      <th>living_region_СТАВРОПОЛЬСКИЙ</th>\n",
       "      <th>living_region_ТАМБОВСКАЯ</th>\n",
       "      <th>living_region_ТАТАРСТАН</th>\n",
       "      <th>living_region_ТВЕРСКАЯ</th>\n",
       "      <th>living_region_ТОМСКАЯ</th>\n",
       "      <th>living_region_ТУЛЬСКАЯ</th>\n",
       "      <th>living_region_ТЫВА</th>\n",
       "      <th>living_region_ТЮМЕНСКАЯ</th>\n",
       "      <th>living_region_УДМУРТСКАЯ</th>\n",
       "      <th>living_region_УЛЬЯНОВСКАЯ</th>\n",
       "      <th>living_region_ХАБАРОВСКИЙ</th>\n",
       "      <th>living_region_ХАКАСИЯ</th>\n",
       "      <th>living_region_ХАНТЫ-МАНСИЙСКИЙ</th>\n",
       "      <th>living_region_ЧЕЛЯБИНСКАЯ</th>\n",
       "      <th>living_region_ЧУВАШСКАЯ</th>\n",
       "      <th>living_region_ЯМАЛО-НЕНЕЦКИЙ</th>\n",
       "      <th>living_region_ЯРОСЛАВСКАЯ</th>\n",
       "    </tr>\n",
       "  </thead>\n",
       "  <tbody>\n",
       "    <tr>\n",
       "      <td>4</td>\n",
       "      <td>5</td>\n",
       "      <td>0</td>\n",
       "      <td>45.0</td>\n",
       "      <td>-999.0</td>\n",
       "      <td>10</td>\n",
       "      <td>0.421385</td>\n",
       "      <td>-999.0</td>\n",
       "      <td>1.0</td>\n",
       "      <td>0.0</td>\n",
       "      <td>0</td>\n",
       "      <td>0</td>\n",
       "      <td>1</td>\n",
       "      <td>1</td>\n",
       "      <td>0</td>\n",
       "      <td>0</td>\n",
       "      <td>0</td>\n",
       "      <td>0</td>\n",
       "      <td>0</td>\n",
       "      <td>1</td>\n",
       "      <td>0</td>\n",
       "      <td>0</td>\n",
       "      <td>0</td>\n",
       "      <td>0</td>\n",
       "      <td>0</td>\n",
       "      <td>0</td>\n",
       "      <td>0</td>\n",
       "      <td>1</td>\n",
       "      <td>0</td>\n",
       "      <td>0</td>\n",
       "      <td>0</td>\n",
       "      <td>0</td>\n",
       "      <td>1</td>\n",
       "      <td>0</td>\n",
       "      <td>0</td>\n",
       "      <td>0</td>\n",
       "      <td>0</td>\n",
       "      <td>0</td>\n",
       "      <td>0</td>\n",
       "      <td>0</td>\n",
       "      <td>0</td>\n",
       "      <td>0</td>\n",
       "      <td>0</td>\n",
       "      <td>0</td>\n",
       "      <td>0</td>\n",
       "      <td>0</td>\n",
       "      <td>0</td>\n",
       "      <td>0</td>\n",
       "      <td>0</td>\n",
       "      <td>0</td>\n",
       "      <td>0</td>\n",
       "      <td>0</td>\n",
       "      <td>0</td>\n",
       "      <td>0</td>\n",
       "      <td>0</td>\n",
       "      <td>0</td>\n",
       "      <td>0</td>\n",
       "      <td>0</td>\n",
       "      <td>0</td>\n",
       "      <td>1</td>\n",
       "      <td>0</td>\n",
       "      <td>0</td>\n",
       "      <td>0</td>\n",
       "      <td>0</td>\n",
       "      <td>0</td>\n",
       "      <td>0</td>\n",
       "      <td>0</td>\n",
       "      <td>0</td>\n",
       "      <td>0</td>\n",
       "      <td>0</td>\n",
       "      <td>0</td>\n",
       "      <td>0</td>\n",
       "      <td>0</td>\n",
       "      <td>0</td>\n",
       "      <td>0</td>\n",
       "      <td>0</td>\n",
       "      <td>0</td>\n",
       "      <td>0</td>\n",
       "      <td>0</td>\n",
       "      <td>0</td>\n",
       "      <td>0</td>\n",
       "      <td>0</td>\n",
       "      <td>0</td>\n",
       "      <td>0</td>\n",
       "      <td>0</td>\n",
       "      <td>0</td>\n",
       "      <td>0</td>\n",
       "      <td>0</td>\n",
       "      <td>0</td>\n",
       "      <td>0</td>\n",
       "      <td>0</td>\n",
       "      <td>0</td>\n",
       "      <td>0</td>\n",
       "      <td>0</td>\n",
       "      <td>0</td>\n",
       "      <td>0</td>\n",
       "      <td>0</td>\n",
       "      <td>0</td>\n",
       "      <td>0</td>\n",
       "      <td>0</td>\n",
       "      <td>0</td>\n",
       "      <td>0</td>\n",
       "      <td>0</td>\n",
       "      <td>0</td>\n",
       "      <td>0</td>\n",
       "      <td>0</td>\n",
       "      <td>0</td>\n",
       "      <td>0</td>\n",
       "      <td>0</td>\n",
       "      <td>0</td>\n",
       "      <td>0</td>\n",
       "      <td>0</td>\n",
       "      <td>0</td>\n",
       "      <td>0</td>\n",
       "      <td>0</td>\n",
       "      <td>0</td>\n",
       "      <td>0</td>\n",
       "      <td>0</td>\n",
       "      <td>0</td>\n",
       "      <td>0</td>\n",
       "      <td>0</td>\n",
       "      <td>0</td>\n",
       "      <td>0</td>\n",
       "      <td>0</td>\n",
       "      <td>0</td>\n",
       "      <td>0</td>\n",
       "      <td>0</td>\n",
       "      <td>0</td>\n",
       "      <td>0</td>\n",
       "      <td>0</td>\n",
       "      <td>0</td>\n",
       "      <td>0</td>\n",
       "      <td>0</td>\n",
       "      <td>0</td>\n",
       "      <td>0</td>\n",
       "      <td>0</td>\n",
       "      <td>0</td>\n",
       "      <td>0</td>\n",
       "      <td>0</td>\n",
       "      <td>0</td>\n",
       "      <td>1</td>\n",
       "      <td>0</td>\n",
       "      <td>0</td>\n",
       "      <td>0</td>\n",
       "    </tr>\n",
       "    <tr>\n",
       "      <td>7</td>\n",
       "      <td>8</td>\n",
       "      <td>1</td>\n",
       "      <td>26.0</td>\n",
       "      <td>47878.0</td>\n",
       "      <td>10</td>\n",
       "      <td>0.512525</td>\n",
       "      <td>60000.0</td>\n",
       "      <td>3.0</td>\n",
       "      <td>0.0</td>\n",
       "      <td>0</td>\n",
       "      <td>0</td>\n",
       "      <td>0</td>\n",
       "      <td>0</td>\n",
       "      <td>0</td>\n",
       "      <td>0</td>\n",
       "      <td>0</td>\n",
       "      <td>1</td>\n",
       "      <td>0</td>\n",
       "      <td>0</td>\n",
       "      <td>0</td>\n",
       "      <td>0</td>\n",
       "      <td>0</td>\n",
       "      <td>0</td>\n",
       "      <td>0</td>\n",
       "      <td>0</td>\n",
       "      <td>0</td>\n",
       "      <td>1</td>\n",
       "      <td>0</td>\n",
       "      <td>0</td>\n",
       "      <td>0</td>\n",
       "      <td>0</td>\n",
       "      <td>1</td>\n",
       "      <td>0</td>\n",
       "      <td>0</td>\n",
       "      <td>0</td>\n",
       "      <td>0</td>\n",
       "      <td>0</td>\n",
       "      <td>0</td>\n",
       "      <td>0</td>\n",
       "      <td>0</td>\n",
       "      <td>0</td>\n",
       "      <td>0</td>\n",
       "      <td>0</td>\n",
       "      <td>0</td>\n",
       "      <td>0</td>\n",
       "      <td>0</td>\n",
       "      <td>0</td>\n",
       "      <td>0</td>\n",
       "      <td>0</td>\n",
       "      <td>0</td>\n",
       "      <td>0</td>\n",
       "      <td>0</td>\n",
       "      <td>0</td>\n",
       "      <td>0</td>\n",
       "      <td>0</td>\n",
       "      <td>0</td>\n",
       "      <td>1</td>\n",
       "      <td>0</td>\n",
       "      <td>0</td>\n",
       "      <td>0</td>\n",
       "      <td>0</td>\n",
       "      <td>0</td>\n",
       "      <td>0</td>\n",
       "      <td>0</td>\n",
       "      <td>0</td>\n",
       "      <td>0</td>\n",
       "      <td>0</td>\n",
       "      <td>0</td>\n",
       "      <td>0</td>\n",
       "      <td>0</td>\n",
       "      <td>0</td>\n",
       "      <td>0</td>\n",
       "      <td>0</td>\n",
       "      <td>0</td>\n",
       "      <td>0</td>\n",
       "      <td>0</td>\n",
       "      <td>0</td>\n",
       "      <td>0</td>\n",
       "      <td>0</td>\n",
       "      <td>0</td>\n",
       "      <td>0</td>\n",
       "      <td>0</td>\n",
       "      <td>0</td>\n",
       "      <td>0</td>\n",
       "      <td>0</td>\n",
       "      <td>0</td>\n",
       "      <td>0</td>\n",
       "      <td>0</td>\n",
       "      <td>0</td>\n",
       "      <td>0</td>\n",
       "      <td>0</td>\n",
       "      <td>0</td>\n",
       "      <td>0</td>\n",
       "      <td>0</td>\n",
       "      <td>0</td>\n",
       "      <td>0</td>\n",
       "      <td>0</td>\n",
       "      <td>0</td>\n",
       "      <td>0</td>\n",
       "      <td>0</td>\n",
       "      <td>0</td>\n",
       "      <td>0</td>\n",
       "      <td>0</td>\n",
       "      <td>1</td>\n",
       "      <td>0</td>\n",
       "      <td>0</td>\n",
       "      <td>0</td>\n",
       "      <td>0</td>\n",
       "      <td>0</td>\n",
       "      <td>0</td>\n",
       "      <td>0</td>\n",
       "      <td>0</td>\n",
       "      <td>0</td>\n",
       "      <td>0</td>\n",
       "      <td>0</td>\n",
       "      <td>0</td>\n",
       "      <td>0</td>\n",
       "      <td>0</td>\n",
       "      <td>0</td>\n",
       "      <td>0</td>\n",
       "      <td>0</td>\n",
       "      <td>0</td>\n",
       "      <td>0</td>\n",
       "      <td>0</td>\n",
       "      <td>0</td>\n",
       "      <td>0</td>\n",
       "      <td>0</td>\n",
       "      <td>0</td>\n",
       "      <td>0</td>\n",
       "      <td>0</td>\n",
       "      <td>0</td>\n",
       "      <td>0</td>\n",
       "      <td>0</td>\n",
       "      <td>0</td>\n",
       "      <td>0</td>\n",
       "      <td>0</td>\n",
       "      <td>0</td>\n",
       "      <td>0</td>\n",
       "      <td>0</td>\n",
       "      <td>0</td>\n",
       "      <td>0</td>\n",
       "      <td>0</td>\n",
       "      <td>0</td>\n",
       "    </tr>\n",
       "    <tr>\n",
       "      <td>10</td>\n",
       "      <td>11</td>\n",
       "      <td>0</td>\n",
       "      <td>26.0</td>\n",
       "      <td>16793.0</td>\n",
       "      <td>14</td>\n",
       "      <td>0.445430</td>\n",
       "      <td>36000.0</td>\n",
       "      <td>2.0</td>\n",
       "      <td>0.0</td>\n",
       "      <td>0</td>\n",
       "      <td>0</td>\n",
       "      <td>0</td>\n",
       "      <td>0</td>\n",
       "      <td>0</td>\n",
       "      <td>0</td>\n",
       "      <td>1</td>\n",
       "      <td>0</td>\n",
       "      <td>0</td>\n",
       "      <td>0</td>\n",
       "      <td>0</td>\n",
       "      <td>0</td>\n",
       "      <td>0</td>\n",
       "      <td>0</td>\n",
       "      <td>0</td>\n",
       "      <td>0</td>\n",
       "      <td>0</td>\n",
       "      <td>1</td>\n",
       "      <td>0</td>\n",
       "      <td>0</td>\n",
       "      <td>0</td>\n",
       "      <td>1</td>\n",
       "      <td>0</td>\n",
       "      <td>0</td>\n",
       "      <td>0</td>\n",
       "      <td>0</td>\n",
       "      <td>0</td>\n",
       "      <td>0</td>\n",
       "      <td>0</td>\n",
       "      <td>0</td>\n",
       "      <td>0</td>\n",
       "      <td>0</td>\n",
       "      <td>0</td>\n",
       "      <td>0</td>\n",
       "      <td>0</td>\n",
       "      <td>0</td>\n",
       "      <td>0</td>\n",
       "      <td>0</td>\n",
       "      <td>0</td>\n",
       "      <td>0</td>\n",
       "      <td>0</td>\n",
       "      <td>0</td>\n",
       "      <td>0</td>\n",
       "      <td>0</td>\n",
       "      <td>0</td>\n",
       "      <td>0</td>\n",
       "      <td>0</td>\n",
       "      <td>0</td>\n",
       "      <td>0</td>\n",
       "      <td>1</td>\n",
       "      <td>0</td>\n",
       "      <td>0</td>\n",
       "      <td>0</td>\n",
       "      <td>0</td>\n",
       "      <td>0</td>\n",
       "      <td>0</td>\n",
       "      <td>0</td>\n",
       "      <td>0</td>\n",
       "      <td>0</td>\n",
       "      <td>0</td>\n",
       "      <td>0</td>\n",
       "      <td>0</td>\n",
       "      <td>0</td>\n",
       "      <td>0</td>\n",
       "      <td>0</td>\n",
       "      <td>0</td>\n",
       "      <td>0</td>\n",
       "      <td>0</td>\n",
       "      <td>0</td>\n",
       "      <td>0</td>\n",
       "      <td>0</td>\n",
       "      <td>0</td>\n",
       "      <td>0</td>\n",
       "      <td>0</td>\n",
       "      <td>0</td>\n",
       "      <td>0</td>\n",
       "      <td>0</td>\n",
       "      <td>0</td>\n",
       "      <td>0</td>\n",
       "      <td>0</td>\n",
       "      <td>0</td>\n",
       "      <td>0</td>\n",
       "      <td>0</td>\n",
       "      <td>0</td>\n",
       "      <td>0</td>\n",
       "      <td>0</td>\n",
       "      <td>0</td>\n",
       "      <td>0</td>\n",
       "      <td>0</td>\n",
       "      <td>0</td>\n",
       "      <td>0</td>\n",
       "      <td>0</td>\n",
       "      <td>0</td>\n",
       "      <td>0</td>\n",
       "      <td>0</td>\n",
       "      <td>0</td>\n",
       "      <td>0</td>\n",
       "      <td>0</td>\n",
       "      <td>0</td>\n",
       "      <td>0</td>\n",
       "      <td>0</td>\n",
       "      <td>0</td>\n",
       "      <td>0</td>\n",
       "      <td>0</td>\n",
       "      <td>0</td>\n",
       "      <td>0</td>\n",
       "      <td>0</td>\n",
       "      <td>0</td>\n",
       "      <td>0</td>\n",
       "      <td>0</td>\n",
       "      <td>1</td>\n",
       "      <td>0</td>\n",
       "      <td>0</td>\n",
       "      <td>0</td>\n",
       "      <td>0</td>\n",
       "      <td>0</td>\n",
       "      <td>0</td>\n",
       "      <td>0</td>\n",
       "      <td>0</td>\n",
       "      <td>0</td>\n",
       "      <td>0</td>\n",
       "      <td>0</td>\n",
       "      <td>0</td>\n",
       "      <td>0</td>\n",
       "      <td>0</td>\n",
       "      <td>0</td>\n",
       "      <td>0</td>\n",
       "      <td>0</td>\n",
       "      <td>0</td>\n",
       "      <td>0</td>\n",
       "      <td>0</td>\n",
       "      <td>0</td>\n",
       "      <td>0</td>\n",
       "      <td>0</td>\n",
       "    </tr>\n",
       "    <tr>\n",
       "      <td>11</td>\n",
       "      <td>12</td>\n",
       "      <td>1</td>\n",
       "      <td>26.0</td>\n",
       "      <td>18936.0</td>\n",
       "      <td>10</td>\n",
       "      <td>0.455774</td>\n",
       "      <td>30000.0</td>\n",
       "      <td>0.0</td>\n",
       "      <td>0.0</td>\n",
       "      <td>0</td>\n",
       "      <td>0</td>\n",
       "      <td>0</td>\n",
       "      <td>0</td>\n",
       "      <td>0</td>\n",
       "      <td>0</td>\n",
       "      <td>0</td>\n",
       "      <td>1</td>\n",
       "      <td>0</td>\n",
       "      <td>0</td>\n",
       "      <td>0</td>\n",
       "      <td>0</td>\n",
       "      <td>0</td>\n",
       "      <td>0</td>\n",
       "      <td>0</td>\n",
       "      <td>0</td>\n",
       "      <td>0</td>\n",
       "      <td>1</td>\n",
       "      <td>0</td>\n",
       "      <td>0</td>\n",
       "      <td>0</td>\n",
       "      <td>0</td>\n",
       "      <td>0</td>\n",
       "      <td>0</td>\n",
       "      <td>0</td>\n",
       "      <td>0</td>\n",
       "      <td>0</td>\n",
       "      <td>0</td>\n",
       "      <td>0</td>\n",
       "      <td>0</td>\n",
       "      <td>0</td>\n",
       "      <td>0</td>\n",
       "      <td>0</td>\n",
       "      <td>0</td>\n",
       "      <td>1</td>\n",
       "      <td>0</td>\n",
       "      <td>0</td>\n",
       "      <td>0</td>\n",
       "      <td>0</td>\n",
       "      <td>0</td>\n",
       "      <td>0</td>\n",
       "      <td>0</td>\n",
       "      <td>0</td>\n",
       "      <td>0</td>\n",
       "      <td>0</td>\n",
       "      <td>0</td>\n",
       "      <td>0</td>\n",
       "      <td>0</td>\n",
       "      <td>0</td>\n",
       "      <td>0</td>\n",
       "      <td>0</td>\n",
       "      <td>1</td>\n",
       "      <td>0</td>\n",
       "      <td>0</td>\n",
       "      <td>0</td>\n",
       "      <td>0</td>\n",
       "      <td>0</td>\n",
       "      <td>0</td>\n",
       "      <td>0</td>\n",
       "      <td>0</td>\n",
       "      <td>1</td>\n",
       "      <td>0</td>\n",
       "      <td>0</td>\n",
       "      <td>0</td>\n",
       "      <td>0</td>\n",
       "      <td>0</td>\n",
       "      <td>0</td>\n",
       "      <td>0</td>\n",
       "      <td>0</td>\n",
       "      <td>0</td>\n",
       "      <td>0</td>\n",
       "      <td>0</td>\n",
       "      <td>0</td>\n",
       "      <td>0</td>\n",
       "      <td>0</td>\n",
       "      <td>0</td>\n",
       "      <td>0</td>\n",
       "      <td>0</td>\n",
       "      <td>0</td>\n",
       "      <td>0</td>\n",
       "      <td>0</td>\n",
       "      <td>0</td>\n",
       "      <td>0</td>\n",
       "      <td>0</td>\n",
       "      <td>0</td>\n",
       "      <td>0</td>\n",
       "      <td>0</td>\n",
       "      <td>0</td>\n",
       "      <td>0</td>\n",
       "      <td>0</td>\n",
       "      <td>0</td>\n",
       "      <td>0</td>\n",
       "      <td>0</td>\n",
       "      <td>0</td>\n",
       "      <td>0</td>\n",
       "      <td>0</td>\n",
       "      <td>0</td>\n",
       "      <td>0</td>\n",
       "      <td>0</td>\n",
       "      <td>0</td>\n",
       "      <td>0</td>\n",
       "      <td>0</td>\n",
       "      <td>0</td>\n",
       "      <td>0</td>\n",
       "      <td>0</td>\n",
       "      <td>0</td>\n",
       "      <td>0</td>\n",
       "      <td>0</td>\n",
       "      <td>0</td>\n",
       "      <td>0</td>\n",
       "      <td>0</td>\n",
       "      <td>0</td>\n",
       "      <td>0</td>\n",
       "      <td>0</td>\n",
       "      <td>0</td>\n",
       "      <td>0</td>\n",
       "      <td>0</td>\n",
       "      <td>0</td>\n",
       "      <td>0</td>\n",
       "      <td>0</td>\n",
       "      <td>0</td>\n",
       "      <td>0</td>\n",
       "      <td>0</td>\n",
       "      <td>0</td>\n",
       "      <td>0</td>\n",
       "      <td>0</td>\n",
       "      <td>0</td>\n",
       "      <td>0</td>\n",
       "      <td>0</td>\n",
       "      <td>0</td>\n",
       "      <td>0</td>\n",
       "      <td>0</td>\n",
       "      <td>0</td>\n",
       "      <td>0</td>\n",
       "    </tr>\n",
       "    <tr>\n",
       "      <td>12</td>\n",
       "      <td>13</td>\n",
       "      <td>0</td>\n",
       "      <td>37.0</td>\n",
       "      <td>42289.0</td>\n",
       "      <td>10</td>\n",
       "      <td>0.691609</td>\n",
       "      <td>70000.0</td>\n",
       "      <td>1.0</td>\n",
       "      <td>0.0</td>\n",
       "      <td>0</td>\n",
       "      <td>0</td>\n",
       "      <td>0</td>\n",
       "      <td>0</td>\n",
       "      <td>0</td>\n",
       "      <td>0</td>\n",
       "      <td>1</td>\n",
       "      <td>0</td>\n",
       "      <td>0</td>\n",
       "      <td>0</td>\n",
       "      <td>0</td>\n",
       "      <td>0</td>\n",
       "      <td>0</td>\n",
       "      <td>0</td>\n",
       "      <td>0</td>\n",
       "      <td>0</td>\n",
       "      <td>0</td>\n",
       "      <td>1</td>\n",
       "      <td>0</td>\n",
       "      <td>0</td>\n",
       "      <td>0</td>\n",
       "      <td>0</td>\n",
       "      <td>0</td>\n",
       "      <td>0</td>\n",
       "      <td>0</td>\n",
       "      <td>0</td>\n",
       "      <td>0</td>\n",
       "      <td>0</td>\n",
       "      <td>0</td>\n",
       "      <td>0</td>\n",
       "      <td>0</td>\n",
       "      <td>0</td>\n",
       "      <td>0</td>\n",
       "      <td>0</td>\n",
       "      <td>0</td>\n",
       "      <td>0</td>\n",
       "      <td>0</td>\n",
       "      <td>0</td>\n",
       "      <td>0</td>\n",
       "      <td>0</td>\n",
       "      <td>1</td>\n",
       "      <td>0</td>\n",
       "      <td>0</td>\n",
       "      <td>0</td>\n",
       "      <td>0</td>\n",
       "      <td>0</td>\n",
       "      <td>0</td>\n",
       "      <td>0</td>\n",
       "      <td>0</td>\n",
       "      <td>1</td>\n",
       "      <td>0</td>\n",
       "      <td>0</td>\n",
       "      <td>0</td>\n",
       "      <td>0</td>\n",
       "      <td>0</td>\n",
       "      <td>0</td>\n",
       "      <td>0</td>\n",
       "      <td>0</td>\n",
       "      <td>1</td>\n",
       "      <td>0</td>\n",
       "      <td>0</td>\n",
       "      <td>0</td>\n",
       "      <td>0</td>\n",
       "      <td>0</td>\n",
       "      <td>0</td>\n",
       "      <td>0</td>\n",
       "      <td>0</td>\n",
       "      <td>0</td>\n",
       "      <td>0</td>\n",
       "      <td>0</td>\n",
       "      <td>0</td>\n",
       "      <td>0</td>\n",
       "      <td>0</td>\n",
       "      <td>0</td>\n",
       "      <td>0</td>\n",
       "      <td>0</td>\n",
       "      <td>0</td>\n",
       "      <td>0</td>\n",
       "      <td>0</td>\n",
       "      <td>0</td>\n",
       "      <td>0</td>\n",
       "      <td>0</td>\n",
       "      <td>0</td>\n",
       "      <td>0</td>\n",
       "      <td>0</td>\n",
       "      <td>0</td>\n",
       "      <td>0</td>\n",
       "      <td>0</td>\n",
       "      <td>0</td>\n",
       "      <td>0</td>\n",
       "      <td>0</td>\n",
       "      <td>0</td>\n",
       "      <td>0</td>\n",
       "      <td>0</td>\n",
       "      <td>0</td>\n",
       "      <td>0</td>\n",
       "      <td>0</td>\n",
       "      <td>0</td>\n",
       "      <td>0</td>\n",
       "      <td>0</td>\n",
       "      <td>0</td>\n",
       "      <td>0</td>\n",
       "      <td>0</td>\n",
       "      <td>0</td>\n",
       "      <td>0</td>\n",
       "      <td>0</td>\n",
       "      <td>0</td>\n",
       "      <td>0</td>\n",
       "      <td>0</td>\n",
       "      <td>0</td>\n",
       "      <td>0</td>\n",
       "      <td>0</td>\n",
       "      <td>0</td>\n",
       "      <td>0</td>\n",
       "      <td>0</td>\n",
       "      <td>0</td>\n",
       "      <td>0</td>\n",
       "      <td>0</td>\n",
       "      <td>0</td>\n",
       "      <td>0</td>\n",
       "      <td>0</td>\n",
       "      <td>0</td>\n",
       "      <td>0</td>\n",
       "      <td>0</td>\n",
       "      <td>0</td>\n",
       "      <td>0</td>\n",
       "      <td>0</td>\n",
       "      <td>0</td>\n",
       "      <td>0</td>\n",
       "      <td>0</td>\n",
       "      <td>0</td>\n",
       "      <td>0</td>\n",
       "      <td>0</td>\n",
       "      <td>0</td>\n",
       "    </tr>\n",
       "  </tbody>\n",
       "</table>\n",
       "</div>"
      ],
      "text/plain": [
       "    client_id  gender   age  credit_sum  credit_month  score_shk  \\\n",
       "4           5       0  45.0      -999.0            10   0.421385   \n",
       "7           8       1  26.0     47878.0            10   0.512525   \n",
       "10         11       0  26.0     16793.0            14   0.445430   \n",
       "11         12       1  26.0     18936.0            10   0.455774   \n",
       "12         13       0  37.0     42289.0            10   0.691609   \n",
       "\n",
       "    monthly_income  credit_count  overdue_credit_count  open_account_flg  \\\n",
       "4           -999.0           1.0                   0.0                 0   \n",
       "7          60000.0           3.0                   0.0                 0   \n",
       "10         36000.0           2.0                   0.0                 0   \n",
       "11         30000.0           0.0                   0.0                 0   \n",
       "12         70000.0           1.0                   0.0                 0   \n",
       "\n",
       "    no_age_info  no_creditsum_info  no_monthlyincome_info  marital_status_CIV  \\\n",
       "4             0                  1                      1                   0   \n",
       "7             0                  0                      0                   0   \n",
       "10            0                  0                      0                   0   \n",
       "11            0                  0                      0                   0   \n",
       "12            0                  0                      0                   0   \n",
       "\n",
       "    marital_status_DIV  marital_status_MAR  marital_status_UNM  \\\n",
       "4                    0                   0                   0   \n",
       "7                    0                   0                   1   \n",
       "10                   0                   1                   0   \n",
       "11                   0                   0                   1   \n",
       "12                   0                   1                   0   \n",
       "\n",
       "    marital_status_WID  marital_status_no_info  job_position_ATP  \\\n",
       "4                    0                       1                 0   \n",
       "7                    0                       0                 0   \n",
       "10                   0                       0                 0   \n",
       "11                   0                       0                 0   \n",
       "12                   0                       0                 0   \n",
       "\n",
       "    job_position_BIS  job_position_DIR  job_position_INP  job_position_NOR  \\\n",
       "4                  0                 0                 0                 0   \n",
       "7                  0                 0                 0                 0   \n",
       "10                 0                 0                 0                 0   \n",
       "11                 0                 0                 0                 0   \n",
       "12                 0                 0                 0                 0   \n",
       "\n",
       "    job_position_OTHER  job_position_PNA  job_position_SPC  job_position_UMN  \\\n",
       "4                    0                 0                 1                 0   \n",
       "7                    0                 0                 1                 0   \n",
       "10                   0                 0                 1                 0   \n",
       "11                   0                 0                 1                 0   \n",
       "12                   0                 0                 1                 0   \n",
       "\n",
       "    job_position_WOI  job_position_WRK  tariff_id_1_0  tariff_id_1_1  \\\n",
       "4                  0                 0              0              1   \n",
       "7                  0                 0              0              1   \n",
       "10                 0                 0              1              0   \n",
       "11                 0                 0              0              0   \n",
       "12                 0                 0              0              0   \n",
       "\n",
       "    tariff_id_1_16  tariff_id_1_17  tariff_id_1_19  tariff_id_1_2  \\\n",
       "4                0               0               0              0   \n",
       "7                0               0               0              0   \n",
       "10               0               0               0              0   \n",
       "11               0               0               0              0   \n",
       "12               0               0               0              0   \n",
       "\n",
       "    tariff_id_1_20  tariff_id_1_21  tariff_id_1_22  tariff_id_1_23  \\\n",
       "4                0               0               0               0   \n",
       "7                0               0               0               0   \n",
       "10               0               0               0               0   \n",
       "11               0               0               0               0   \n",
       "12               0               0               0               0   \n",
       "\n",
       "    tariff_id_1_24  tariff_id_1_25  tariff_id_1_3  tariff_id_1_32  \\\n",
       "4                0               0              0               0   \n",
       "7                0               0              0               0   \n",
       "10               0               0              0               0   \n",
       "11               0               0              0               1   \n",
       "12               0               0              0               0   \n",
       "\n",
       "    tariff_id_1_4  tariff_id_1_41  tariff_id_1_43  tariff_id_1_44  \\\n",
       "4               0               0               0               0   \n",
       "7               0               0               0               0   \n",
       "10              0               0               0               0   \n",
       "11              0               0               0               0   \n",
       "12              0               0               0               0   \n",
       "\n",
       "    tariff_id_1_5  tariff_id_1_6  tariff_id_1_7  tariff_id_1_9  \\\n",
       "4               0              0              0              0   \n",
       "7               0              0              0              0   \n",
       "10              0              0              0              0   \n",
       "11              0              0              0              0   \n",
       "12              0              1              0              0   \n",
       "\n",
       "    tariff_id_1_91  tariff_id_1_94  tariff_id_1_99  education_ACD  \\\n",
       "4                0               0               0              0   \n",
       "7                0               0               0              0   \n",
       "10               0               0               0              0   \n",
       "11               0               0               0              0   \n",
       "12               0               0               0              0   \n",
       "\n",
       "    education_GRD  education_PGR  education_SCH  education_UGR  \\\n",
       "4               0              0              1              0   \n",
       "7               1              0              0              0   \n",
       "10              0              0              1              0   \n",
       "11              0              0              0              0   \n",
       "12              0              0              1              0   \n",
       "\n",
       "    education_no_info  living_region_OTHER  living_region_no_info  \\\n",
       "4                   0                    0                      0   \n",
       "7                   0                    0                      0   \n",
       "10                  0                    0                      0   \n",
       "11                  1                    0                      0   \n",
       "12                  0                    0                      0   \n",
       "\n",
       "    living_region_АДЫГЕЯ  living_region_АЛТАЙ  living_region_АЛТАЙСКИЙ  \\\n",
       "4                      0                    0                        0   \n",
       "7                      0                    0                        0   \n",
       "10                     0                    0                        0   \n",
       "11                     0                    0                        0   \n",
       "12                     0                    0                        0   \n",
       "\n",
       "    living_region_АМУРСКАЯ  living_region_АРХАНГЕЛЬСКАЯ  \\\n",
       "4                        0                            0   \n",
       "7                        0                            0   \n",
       "10                       0                            0   \n",
       "11                       0                            0   \n",
       "12                       0                            1   \n",
       "\n",
       "    living_region_АСТРАХАНСКАЯ  living_region_БАШКОРТОСТАН  \\\n",
       "4                            0                           0   \n",
       "7                            0                           0   \n",
       "10                           0                           0   \n",
       "11                           0                           1   \n",
       "12                           0                           0   \n",
       "\n",
       "    living_region_БЕЛГОРОДСКАЯ  living_region_БРЯНСКАЯ  living_region_БУРЯТИЯ  \\\n",
       "4                            0                       0                      0   \n",
       "7                            0                       0                      0   \n",
       "10                           0                       0                      0   \n",
       "11                           0                       0                      0   \n",
       "12                           0                       0                      0   \n",
       "\n",
       "    living_region_ВЛАДИМИРСКАЯ  living_region_ВОЛГОГРАДСКАЯ  \\\n",
       "4                            0                            0   \n",
       "7                            0                            0   \n",
       "10                           0                            0   \n",
       "11                           0                            0   \n",
       "12                           0                            0   \n",
       "\n",
       "    living_region_ВОЛОГОДСКАЯ  living_region_ВОРОНЕЖСКАЯ  \\\n",
       "4                           0                          0   \n",
       "7                           0                          0   \n",
       "10                          0                          0   \n",
       "11                          0                          0   \n",
       "12                          0                          0   \n",
       "\n",
       "    living_region_ДАГЕСТАН  living_region_ЕВРЕЙСКАЯ  \\\n",
       "4                        0                        0   \n",
       "7                        0                        0   \n",
       "10                       0                        0   \n",
       "11                       0                        0   \n",
       "12                       0                        0   \n",
       "\n",
       "    living_region_ЗАБАЙКАЛЬСКИЙ  living_region_ИВАНОВСКАЯ  \\\n",
       "4                             0                         0   \n",
       "7                             0                         0   \n",
       "10                            0                         0   \n",
       "11                            0                         0   \n",
       "12                            0                         0   \n",
       "\n",
       "    living_region_ИРКУТСКАЯ  living_region_КАБАРДИНО-БАЛКАРСКАЯ  \\\n",
       "4                         0                                   0   \n",
       "7                         0                                   0   \n",
       "10                        0                                   0   \n",
       "11                        0                                   0   \n",
       "12                        0                                   0   \n",
       "\n",
       "    living_region_КАЛИНИНГРАДСКАЯ  living_region_КАЛМЫКИЯ  \\\n",
       "4                               0                       0   \n",
       "7                               0                       0   \n",
       "10                              0                       0   \n",
       "11                              0                       0   \n",
       "12                              0                       0   \n",
       "\n",
       "    living_region_КАЛУЖСКАЯ  living_region_КАМЧАТСКИЙ  \\\n",
       "4                         0                         0   \n",
       "7                         0                         0   \n",
       "10                        0                         0   \n",
       "11                        0                         0   \n",
       "12                        0                         0   \n",
       "\n",
       "    living_region_КАРАЧАЕВО-ЧЕРКЕССКАЯ  living_region_КАРЕЛИЯ  \\\n",
       "4                                    0                      0   \n",
       "7                                    0                      0   \n",
       "10                                   0                      0   \n",
       "11                                   0                      0   \n",
       "12                                   0                      0   \n",
       "\n",
       "    living_region_КЕМЕРОВСКАЯ  living_region_КИРОВСКАЯ  living_region_КОМИ  \\\n",
       "4                           0                        0                   0   \n",
       "7                           0                        0                   0   \n",
       "10                          0                        0                   0   \n",
       "11                          0                        0                   0   \n",
       "12                          0                        0                   0   \n",
       "\n",
       "    living_region_КОСТРОМСКАЯ  living_region_КРАСНОДАРСКИЙ  \\\n",
       "4                           0                            0   \n",
       "7                           0                            0   \n",
       "10                          0                            0   \n",
       "11                          0                            0   \n",
       "12                          0                            0   \n",
       "\n",
       "    living_region_КРАСНОЯРСКИЙ  living_region_КУРГАНСКАЯ  \\\n",
       "4                            0                         0   \n",
       "7                            0                         0   \n",
       "10                           0                         0   \n",
       "11                           0                         0   \n",
       "12                           0                         0   \n",
       "\n",
       "    living_region_КУРСКАЯ  living_region_ЛЕНИНГРАДСКАЯ  \\\n",
       "4                       0                            0   \n",
       "7                       0                            0   \n",
       "10                      0                            0   \n",
       "11                      0                            0   \n",
       "12                      0                            0   \n",
       "\n",
       "    living_region_ЛИПЕЦКАЯ  living_region_МАГАДАНСКАЯ  living_region_МАРИЙЭЛ  \\\n",
       "4                        0                          0                      0   \n",
       "7                        0                          0                      0   \n",
       "10                       0                          0                      0   \n",
       "11                       0                          0                      0   \n",
       "12                       0                          0                      0   \n",
       "\n",
       "    living_region_МОРДОВИЯ  living_region_МОСКВА  living_region_МОСКОВСКАЯ  \\\n",
       "4                        0                     0                         0   \n",
       "7                        0                     0                         1   \n",
       "10                       0                     0                         0   \n",
       "11                       0                     0                         0   \n",
       "12                       0                     0                         0   \n",
       "\n",
       "    living_region_МУРМАНСКАЯ  living_region_НЕНЕЦКИЙ  \\\n",
       "4                          0                       0   \n",
       "7                          0                       0   \n",
       "10                         0                       0   \n",
       "11                         0                       0   \n",
       "12                         0                       0   \n",
       "\n",
       "    living_region_НИЖЕГОРОДСКАЯ  living_region_НОВГОРОДСКАЯ  \\\n",
       "4                             0                           0   \n",
       "7                             0                           0   \n",
       "10                            0                           0   \n",
       "11                            0                           0   \n",
       "12                            0                           0   \n",
       "\n",
       "    living_region_НОВОСИБИРСКАЯ  living_region_ОМСКАЯ  \\\n",
       "4                             0                     0   \n",
       "7                             0                     0   \n",
       "10                            0                     0   \n",
       "11                            0                     0   \n",
       "12                            0                     0   \n",
       "\n",
       "    living_region_ОРЕНБУРГСКАЯ  living_region_ОРЛОВСКАЯ  \\\n",
       "4                            0                        0   \n",
       "7                            0                        0   \n",
       "10                           0                        0   \n",
       "11                           0                        0   \n",
       "12                           0                        0   \n",
       "\n",
       "    living_region_ПЕНЗЕНСКАЯ  living_region_ПЕРМСКИЙ  \\\n",
       "4                          0                       0   \n",
       "7                          0                       0   \n",
       "10                         0                       0   \n",
       "11                         0                       0   \n",
       "12                         0                       0   \n",
       "\n",
       "    living_region_ПРИМОРСКИЙ  living_region_ПСКОВСКАЯ  \\\n",
       "4                          0                        0   \n",
       "7                          0                        0   \n",
       "10                         0                        0   \n",
       "11                         0                        0   \n",
       "12                         0                        0   \n",
       "\n",
       "    living_region_РОСТОВСКАЯ  living_region_РЯЗАНСКАЯ  \\\n",
       "4                          0                        0   \n",
       "7                          0                        0   \n",
       "10                         0                        0   \n",
       "11                         0                        0   \n",
       "12                         0                        0   \n",
       "\n",
       "    living_region_САМАРСКАЯ  living_region_САНКТ-ПЕТЕРБУРГ  \\\n",
       "4                         0                              0   \n",
       "7                         0                              0   \n",
       "10                        0                              1   \n",
       "11                        0                              0   \n",
       "12                        0                              0   \n",
       "\n",
       "    living_region_САРАТОВСКАЯ  living_region_САХА/ЯКУТИЯ/  \\\n",
       "4                           0                           0   \n",
       "7                           0                           0   \n",
       "10                          0                           0   \n",
       "11                          0                           0   \n",
       "12                          0                           0   \n",
       "\n",
       "    living_region_САХАЛИНСКАЯ  living_region_СВЕРДЛОВСКАЯ  \\\n",
       "4                           0                           0   \n",
       "7                           0                           0   \n",
       "10                          0                           0   \n",
       "11                          0                           0   \n",
       "12                          0                           0   \n",
       "\n",
       "    living_region_СЕВЕРНАЯОСЕТИЯ-АЛАНИЯ  living_region_СМОЛЕНСКАЯ  \\\n",
       "4                                     0                         0   \n",
       "7                                     0                         0   \n",
       "10                                    0                         0   \n",
       "11                                    0                         0   \n",
       "12                                    0                         0   \n",
       "\n",
       "    living_region_СТАВРОПОЛЬСКИЙ  living_region_ТАМБОВСКАЯ  \\\n",
       "4                              0                         0   \n",
       "7                              0                         0   \n",
       "10                             0                         0   \n",
       "11                             0                         0   \n",
       "12                             0                         0   \n",
       "\n",
       "    living_region_ТАТАРСТАН  living_region_ТВЕРСКАЯ  living_region_ТОМСКАЯ  \\\n",
       "4                         0                       0                      0   \n",
       "7                         0                       0                      0   \n",
       "10                        0                       0                      0   \n",
       "11                        0                       0                      0   \n",
       "12                        0                       0                      0   \n",
       "\n",
       "    living_region_ТУЛЬСКАЯ  living_region_ТЫВА  living_region_ТЮМЕНСКАЯ  \\\n",
       "4                        0                   0                        0   \n",
       "7                        0                   0                        0   \n",
       "10                       0                   0                        0   \n",
       "11                       0                   0                        0   \n",
       "12                       0                   0                        0   \n",
       "\n",
       "    living_region_УДМУРТСКАЯ  living_region_УЛЬЯНОВСКАЯ  \\\n",
       "4                          0                          0   \n",
       "7                          0                          0   \n",
       "10                         0                          0   \n",
       "11                         0                          0   \n",
       "12                         0                          0   \n",
       "\n",
       "    living_region_ХАБАРОВСКИЙ  living_region_ХАКАСИЯ  \\\n",
       "4                           0                      0   \n",
       "7                           0                      0   \n",
       "10                          0                      0   \n",
       "11                          0                      0   \n",
       "12                          0                      0   \n",
       "\n",
       "    living_region_ХАНТЫ-МАНСИЙСКИЙ  living_region_ЧЕЛЯБИНСКАЯ  \\\n",
       "4                                0                          1   \n",
       "7                                0                          0   \n",
       "10                               0                          0   \n",
       "11                               0                          0   \n",
       "12                               0                          0   \n",
       "\n",
       "    living_region_ЧУВАШСКАЯ  living_region_ЯМАЛО-НЕНЕЦКИЙ  \\\n",
       "4                         0                             0   \n",
       "7                         0                             0   \n",
       "10                        0                             0   \n",
       "11                        0                             0   \n",
       "12                        0                             0   \n",
       "\n",
       "    living_region_ЯРОСЛАВСКАЯ  \n",
       "4                           0  \n",
       "7                           0  \n",
       "10                          0  \n",
       "11                          0  \n",
       "12                          0  "
      ]
     },
     "execution_count": 134,
     "metadata": {},
     "output_type": "execute_result"
    }
   ],
   "source": [
    "dummies_cr_df2.head()"
   ]
  },
  {
   "cell_type": "code",
   "execution_count": 135,
   "metadata": {},
   "outputs": [],
   "source": [
    "tink_df = dummies_cr_df2.copy(deep = True)"
   ]
  },
  {
   "cell_type": "code",
   "execution_count": 136,
   "metadata": {},
   "outputs": [
    {
     "data": {
      "text/html": [
       "<div>\n",
       "<style scoped>\n",
       "    .dataframe tbody tr th:only-of-type {\n",
       "        vertical-align: middle;\n",
       "    }\n",
       "\n",
       "    .dataframe tbody tr th {\n",
       "        vertical-align: top;\n",
       "    }\n",
       "\n",
       "    .dataframe thead th {\n",
       "        text-align: right;\n",
       "    }\n",
       "</style>\n",
       "<table border=\"1\" class=\"dataframe\">\n",
       "  <thead>\n",
       "    <tr style=\"text-align: right;\">\n",
       "      <th></th>\n",
       "      <th>client_id</th>\n",
       "      <th>gender</th>\n",
       "      <th>age</th>\n",
       "      <th>credit_sum</th>\n",
       "      <th>credit_month</th>\n",
       "      <th>score_shk</th>\n",
       "      <th>monthly_income</th>\n",
       "      <th>credit_count</th>\n",
       "      <th>overdue_credit_count</th>\n",
       "      <th>open_account_flg</th>\n",
       "      <th>no_age_info</th>\n",
       "      <th>no_creditsum_info</th>\n",
       "      <th>no_monthlyincome_info</th>\n",
       "      <th>marital_status_CIV</th>\n",
       "      <th>marital_status_DIV</th>\n",
       "      <th>marital_status_MAR</th>\n",
       "      <th>marital_status_UNM</th>\n",
       "      <th>marital_status_WID</th>\n",
       "      <th>marital_status_no_info</th>\n",
       "      <th>job_position_ATP</th>\n",
       "      <th>job_position_BIS</th>\n",
       "      <th>job_position_DIR</th>\n",
       "      <th>job_position_INP</th>\n",
       "      <th>job_position_NOR</th>\n",
       "      <th>job_position_OTHER</th>\n",
       "      <th>job_position_PNA</th>\n",
       "      <th>job_position_SPC</th>\n",
       "      <th>job_position_UMN</th>\n",
       "      <th>job_position_WOI</th>\n",
       "      <th>job_position_WRK</th>\n",
       "      <th>tariff_id_1_0</th>\n",
       "      <th>tariff_id_1_1</th>\n",
       "      <th>tariff_id_1_16</th>\n",
       "      <th>tariff_id_1_17</th>\n",
       "      <th>tariff_id_1_19</th>\n",
       "      <th>tariff_id_1_2</th>\n",
       "      <th>tariff_id_1_20</th>\n",
       "      <th>tariff_id_1_21</th>\n",
       "      <th>tariff_id_1_22</th>\n",
       "      <th>tariff_id_1_23</th>\n",
       "      <th>tariff_id_1_24</th>\n",
       "      <th>tariff_id_1_25</th>\n",
       "      <th>tariff_id_1_3</th>\n",
       "      <th>tariff_id_1_32</th>\n",
       "      <th>tariff_id_1_4</th>\n",
       "      <th>tariff_id_1_41</th>\n",
       "      <th>tariff_id_1_43</th>\n",
       "      <th>tariff_id_1_44</th>\n",
       "      <th>tariff_id_1_5</th>\n",
       "      <th>tariff_id_1_6</th>\n",
       "      <th>tariff_id_1_7</th>\n",
       "      <th>tariff_id_1_9</th>\n",
       "      <th>tariff_id_1_91</th>\n",
       "      <th>tariff_id_1_94</th>\n",
       "      <th>tariff_id_1_99</th>\n",
       "      <th>education_ACD</th>\n",
       "      <th>education_GRD</th>\n",
       "      <th>education_PGR</th>\n",
       "      <th>education_SCH</th>\n",
       "      <th>education_UGR</th>\n",
       "      <th>education_no_info</th>\n",
       "      <th>living_region_OTHER</th>\n",
       "      <th>living_region_no_info</th>\n",
       "      <th>living_region_АДЫГЕЯ</th>\n",
       "      <th>living_region_АЛТАЙ</th>\n",
       "      <th>living_region_АЛТАЙСКИЙ</th>\n",
       "      <th>living_region_АМУРСКАЯ</th>\n",
       "      <th>living_region_АРХАНГЕЛЬСКАЯ</th>\n",
       "      <th>living_region_АСТРАХАНСКАЯ</th>\n",
       "      <th>living_region_БАШКОРТОСТАН</th>\n",
       "      <th>living_region_БЕЛГОРОДСКАЯ</th>\n",
       "      <th>living_region_БРЯНСКАЯ</th>\n",
       "      <th>living_region_БУРЯТИЯ</th>\n",
       "      <th>living_region_ВЛАДИМИРСКАЯ</th>\n",
       "      <th>living_region_ВОЛГОГРАДСКАЯ</th>\n",
       "      <th>living_region_ВОЛОГОДСКАЯ</th>\n",
       "      <th>living_region_ВОРОНЕЖСКАЯ</th>\n",
       "      <th>living_region_ДАГЕСТАН</th>\n",
       "      <th>living_region_ЕВРЕЙСКАЯ</th>\n",
       "      <th>living_region_ЗАБАЙКАЛЬСКИЙ</th>\n",
       "      <th>living_region_ИВАНОВСКАЯ</th>\n",
       "      <th>living_region_ИРКУТСКАЯ</th>\n",
       "      <th>living_region_КАБАРДИНО-БАЛКАРСКАЯ</th>\n",
       "      <th>living_region_КАЛИНИНГРАДСКАЯ</th>\n",
       "      <th>living_region_КАЛМЫКИЯ</th>\n",
       "      <th>living_region_КАЛУЖСКАЯ</th>\n",
       "      <th>living_region_КАМЧАТСКИЙ</th>\n",
       "      <th>living_region_КАРАЧАЕВО-ЧЕРКЕССКАЯ</th>\n",
       "      <th>living_region_КАРЕЛИЯ</th>\n",
       "      <th>living_region_КЕМЕРОВСКАЯ</th>\n",
       "      <th>living_region_КИРОВСКАЯ</th>\n",
       "      <th>living_region_КОМИ</th>\n",
       "      <th>living_region_КОСТРОМСКАЯ</th>\n",
       "      <th>living_region_КРАСНОДАРСКИЙ</th>\n",
       "      <th>living_region_КРАСНОЯРСКИЙ</th>\n",
       "      <th>living_region_КУРГАНСКАЯ</th>\n",
       "      <th>living_region_КУРСКАЯ</th>\n",
       "      <th>living_region_ЛЕНИНГРАДСКАЯ</th>\n",
       "      <th>living_region_ЛИПЕЦКАЯ</th>\n",
       "      <th>living_region_МАГАДАНСКАЯ</th>\n",
       "      <th>living_region_МАРИЙЭЛ</th>\n",
       "      <th>living_region_МОРДОВИЯ</th>\n",
       "      <th>living_region_МОСКВА</th>\n",
       "      <th>living_region_МОСКОВСКАЯ</th>\n",
       "      <th>living_region_МУРМАНСКАЯ</th>\n",
       "      <th>living_region_НЕНЕЦКИЙ</th>\n",
       "      <th>living_region_НИЖЕГОРОДСКАЯ</th>\n",
       "      <th>living_region_НОВГОРОДСКАЯ</th>\n",
       "      <th>living_region_НОВОСИБИРСКАЯ</th>\n",
       "      <th>living_region_ОМСКАЯ</th>\n",
       "      <th>living_region_ОРЕНБУРГСКАЯ</th>\n",
       "      <th>living_region_ОРЛОВСКАЯ</th>\n",
       "      <th>living_region_ПЕНЗЕНСКАЯ</th>\n",
       "      <th>living_region_ПЕРМСКИЙ</th>\n",
       "      <th>living_region_ПРИМОРСКИЙ</th>\n",
       "      <th>living_region_ПСКОВСКАЯ</th>\n",
       "      <th>living_region_РОСТОВСКАЯ</th>\n",
       "      <th>living_region_РЯЗАНСКАЯ</th>\n",
       "      <th>living_region_САМАРСКАЯ</th>\n",
       "      <th>living_region_САНКТ-ПЕТЕРБУРГ</th>\n",
       "      <th>living_region_САРАТОВСКАЯ</th>\n",
       "      <th>living_region_САХА/ЯКУТИЯ/</th>\n",
       "      <th>living_region_САХАЛИНСКАЯ</th>\n",
       "      <th>living_region_СВЕРДЛОВСКАЯ</th>\n",
       "      <th>living_region_СЕВЕРНАЯОСЕТИЯ-АЛАНИЯ</th>\n",
       "      <th>living_region_СМОЛЕНСКАЯ</th>\n",
       "      <th>living_region_СТАВРОПОЛЬСКИЙ</th>\n",
       "      <th>living_region_ТАМБОВСКАЯ</th>\n",
       "      <th>living_region_ТАТАРСТАН</th>\n",
       "      <th>living_region_ТВЕРСКАЯ</th>\n",
       "      <th>living_region_ТОМСКАЯ</th>\n",
       "      <th>living_region_ТУЛЬСКАЯ</th>\n",
       "      <th>living_region_ТЫВА</th>\n",
       "      <th>living_region_ТЮМЕНСКАЯ</th>\n",
       "      <th>living_region_УДМУРТСКАЯ</th>\n",
       "      <th>living_region_УЛЬЯНОВСКАЯ</th>\n",
       "      <th>living_region_ХАБАРОВСКИЙ</th>\n",
       "      <th>living_region_ХАКАСИЯ</th>\n",
       "      <th>living_region_ХАНТЫ-МАНСИЙСКИЙ</th>\n",
       "      <th>living_region_ЧЕЛЯБИНСКАЯ</th>\n",
       "      <th>living_region_ЧУВАШСКАЯ</th>\n",
       "      <th>living_region_ЯМАЛО-НЕНЕЦКИЙ</th>\n",
       "      <th>living_region_ЯРОСЛАВСКАЯ</th>\n",
       "    </tr>\n",
       "  </thead>\n",
       "  <tbody>\n",
       "    <tr>\n",
       "      <td>4</td>\n",
       "      <td>5</td>\n",
       "      <td>0</td>\n",
       "      <td>45.0</td>\n",
       "      <td>-999.0</td>\n",
       "      <td>10</td>\n",
       "      <td>0.421385</td>\n",
       "      <td>-999.0</td>\n",
       "      <td>1.0</td>\n",
       "      <td>0.0</td>\n",
       "      <td>0</td>\n",
       "      <td>0</td>\n",
       "      <td>1</td>\n",
       "      <td>1</td>\n",
       "      <td>0</td>\n",
       "      <td>0</td>\n",
       "      <td>0</td>\n",
       "      <td>0</td>\n",
       "      <td>0</td>\n",
       "      <td>1</td>\n",
       "      <td>0</td>\n",
       "      <td>0</td>\n",
       "      <td>0</td>\n",
       "      <td>0</td>\n",
       "      <td>0</td>\n",
       "      <td>0</td>\n",
       "      <td>0</td>\n",
       "      <td>1</td>\n",
       "      <td>0</td>\n",
       "      <td>0</td>\n",
       "      <td>0</td>\n",
       "      <td>0</td>\n",
       "      <td>1</td>\n",
       "      <td>0</td>\n",
       "      <td>0</td>\n",
       "      <td>0</td>\n",
       "      <td>0</td>\n",
       "      <td>0</td>\n",
       "      <td>0</td>\n",
       "      <td>0</td>\n",
       "      <td>0</td>\n",
       "      <td>0</td>\n",
       "      <td>0</td>\n",
       "      <td>0</td>\n",
       "      <td>0</td>\n",
       "      <td>0</td>\n",
       "      <td>0</td>\n",
       "      <td>0</td>\n",
       "      <td>0</td>\n",
       "      <td>0</td>\n",
       "      <td>0</td>\n",
       "      <td>0</td>\n",
       "      <td>0</td>\n",
       "      <td>0</td>\n",
       "      <td>0</td>\n",
       "      <td>0</td>\n",
       "      <td>0</td>\n",
       "      <td>0</td>\n",
       "      <td>0</td>\n",
       "      <td>1</td>\n",
       "      <td>0</td>\n",
       "      <td>0</td>\n",
       "      <td>0</td>\n",
       "      <td>0</td>\n",
       "      <td>0</td>\n",
       "      <td>0</td>\n",
       "      <td>0</td>\n",
       "      <td>0</td>\n",
       "      <td>0</td>\n",
       "      <td>0</td>\n",
       "      <td>0</td>\n",
       "      <td>0</td>\n",
       "      <td>0</td>\n",
       "      <td>0</td>\n",
       "      <td>0</td>\n",
       "      <td>0</td>\n",
       "      <td>0</td>\n",
       "      <td>0</td>\n",
       "      <td>0</td>\n",
       "      <td>0</td>\n",
       "      <td>0</td>\n",
       "      <td>0</td>\n",
       "      <td>0</td>\n",
       "      <td>0</td>\n",
       "      <td>0</td>\n",
       "      <td>0</td>\n",
       "      <td>0</td>\n",
       "      <td>0</td>\n",
       "      <td>0</td>\n",
       "      <td>0</td>\n",
       "      <td>0</td>\n",
       "      <td>0</td>\n",
       "      <td>0</td>\n",
       "      <td>0</td>\n",
       "      <td>0</td>\n",
       "      <td>0</td>\n",
       "      <td>0</td>\n",
       "      <td>0</td>\n",
       "      <td>0</td>\n",
       "      <td>0</td>\n",
       "      <td>0</td>\n",
       "      <td>0</td>\n",
       "      <td>0</td>\n",
       "      <td>0</td>\n",
       "      <td>0</td>\n",
       "      <td>0</td>\n",
       "      <td>0</td>\n",
       "      <td>0</td>\n",
       "      <td>0</td>\n",
       "      <td>0</td>\n",
       "      <td>0</td>\n",
       "      <td>0</td>\n",
       "      <td>0</td>\n",
       "      <td>0</td>\n",
       "      <td>0</td>\n",
       "      <td>0</td>\n",
       "      <td>0</td>\n",
       "      <td>0</td>\n",
       "      <td>0</td>\n",
       "      <td>0</td>\n",
       "      <td>0</td>\n",
       "      <td>0</td>\n",
       "      <td>0</td>\n",
       "      <td>0</td>\n",
       "      <td>0</td>\n",
       "      <td>0</td>\n",
       "      <td>0</td>\n",
       "      <td>0</td>\n",
       "      <td>0</td>\n",
       "      <td>0</td>\n",
       "      <td>0</td>\n",
       "      <td>0</td>\n",
       "      <td>0</td>\n",
       "      <td>0</td>\n",
       "      <td>0</td>\n",
       "      <td>0</td>\n",
       "      <td>0</td>\n",
       "      <td>0</td>\n",
       "      <td>0</td>\n",
       "      <td>0</td>\n",
       "      <td>1</td>\n",
       "      <td>0</td>\n",
       "      <td>0</td>\n",
       "      <td>0</td>\n",
       "    </tr>\n",
       "    <tr>\n",
       "      <td>7</td>\n",
       "      <td>8</td>\n",
       "      <td>1</td>\n",
       "      <td>26.0</td>\n",
       "      <td>47878.0</td>\n",
       "      <td>10</td>\n",
       "      <td>0.512525</td>\n",
       "      <td>60000.0</td>\n",
       "      <td>3.0</td>\n",
       "      <td>0.0</td>\n",
       "      <td>0</td>\n",
       "      <td>0</td>\n",
       "      <td>0</td>\n",
       "      <td>0</td>\n",
       "      <td>0</td>\n",
       "      <td>0</td>\n",
       "      <td>0</td>\n",
       "      <td>1</td>\n",
       "      <td>0</td>\n",
       "      <td>0</td>\n",
       "      <td>0</td>\n",
       "      <td>0</td>\n",
       "      <td>0</td>\n",
       "      <td>0</td>\n",
       "      <td>0</td>\n",
       "      <td>0</td>\n",
       "      <td>0</td>\n",
       "      <td>1</td>\n",
       "      <td>0</td>\n",
       "      <td>0</td>\n",
       "      <td>0</td>\n",
       "      <td>0</td>\n",
       "      <td>1</td>\n",
       "      <td>0</td>\n",
       "      <td>0</td>\n",
       "      <td>0</td>\n",
       "      <td>0</td>\n",
       "      <td>0</td>\n",
       "      <td>0</td>\n",
       "      <td>0</td>\n",
       "      <td>0</td>\n",
       "      <td>0</td>\n",
       "      <td>0</td>\n",
       "      <td>0</td>\n",
       "      <td>0</td>\n",
       "      <td>0</td>\n",
       "      <td>0</td>\n",
       "      <td>0</td>\n",
       "      <td>0</td>\n",
       "      <td>0</td>\n",
       "      <td>0</td>\n",
       "      <td>0</td>\n",
       "      <td>0</td>\n",
       "      <td>0</td>\n",
       "      <td>0</td>\n",
       "      <td>0</td>\n",
       "      <td>0</td>\n",
       "      <td>1</td>\n",
       "      <td>0</td>\n",
       "      <td>0</td>\n",
       "      <td>0</td>\n",
       "      <td>0</td>\n",
       "      <td>0</td>\n",
       "      <td>0</td>\n",
       "      <td>0</td>\n",
       "      <td>0</td>\n",
       "      <td>0</td>\n",
       "      <td>0</td>\n",
       "      <td>0</td>\n",
       "      <td>0</td>\n",
       "      <td>0</td>\n",
       "      <td>0</td>\n",
       "      <td>0</td>\n",
       "      <td>0</td>\n",
       "      <td>0</td>\n",
       "      <td>0</td>\n",
       "      <td>0</td>\n",
       "      <td>0</td>\n",
       "      <td>0</td>\n",
       "      <td>0</td>\n",
       "      <td>0</td>\n",
       "      <td>0</td>\n",
       "      <td>0</td>\n",
       "      <td>0</td>\n",
       "      <td>0</td>\n",
       "      <td>0</td>\n",
       "      <td>0</td>\n",
       "      <td>0</td>\n",
       "      <td>0</td>\n",
       "      <td>0</td>\n",
       "      <td>0</td>\n",
       "      <td>0</td>\n",
       "      <td>0</td>\n",
       "      <td>0</td>\n",
       "      <td>0</td>\n",
       "      <td>0</td>\n",
       "      <td>0</td>\n",
       "      <td>0</td>\n",
       "      <td>0</td>\n",
       "      <td>0</td>\n",
       "      <td>0</td>\n",
       "      <td>0</td>\n",
       "      <td>0</td>\n",
       "      <td>0</td>\n",
       "      <td>1</td>\n",
       "      <td>0</td>\n",
       "      <td>0</td>\n",
       "      <td>0</td>\n",
       "      <td>0</td>\n",
       "      <td>0</td>\n",
       "      <td>0</td>\n",
       "      <td>0</td>\n",
       "      <td>0</td>\n",
       "      <td>0</td>\n",
       "      <td>0</td>\n",
       "      <td>0</td>\n",
       "      <td>0</td>\n",
       "      <td>0</td>\n",
       "      <td>0</td>\n",
       "      <td>0</td>\n",
       "      <td>0</td>\n",
       "      <td>0</td>\n",
       "      <td>0</td>\n",
       "      <td>0</td>\n",
       "      <td>0</td>\n",
       "      <td>0</td>\n",
       "      <td>0</td>\n",
       "      <td>0</td>\n",
       "      <td>0</td>\n",
       "      <td>0</td>\n",
       "      <td>0</td>\n",
       "      <td>0</td>\n",
       "      <td>0</td>\n",
       "      <td>0</td>\n",
       "      <td>0</td>\n",
       "      <td>0</td>\n",
       "      <td>0</td>\n",
       "      <td>0</td>\n",
       "      <td>0</td>\n",
       "      <td>0</td>\n",
       "      <td>0</td>\n",
       "      <td>0</td>\n",
       "      <td>0</td>\n",
       "      <td>0</td>\n",
       "    </tr>\n",
       "    <tr>\n",
       "      <td>10</td>\n",
       "      <td>11</td>\n",
       "      <td>0</td>\n",
       "      <td>26.0</td>\n",
       "      <td>16793.0</td>\n",
       "      <td>14</td>\n",
       "      <td>0.445430</td>\n",
       "      <td>36000.0</td>\n",
       "      <td>2.0</td>\n",
       "      <td>0.0</td>\n",
       "      <td>0</td>\n",
       "      <td>0</td>\n",
       "      <td>0</td>\n",
       "      <td>0</td>\n",
       "      <td>0</td>\n",
       "      <td>0</td>\n",
       "      <td>1</td>\n",
       "      <td>0</td>\n",
       "      <td>0</td>\n",
       "      <td>0</td>\n",
       "      <td>0</td>\n",
       "      <td>0</td>\n",
       "      <td>0</td>\n",
       "      <td>0</td>\n",
       "      <td>0</td>\n",
       "      <td>0</td>\n",
       "      <td>0</td>\n",
       "      <td>1</td>\n",
       "      <td>0</td>\n",
       "      <td>0</td>\n",
       "      <td>0</td>\n",
       "      <td>1</td>\n",
       "      <td>0</td>\n",
       "      <td>0</td>\n",
       "      <td>0</td>\n",
       "      <td>0</td>\n",
       "      <td>0</td>\n",
       "      <td>0</td>\n",
       "      <td>0</td>\n",
       "      <td>0</td>\n",
       "      <td>0</td>\n",
       "      <td>0</td>\n",
       "      <td>0</td>\n",
       "      <td>0</td>\n",
       "      <td>0</td>\n",
       "      <td>0</td>\n",
       "      <td>0</td>\n",
       "      <td>0</td>\n",
       "      <td>0</td>\n",
       "      <td>0</td>\n",
       "      <td>0</td>\n",
       "      <td>0</td>\n",
       "      <td>0</td>\n",
       "      <td>0</td>\n",
       "      <td>0</td>\n",
       "      <td>0</td>\n",
       "      <td>0</td>\n",
       "      <td>0</td>\n",
       "      <td>0</td>\n",
       "      <td>1</td>\n",
       "      <td>0</td>\n",
       "      <td>0</td>\n",
       "      <td>0</td>\n",
       "      <td>0</td>\n",
       "      <td>0</td>\n",
       "      <td>0</td>\n",
       "      <td>0</td>\n",
       "      <td>0</td>\n",
       "      <td>0</td>\n",
       "      <td>0</td>\n",
       "      <td>0</td>\n",
       "      <td>0</td>\n",
       "      <td>0</td>\n",
       "      <td>0</td>\n",
       "      <td>0</td>\n",
       "      <td>0</td>\n",
       "      <td>0</td>\n",
       "      <td>0</td>\n",
       "      <td>0</td>\n",
       "      <td>0</td>\n",
       "      <td>0</td>\n",
       "      <td>0</td>\n",
       "      <td>0</td>\n",
       "      <td>0</td>\n",
       "      <td>0</td>\n",
       "      <td>0</td>\n",
       "      <td>0</td>\n",
       "      <td>0</td>\n",
       "      <td>0</td>\n",
       "      <td>0</td>\n",
       "      <td>0</td>\n",
       "      <td>0</td>\n",
       "      <td>0</td>\n",
       "      <td>0</td>\n",
       "      <td>0</td>\n",
       "      <td>0</td>\n",
       "      <td>0</td>\n",
       "      <td>0</td>\n",
       "      <td>0</td>\n",
       "      <td>0</td>\n",
       "      <td>0</td>\n",
       "      <td>0</td>\n",
       "      <td>0</td>\n",
       "      <td>0</td>\n",
       "      <td>0</td>\n",
       "      <td>0</td>\n",
       "      <td>0</td>\n",
       "      <td>0</td>\n",
       "      <td>0</td>\n",
       "      <td>0</td>\n",
       "      <td>0</td>\n",
       "      <td>0</td>\n",
       "      <td>0</td>\n",
       "      <td>0</td>\n",
       "      <td>0</td>\n",
       "      <td>0</td>\n",
       "      <td>0</td>\n",
       "      <td>0</td>\n",
       "      <td>0</td>\n",
       "      <td>0</td>\n",
       "      <td>1</td>\n",
       "      <td>0</td>\n",
       "      <td>0</td>\n",
       "      <td>0</td>\n",
       "      <td>0</td>\n",
       "      <td>0</td>\n",
       "      <td>0</td>\n",
       "      <td>0</td>\n",
       "      <td>0</td>\n",
       "      <td>0</td>\n",
       "      <td>0</td>\n",
       "      <td>0</td>\n",
       "      <td>0</td>\n",
       "      <td>0</td>\n",
       "      <td>0</td>\n",
       "      <td>0</td>\n",
       "      <td>0</td>\n",
       "      <td>0</td>\n",
       "      <td>0</td>\n",
       "      <td>0</td>\n",
       "      <td>0</td>\n",
       "      <td>0</td>\n",
       "      <td>0</td>\n",
       "      <td>0</td>\n",
       "    </tr>\n",
       "    <tr>\n",
       "      <td>11</td>\n",
       "      <td>12</td>\n",
       "      <td>1</td>\n",
       "      <td>26.0</td>\n",
       "      <td>18936.0</td>\n",
       "      <td>10</td>\n",
       "      <td>0.455774</td>\n",
       "      <td>30000.0</td>\n",
       "      <td>0.0</td>\n",
       "      <td>0.0</td>\n",
       "      <td>0</td>\n",
       "      <td>0</td>\n",
       "      <td>0</td>\n",
       "      <td>0</td>\n",
       "      <td>0</td>\n",
       "      <td>0</td>\n",
       "      <td>0</td>\n",
       "      <td>1</td>\n",
       "      <td>0</td>\n",
       "      <td>0</td>\n",
       "      <td>0</td>\n",
       "      <td>0</td>\n",
       "      <td>0</td>\n",
       "      <td>0</td>\n",
       "      <td>0</td>\n",
       "      <td>0</td>\n",
       "      <td>0</td>\n",
       "      <td>1</td>\n",
       "      <td>0</td>\n",
       "      <td>0</td>\n",
       "      <td>0</td>\n",
       "      <td>0</td>\n",
       "      <td>0</td>\n",
       "      <td>0</td>\n",
       "      <td>0</td>\n",
       "      <td>0</td>\n",
       "      <td>0</td>\n",
       "      <td>0</td>\n",
       "      <td>0</td>\n",
       "      <td>0</td>\n",
       "      <td>0</td>\n",
       "      <td>0</td>\n",
       "      <td>0</td>\n",
       "      <td>0</td>\n",
       "      <td>1</td>\n",
       "      <td>0</td>\n",
       "      <td>0</td>\n",
       "      <td>0</td>\n",
       "      <td>0</td>\n",
       "      <td>0</td>\n",
       "      <td>0</td>\n",
       "      <td>0</td>\n",
       "      <td>0</td>\n",
       "      <td>0</td>\n",
       "      <td>0</td>\n",
       "      <td>0</td>\n",
       "      <td>0</td>\n",
       "      <td>0</td>\n",
       "      <td>0</td>\n",
       "      <td>0</td>\n",
       "      <td>0</td>\n",
       "      <td>1</td>\n",
       "      <td>0</td>\n",
       "      <td>0</td>\n",
       "      <td>0</td>\n",
       "      <td>0</td>\n",
       "      <td>0</td>\n",
       "      <td>0</td>\n",
       "      <td>0</td>\n",
       "      <td>0</td>\n",
       "      <td>1</td>\n",
       "      <td>0</td>\n",
       "      <td>0</td>\n",
       "      <td>0</td>\n",
       "      <td>0</td>\n",
       "      <td>0</td>\n",
       "      <td>0</td>\n",
       "      <td>0</td>\n",
       "      <td>0</td>\n",
       "      <td>0</td>\n",
       "      <td>0</td>\n",
       "      <td>0</td>\n",
       "      <td>0</td>\n",
       "      <td>0</td>\n",
       "      <td>0</td>\n",
       "      <td>0</td>\n",
       "      <td>0</td>\n",
       "      <td>0</td>\n",
       "      <td>0</td>\n",
       "      <td>0</td>\n",
       "      <td>0</td>\n",
       "      <td>0</td>\n",
       "      <td>0</td>\n",
       "      <td>0</td>\n",
       "      <td>0</td>\n",
       "      <td>0</td>\n",
       "      <td>0</td>\n",
       "      <td>0</td>\n",
       "      <td>0</td>\n",
       "      <td>0</td>\n",
       "      <td>0</td>\n",
       "      <td>0</td>\n",
       "      <td>0</td>\n",
       "      <td>0</td>\n",
       "      <td>0</td>\n",
       "      <td>0</td>\n",
       "      <td>0</td>\n",
       "      <td>0</td>\n",
       "      <td>0</td>\n",
       "      <td>0</td>\n",
       "      <td>0</td>\n",
       "      <td>0</td>\n",
       "      <td>0</td>\n",
       "      <td>0</td>\n",
       "      <td>0</td>\n",
       "      <td>0</td>\n",
       "      <td>0</td>\n",
       "      <td>0</td>\n",
       "      <td>0</td>\n",
       "      <td>0</td>\n",
       "      <td>0</td>\n",
       "      <td>0</td>\n",
       "      <td>0</td>\n",
       "      <td>0</td>\n",
       "      <td>0</td>\n",
       "      <td>0</td>\n",
       "      <td>0</td>\n",
       "      <td>0</td>\n",
       "      <td>0</td>\n",
       "      <td>0</td>\n",
       "      <td>0</td>\n",
       "      <td>0</td>\n",
       "      <td>0</td>\n",
       "      <td>0</td>\n",
       "      <td>0</td>\n",
       "      <td>0</td>\n",
       "      <td>0</td>\n",
       "      <td>0</td>\n",
       "      <td>0</td>\n",
       "      <td>0</td>\n",
       "      <td>0</td>\n",
       "      <td>0</td>\n",
       "      <td>0</td>\n",
       "      <td>0</td>\n",
       "    </tr>\n",
       "    <tr>\n",
       "      <td>12</td>\n",
       "      <td>13</td>\n",
       "      <td>0</td>\n",
       "      <td>37.0</td>\n",
       "      <td>42289.0</td>\n",
       "      <td>10</td>\n",
       "      <td>0.691609</td>\n",
       "      <td>70000.0</td>\n",
       "      <td>1.0</td>\n",
       "      <td>0.0</td>\n",
       "      <td>0</td>\n",
       "      <td>0</td>\n",
       "      <td>0</td>\n",
       "      <td>0</td>\n",
       "      <td>0</td>\n",
       "      <td>0</td>\n",
       "      <td>1</td>\n",
       "      <td>0</td>\n",
       "      <td>0</td>\n",
       "      <td>0</td>\n",
       "      <td>0</td>\n",
       "      <td>0</td>\n",
       "      <td>0</td>\n",
       "      <td>0</td>\n",
       "      <td>0</td>\n",
       "      <td>0</td>\n",
       "      <td>0</td>\n",
       "      <td>1</td>\n",
       "      <td>0</td>\n",
       "      <td>0</td>\n",
       "      <td>0</td>\n",
       "      <td>0</td>\n",
       "      <td>0</td>\n",
       "      <td>0</td>\n",
       "      <td>0</td>\n",
       "      <td>0</td>\n",
       "      <td>0</td>\n",
       "      <td>0</td>\n",
       "      <td>0</td>\n",
       "      <td>0</td>\n",
       "      <td>0</td>\n",
       "      <td>0</td>\n",
       "      <td>0</td>\n",
       "      <td>0</td>\n",
       "      <td>0</td>\n",
       "      <td>0</td>\n",
       "      <td>0</td>\n",
       "      <td>0</td>\n",
       "      <td>0</td>\n",
       "      <td>0</td>\n",
       "      <td>1</td>\n",
       "      <td>0</td>\n",
       "      <td>0</td>\n",
       "      <td>0</td>\n",
       "      <td>0</td>\n",
       "      <td>0</td>\n",
       "      <td>0</td>\n",
       "      <td>0</td>\n",
       "      <td>0</td>\n",
       "      <td>1</td>\n",
       "      <td>0</td>\n",
       "      <td>0</td>\n",
       "      <td>0</td>\n",
       "      <td>0</td>\n",
       "      <td>0</td>\n",
       "      <td>0</td>\n",
       "      <td>0</td>\n",
       "      <td>0</td>\n",
       "      <td>1</td>\n",
       "      <td>0</td>\n",
       "      <td>0</td>\n",
       "      <td>0</td>\n",
       "      <td>0</td>\n",
       "      <td>0</td>\n",
       "      <td>0</td>\n",
       "      <td>0</td>\n",
       "      <td>0</td>\n",
       "      <td>0</td>\n",
       "      <td>0</td>\n",
       "      <td>0</td>\n",
       "      <td>0</td>\n",
       "      <td>0</td>\n",
       "      <td>0</td>\n",
       "      <td>0</td>\n",
       "      <td>0</td>\n",
       "      <td>0</td>\n",
       "      <td>0</td>\n",
       "      <td>0</td>\n",
       "      <td>0</td>\n",
       "      <td>0</td>\n",
       "      <td>0</td>\n",
       "      <td>0</td>\n",
       "      <td>0</td>\n",
       "      <td>0</td>\n",
       "      <td>0</td>\n",
       "      <td>0</td>\n",
       "      <td>0</td>\n",
       "      <td>0</td>\n",
       "      <td>0</td>\n",
       "      <td>0</td>\n",
       "      <td>0</td>\n",
       "      <td>0</td>\n",
       "      <td>0</td>\n",
       "      <td>0</td>\n",
       "      <td>0</td>\n",
       "      <td>0</td>\n",
       "      <td>0</td>\n",
       "      <td>0</td>\n",
       "      <td>0</td>\n",
       "      <td>0</td>\n",
       "      <td>0</td>\n",
       "      <td>0</td>\n",
       "      <td>0</td>\n",
       "      <td>0</td>\n",
       "      <td>0</td>\n",
       "      <td>0</td>\n",
       "      <td>0</td>\n",
       "      <td>0</td>\n",
       "      <td>0</td>\n",
       "      <td>0</td>\n",
       "      <td>0</td>\n",
       "      <td>0</td>\n",
       "      <td>0</td>\n",
       "      <td>0</td>\n",
       "      <td>0</td>\n",
       "      <td>0</td>\n",
       "      <td>0</td>\n",
       "      <td>0</td>\n",
       "      <td>0</td>\n",
       "      <td>0</td>\n",
       "      <td>0</td>\n",
       "      <td>0</td>\n",
       "      <td>0</td>\n",
       "      <td>0</td>\n",
       "      <td>0</td>\n",
       "      <td>0</td>\n",
       "      <td>0</td>\n",
       "      <td>0</td>\n",
       "      <td>0</td>\n",
       "      <td>0</td>\n",
       "      <td>0</td>\n",
       "      <td>0</td>\n",
       "      <td>0</td>\n",
       "      <td>0</td>\n",
       "    </tr>\n",
       "  </tbody>\n",
       "</table>\n",
       "</div>"
      ],
      "text/plain": [
       "    client_id  gender   age  credit_sum  credit_month  score_shk  \\\n",
       "4           5       0  45.0      -999.0            10   0.421385   \n",
       "7           8       1  26.0     47878.0            10   0.512525   \n",
       "10         11       0  26.0     16793.0            14   0.445430   \n",
       "11         12       1  26.0     18936.0            10   0.455774   \n",
       "12         13       0  37.0     42289.0            10   0.691609   \n",
       "\n",
       "    monthly_income  credit_count  overdue_credit_count  open_account_flg  \\\n",
       "4           -999.0           1.0                   0.0                 0   \n",
       "7          60000.0           3.0                   0.0                 0   \n",
       "10         36000.0           2.0                   0.0                 0   \n",
       "11         30000.0           0.0                   0.0                 0   \n",
       "12         70000.0           1.0                   0.0                 0   \n",
       "\n",
       "    no_age_info  no_creditsum_info  no_monthlyincome_info  marital_status_CIV  \\\n",
       "4             0                  1                      1                   0   \n",
       "7             0                  0                      0                   0   \n",
       "10            0                  0                      0                   0   \n",
       "11            0                  0                      0                   0   \n",
       "12            0                  0                      0                   0   \n",
       "\n",
       "    marital_status_DIV  marital_status_MAR  marital_status_UNM  \\\n",
       "4                    0                   0                   0   \n",
       "7                    0                   0                   1   \n",
       "10                   0                   1                   0   \n",
       "11                   0                   0                   1   \n",
       "12                   0                   1                   0   \n",
       "\n",
       "    marital_status_WID  marital_status_no_info  job_position_ATP  \\\n",
       "4                    0                       1                 0   \n",
       "7                    0                       0                 0   \n",
       "10                   0                       0                 0   \n",
       "11                   0                       0                 0   \n",
       "12                   0                       0                 0   \n",
       "\n",
       "    job_position_BIS  job_position_DIR  job_position_INP  job_position_NOR  \\\n",
       "4                  0                 0                 0                 0   \n",
       "7                  0                 0                 0                 0   \n",
       "10                 0                 0                 0                 0   \n",
       "11                 0                 0                 0                 0   \n",
       "12                 0                 0                 0                 0   \n",
       "\n",
       "    job_position_OTHER  job_position_PNA  job_position_SPC  job_position_UMN  \\\n",
       "4                    0                 0                 1                 0   \n",
       "7                    0                 0                 1                 0   \n",
       "10                   0                 0                 1                 0   \n",
       "11                   0                 0                 1                 0   \n",
       "12                   0                 0                 1                 0   \n",
       "\n",
       "    job_position_WOI  job_position_WRK  tariff_id_1_0  tariff_id_1_1  \\\n",
       "4                  0                 0              0              1   \n",
       "7                  0                 0              0              1   \n",
       "10                 0                 0              1              0   \n",
       "11                 0                 0              0              0   \n",
       "12                 0                 0              0              0   \n",
       "\n",
       "    tariff_id_1_16  tariff_id_1_17  tariff_id_1_19  tariff_id_1_2  \\\n",
       "4                0               0               0              0   \n",
       "7                0               0               0              0   \n",
       "10               0               0               0              0   \n",
       "11               0               0               0              0   \n",
       "12               0               0               0              0   \n",
       "\n",
       "    tariff_id_1_20  tariff_id_1_21  tariff_id_1_22  tariff_id_1_23  \\\n",
       "4                0               0               0               0   \n",
       "7                0               0               0               0   \n",
       "10               0               0               0               0   \n",
       "11               0               0               0               0   \n",
       "12               0               0               0               0   \n",
       "\n",
       "    tariff_id_1_24  tariff_id_1_25  tariff_id_1_3  tariff_id_1_32  \\\n",
       "4                0               0              0               0   \n",
       "7                0               0              0               0   \n",
       "10               0               0              0               0   \n",
       "11               0               0              0               1   \n",
       "12               0               0              0               0   \n",
       "\n",
       "    tariff_id_1_4  tariff_id_1_41  tariff_id_1_43  tariff_id_1_44  \\\n",
       "4               0               0               0               0   \n",
       "7               0               0               0               0   \n",
       "10              0               0               0               0   \n",
       "11              0               0               0               0   \n",
       "12              0               0               0               0   \n",
       "\n",
       "    tariff_id_1_5  tariff_id_1_6  tariff_id_1_7  tariff_id_1_9  \\\n",
       "4               0              0              0              0   \n",
       "7               0              0              0              0   \n",
       "10              0              0              0              0   \n",
       "11              0              0              0              0   \n",
       "12              0              1              0              0   \n",
       "\n",
       "    tariff_id_1_91  tariff_id_1_94  tariff_id_1_99  education_ACD  \\\n",
       "4                0               0               0              0   \n",
       "7                0               0               0              0   \n",
       "10               0               0               0              0   \n",
       "11               0               0               0              0   \n",
       "12               0               0               0              0   \n",
       "\n",
       "    education_GRD  education_PGR  education_SCH  education_UGR  \\\n",
       "4               0              0              1              0   \n",
       "7               1              0              0              0   \n",
       "10              0              0              1              0   \n",
       "11              0              0              0              0   \n",
       "12              0              0              1              0   \n",
       "\n",
       "    education_no_info  living_region_OTHER  living_region_no_info  \\\n",
       "4                   0                    0                      0   \n",
       "7                   0                    0                      0   \n",
       "10                  0                    0                      0   \n",
       "11                  1                    0                      0   \n",
       "12                  0                    0                      0   \n",
       "\n",
       "    living_region_АДЫГЕЯ  living_region_АЛТАЙ  living_region_АЛТАЙСКИЙ  \\\n",
       "4                      0                    0                        0   \n",
       "7                      0                    0                        0   \n",
       "10                     0                    0                        0   \n",
       "11                     0                    0                        0   \n",
       "12                     0                    0                        0   \n",
       "\n",
       "    living_region_АМУРСКАЯ  living_region_АРХАНГЕЛЬСКАЯ  \\\n",
       "4                        0                            0   \n",
       "7                        0                            0   \n",
       "10                       0                            0   \n",
       "11                       0                            0   \n",
       "12                       0                            1   \n",
       "\n",
       "    living_region_АСТРАХАНСКАЯ  living_region_БАШКОРТОСТАН  \\\n",
       "4                            0                           0   \n",
       "7                            0                           0   \n",
       "10                           0                           0   \n",
       "11                           0                           1   \n",
       "12                           0                           0   \n",
       "\n",
       "    living_region_БЕЛГОРОДСКАЯ  living_region_БРЯНСКАЯ  living_region_БУРЯТИЯ  \\\n",
       "4                            0                       0                      0   \n",
       "7                            0                       0                      0   \n",
       "10                           0                       0                      0   \n",
       "11                           0                       0                      0   \n",
       "12                           0                       0                      0   \n",
       "\n",
       "    living_region_ВЛАДИМИРСКАЯ  living_region_ВОЛГОГРАДСКАЯ  \\\n",
       "4                            0                            0   \n",
       "7                            0                            0   \n",
       "10                           0                            0   \n",
       "11                           0                            0   \n",
       "12                           0                            0   \n",
       "\n",
       "    living_region_ВОЛОГОДСКАЯ  living_region_ВОРОНЕЖСКАЯ  \\\n",
       "4                           0                          0   \n",
       "7                           0                          0   \n",
       "10                          0                          0   \n",
       "11                          0                          0   \n",
       "12                          0                          0   \n",
       "\n",
       "    living_region_ДАГЕСТАН  living_region_ЕВРЕЙСКАЯ  \\\n",
       "4                        0                        0   \n",
       "7                        0                        0   \n",
       "10                       0                        0   \n",
       "11                       0                        0   \n",
       "12                       0                        0   \n",
       "\n",
       "    living_region_ЗАБАЙКАЛЬСКИЙ  living_region_ИВАНОВСКАЯ  \\\n",
       "4                             0                         0   \n",
       "7                             0                         0   \n",
       "10                            0                         0   \n",
       "11                            0                         0   \n",
       "12                            0                         0   \n",
       "\n",
       "    living_region_ИРКУТСКАЯ  living_region_КАБАРДИНО-БАЛКАРСКАЯ  \\\n",
       "4                         0                                   0   \n",
       "7                         0                                   0   \n",
       "10                        0                                   0   \n",
       "11                        0                                   0   \n",
       "12                        0                                   0   \n",
       "\n",
       "    living_region_КАЛИНИНГРАДСКАЯ  living_region_КАЛМЫКИЯ  \\\n",
       "4                               0                       0   \n",
       "7                               0                       0   \n",
       "10                              0                       0   \n",
       "11                              0                       0   \n",
       "12                              0                       0   \n",
       "\n",
       "    living_region_КАЛУЖСКАЯ  living_region_КАМЧАТСКИЙ  \\\n",
       "4                         0                         0   \n",
       "7                         0                         0   \n",
       "10                        0                         0   \n",
       "11                        0                         0   \n",
       "12                        0                         0   \n",
       "\n",
       "    living_region_КАРАЧАЕВО-ЧЕРКЕССКАЯ  living_region_КАРЕЛИЯ  \\\n",
       "4                                    0                      0   \n",
       "7                                    0                      0   \n",
       "10                                   0                      0   \n",
       "11                                   0                      0   \n",
       "12                                   0                      0   \n",
       "\n",
       "    living_region_КЕМЕРОВСКАЯ  living_region_КИРОВСКАЯ  living_region_КОМИ  \\\n",
       "4                           0                        0                   0   \n",
       "7                           0                        0                   0   \n",
       "10                          0                        0                   0   \n",
       "11                          0                        0                   0   \n",
       "12                          0                        0                   0   \n",
       "\n",
       "    living_region_КОСТРОМСКАЯ  living_region_КРАСНОДАРСКИЙ  \\\n",
       "4                           0                            0   \n",
       "7                           0                            0   \n",
       "10                          0                            0   \n",
       "11                          0                            0   \n",
       "12                          0                            0   \n",
       "\n",
       "    living_region_КРАСНОЯРСКИЙ  living_region_КУРГАНСКАЯ  \\\n",
       "4                            0                         0   \n",
       "7                            0                         0   \n",
       "10                           0                         0   \n",
       "11                           0                         0   \n",
       "12                           0                         0   \n",
       "\n",
       "    living_region_КУРСКАЯ  living_region_ЛЕНИНГРАДСКАЯ  \\\n",
       "4                       0                            0   \n",
       "7                       0                            0   \n",
       "10                      0                            0   \n",
       "11                      0                            0   \n",
       "12                      0                            0   \n",
       "\n",
       "    living_region_ЛИПЕЦКАЯ  living_region_МАГАДАНСКАЯ  living_region_МАРИЙЭЛ  \\\n",
       "4                        0                          0                      0   \n",
       "7                        0                          0                      0   \n",
       "10                       0                          0                      0   \n",
       "11                       0                          0                      0   \n",
       "12                       0                          0                      0   \n",
       "\n",
       "    living_region_МОРДОВИЯ  living_region_МОСКВА  living_region_МОСКОВСКАЯ  \\\n",
       "4                        0                     0                         0   \n",
       "7                        0                     0                         1   \n",
       "10                       0                     0                         0   \n",
       "11                       0                     0                         0   \n",
       "12                       0                     0                         0   \n",
       "\n",
       "    living_region_МУРМАНСКАЯ  living_region_НЕНЕЦКИЙ  \\\n",
       "4                          0                       0   \n",
       "7                          0                       0   \n",
       "10                         0                       0   \n",
       "11                         0                       0   \n",
       "12                         0                       0   \n",
       "\n",
       "    living_region_НИЖЕГОРОДСКАЯ  living_region_НОВГОРОДСКАЯ  \\\n",
       "4                             0                           0   \n",
       "7                             0                           0   \n",
       "10                            0                           0   \n",
       "11                            0                           0   \n",
       "12                            0                           0   \n",
       "\n",
       "    living_region_НОВОСИБИРСКАЯ  living_region_ОМСКАЯ  \\\n",
       "4                             0                     0   \n",
       "7                             0                     0   \n",
       "10                            0                     0   \n",
       "11                            0                     0   \n",
       "12                            0                     0   \n",
       "\n",
       "    living_region_ОРЕНБУРГСКАЯ  living_region_ОРЛОВСКАЯ  \\\n",
       "4                            0                        0   \n",
       "7                            0                        0   \n",
       "10                           0                        0   \n",
       "11                           0                        0   \n",
       "12                           0                        0   \n",
       "\n",
       "    living_region_ПЕНЗЕНСКАЯ  living_region_ПЕРМСКИЙ  \\\n",
       "4                          0                       0   \n",
       "7                          0                       0   \n",
       "10                         0                       0   \n",
       "11                         0                       0   \n",
       "12                         0                       0   \n",
       "\n",
       "    living_region_ПРИМОРСКИЙ  living_region_ПСКОВСКАЯ  \\\n",
       "4                          0                        0   \n",
       "7                          0                        0   \n",
       "10                         0                        0   \n",
       "11                         0                        0   \n",
       "12                         0                        0   \n",
       "\n",
       "    living_region_РОСТОВСКАЯ  living_region_РЯЗАНСКАЯ  \\\n",
       "4                          0                        0   \n",
       "7                          0                        0   \n",
       "10                         0                        0   \n",
       "11                         0                        0   \n",
       "12                         0                        0   \n",
       "\n",
       "    living_region_САМАРСКАЯ  living_region_САНКТ-ПЕТЕРБУРГ  \\\n",
       "4                         0                              0   \n",
       "7                         0                              0   \n",
       "10                        0                              1   \n",
       "11                        0                              0   \n",
       "12                        0                              0   \n",
       "\n",
       "    living_region_САРАТОВСКАЯ  living_region_САХА/ЯКУТИЯ/  \\\n",
       "4                           0                           0   \n",
       "7                           0                           0   \n",
       "10                          0                           0   \n",
       "11                          0                           0   \n",
       "12                          0                           0   \n",
       "\n",
       "    living_region_САХАЛИНСКАЯ  living_region_СВЕРДЛОВСКАЯ  \\\n",
       "4                           0                           0   \n",
       "7                           0                           0   \n",
       "10                          0                           0   \n",
       "11                          0                           0   \n",
       "12                          0                           0   \n",
       "\n",
       "    living_region_СЕВЕРНАЯОСЕТИЯ-АЛАНИЯ  living_region_СМОЛЕНСКАЯ  \\\n",
       "4                                     0                         0   \n",
       "7                                     0                         0   \n",
       "10                                    0                         0   \n",
       "11                                    0                         0   \n",
       "12                                    0                         0   \n",
       "\n",
       "    living_region_СТАВРОПОЛЬСКИЙ  living_region_ТАМБОВСКАЯ  \\\n",
       "4                              0                         0   \n",
       "7                              0                         0   \n",
       "10                             0                         0   \n",
       "11                             0                         0   \n",
       "12                             0                         0   \n",
       "\n",
       "    living_region_ТАТАРСТАН  living_region_ТВЕРСКАЯ  living_region_ТОМСКАЯ  \\\n",
       "4                         0                       0                      0   \n",
       "7                         0                       0                      0   \n",
       "10                        0                       0                      0   \n",
       "11                        0                       0                      0   \n",
       "12                        0                       0                      0   \n",
       "\n",
       "    living_region_ТУЛЬСКАЯ  living_region_ТЫВА  living_region_ТЮМЕНСКАЯ  \\\n",
       "4                        0                   0                        0   \n",
       "7                        0                   0                        0   \n",
       "10                       0                   0                        0   \n",
       "11                       0                   0                        0   \n",
       "12                       0                   0                        0   \n",
       "\n",
       "    living_region_УДМУРТСКАЯ  living_region_УЛЬЯНОВСКАЯ  \\\n",
       "4                          0                          0   \n",
       "7                          0                          0   \n",
       "10                         0                          0   \n",
       "11                         0                          0   \n",
       "12                         0                          0   \n",
       "\n",
       "    living_region_ХАБАРОВСКИЙ  living_region_ХАКАСИЯ  \\\n",
       "4                           0                      0   \n",
       "7                           0                      0   \n",
       "10                          0                      0   \n",
       "11                          0                      0   \n",
       "12                          0                      0   \n",
       "\n",
       "    living_region_ХАНТЫ-МАНСИЙСКИЙ  living_region_ЧЕЛЯБИНСКАЯ  \\\n",
       "4                                0                          1   \n",
       "7                                0                          0   \n",
       "10                               0                          0   \n",
       "11                               0                          0   \n",
       "12                               0                          0   \n",
       "\n",
       "    living_region_ЧУВАШСКАЯ  living_region_ЯМАЛО-НЕНЕЦКИЙ  \\\n",
       "4                         0                             0   \n",
       "7                         0                             0   \n",
       "10                        0                             0   \n",
       "11                        0                             0   \n",
       "12                        0                             0   \n",
       "\n",
       "    living_region_ЯРОСЛАВСКАЯ  \n",
       "4                           0  \n",
       "7                           0  \n",
       "10                          0  \n",
       "11                          0  \n",
       "12                          0  "
      ]
     },
     "execution_count": 136,
     "metadata": {},
     "output_type": "execute_result"
    }
   ],
   "source": [
    "tink_df.head()"
   ]
  },
  {
   "cell_type": "markdown",
   "metadata": {},
   "source": [
    "# Разбиение на обучающую и тестовую выборку"
   ]
  },
  {
   "cell_type": "code",
   "execution_count": 137,
   "metadata": {},
   "outputs": [
    {
     "data": {
      "image/png": "[encoded data removed]",
      "text/plain": [
       "<Figure size 432x288 with 1 Axes>"
      ]
     },
     "metadata": {
      "needs_background": "light"
     },
     "output_type": "display_data"
    }
   ],
   "source": [
    "sns.countplot(cr_df['open_account_flg']);"
   ]
  },
  {
   "cell_type": "code",
   "execution_count": 138,
   "metadata": {},
   "outputs": [
    {
     "data": {
      "text/plain": [
       "0    140690\n",
       "1     30056\n",
       "Name: open_account_flg, dtype: int64"
      ]
     },
     "execution_count": 138,
     "metadata": {},
     "output_type": "execute_result"
    }
   ],
   "source": [
    "cr_df['open_account_flg'].value_counts()"
   ]
  },
  {
   "cell_type": "markdown",
   "metadata": {},
   "source": [
    "Объектов класса 0 гораздо больше, чем объектов класса 1. Поэтому при дальнейшем построении модели это нужно учитывать, иначе будет необъективное качество точности и полноты."
   ]
  },
  {
   "cell_type": "code",
   "execution_count": 139,
   "metadata": {},
   "outputs": [
    {
     "data": {
      "text/html": [
       "<div>\n",
       "<style scoped>\n",
       "    .dataframe tbody tr th:only-of-type {\n",
       "        vertical-align: middle;\n",
       "    }\n",
       "\n",
       "    .dataframe tbody tr th {\n",
       "        vertical-align: top;\n",
       "    }\n",
       "\n",
       "    .dataframe thead th {\n",
       "        text-align: right;\n",
       "    }\n",
       "</style>\n",
       "<table border=\"1\" class=\"dataframe\">\n",
       "  <thead>\n",
       "    <tr style=\"text-align: right;\">\n",
       "      <th></th>\n",
       "      <th>client_id</th>\n",
       "      <th>gender</th>\n",
       "      <th>age</th>\n",
       "      <th>marital_status</th>\n",
       "      <th>job_position</th>\n",
       "      <th>credit_sum</th>\n",
       "      <th>credit_month</th>\n",
       "      <th>tariff_id</th>\n",
       "      <th>score_shk</th>\n",
       "      <th>education</th>\n",
       "      <th>living_region</th>\n",
       "      <th>monthly_income</th>\n",
       "      <th>credit_count</th>\n",
       "      <th>overdue_credit_count</th>\n",
       "      <th>open_account_flg</th>\n",
       "    </tr>\n",
       "  </thead>\n",
       "  <tbody>\n",
       "    <tr>\n",
       "      <td>0</td>\n",
       "      <td>1</td>\n",
       "      <td>M</td>\n",
       "      <td>NaN</td>\n",
       "      <td>NaN</td>\n",
       "      <td>UMN</td>\n",
       "      <td>59998.00</td>\n",
       "      <td>10</td>\n",
       "      <td>1.6</td>\n",
       "      <td>NaN</td>\n",
       "      <td>GRD</td>\n",
       "      <td>КРАСНОДАРСКИЙ КРАЙ</td>\n",
       "      <td>30000.0</td>\n",
       "      <td>1.0</td>\n",
       "      <td>1.0</td>\n",
       "      <td>0</td>\n",
       "    </tr>\n",
       "    <tr>\n",
       "      <td>1</td>\n",
       "      <td>2</td>\n",
       "      <td>F</td>\n",
       "      <td>NaN</td>\n",
       "      <td>MAR</td>\n",
       "      <td>UMN</td>\n",
       "      <td>10889.00</td>\n",
       "      <td>6</td>\n",
       "      <td>1.1</td>\n",
       "      <td>NaN</td>\n",
       "      <td>NaN</td>\n",
       "      <td>МОСКВА</td>\n",
       "      <td>NaN</td>\n",
       "      <td>2.0</td>\n",
       "      <td>0.0</td>\n",
       "      <td>0</td>\n",
       "    </tr>\n",
       "    <tr>\n",
       "      <td>2</td>\n",
       "      <td>3</td>\n",
       "      <td>M</td>\n",
       "      <td>32.0</td>\n",
       "      <td>MAR</td>\n",
       "      <td>SPC</td>\n",
       "      <td>10728.00</td>\n",
       "      <td>12</td>\n",
       "      <td>1.1</td>\n",
       "      <td>NaN</td>\n",
       "      <td>NaN</td>\n",
       "      <td>ОБЛ САРАТОВСКАЯ</td>\n",
       "      <td>NaN</td>\n",
       "      <td>5.0</td>\n",
       "      <td>0.0</td>\n",
       "      <td>0</td>\n",
       "    </tr>\n",
       "    <tr>\n",
       "      <td>3</td>\n",
       "      <td>4</td>\n",
       "      <td>F</td>\n",
       "      <td>27.0</td>\n",
       "      <td>NaN</td>\n",
       "      <td>SPC</td>\n",
       "      <td>12009.09</td>\n",
       "      <td>12</td>\n",
       "      <td>1.1</td>\n",
       "      <td>NaN</td>\n",
       "      <td>NaN</td>\n",
       "      <td>ОБЛ ВОЛГОГРАДСКАЯ</td>\n",
       "      <td>NaN</td>\n",
       "      <td>2.0</td>\n",
       "      <td>0.0</td>\n",
       "      <td>0</td>\n",
       "    </tr>\n",
       "    <tr>\n",
       "      <td>4</td>\n",
       "      <td>5</td>\n",
       "      <td>M</td>\n",
       "      <td>45.0</td>\n",
       "      <td>NaN</td>\n",
       "      <td>SPC</td>\n",
       "      <td>NaN</td>\n",
       "      <td>10</td>\n",
       "      <td>1.1</td>\n",
       "      <td>0.421385</td>\n",
       "      <td>SCH</td>\n",
       "      <td>ЧЕЛЯБИНСКАЯ ОБЛАСТЬ</td>\n",
       "      <td>NaN</td>\n",
       "      <td>1.0</td>\n",
       "      <td>0.0</td>\n",
       "      <td>0</td>\n",
       "    </tr>\n",
       "  </tbody>\n",
       "</table>\n",
       "</div>"
      ],
      "text/plain": [
       "   client_id gender   age marital_status job_position  credit_sum  \\\n",
       "0          1      M   NaN            NaN          UMN    59998.00   \n",
       "1          2      F   NaN            MAR          UMN    10889.00   \n",
       "2          3      M  32.0            MAR          SPC    10728.00   \n",
       "3          4      F  27.0            NaN          SPC    12009.09   \n",
       "4          5      M  45.0            NaN          SPC         NaN   \n",
       "\n",
       "   credit_month tariff_id  score_shk education        living_region  \\\n",
       "0            10       1.6        NaN       GRD   КРАСНОДАРСКИЙ КРАЙ   \n",
       "1             6       1.1        NaN       NaN               МОСКВА   \n",
       "2            12       1.1        NaN       NaN      ОБЛ САРАТОВСКАЯ   \n",
       "3            12       1.1        NaN       NaN    ОБЛ ВОЛГОГРАДСКАЯ   \n",
       "4            10       1.1   0.421385       SCH  ЧЕЛЯБИНСКАЯ ОБЛАСТЬ   \n",
       "\n",
       "   monthly_income  credit_count  overdue_credit_count  open_account_flg  \n",
       "0         30000.0           1.0                   1.0                 0  \n",
       "1             NaN           2.0                   0.0                 0  \n",
       "2             NaN           5.0                   0.0                 0  \n",
       "3             NaN           2.0                   0.0                 0  \n",
       "4             NaN           1.0                   0.0                 0  "
      ]
     },
     "execution_count": 139,
     "metadata": {},
     "output_type": "execute_result"
    }
   ],
   "source": [
    "cr_df.head()"
   ]
  },
  {
   "cell_type": "code",
   "execution_count": 140,
   "metadata": {},
   "outputs": [
    {
     "data": {
      "text/plain": [
       "(170746, 15)"
      ]
     },
     "execution_count": 140,
     "metadata": {},
     "output_type": "execute_result"
    }
   ],
   "source": [
    "cr_df.shape"
   ]
  },
  {
   "cell_type": "code",
   "execution_count": 141,
   "metadata": {},
   "outputs": [],
   "source": [
    "tink_df.to_csv(\"tinkoff_dataframe\")"
   ]
  },
  {
   "cell_type": "markdown",
   "metadata": {},
   "source": [
    "# ВНИМАНИЕ! Дальнейшее изложение кода в текущем нотбуке черновое, вы конечно можете посмотреть его, если интересно, но для просмотра чистового варианта прошу перейти в нотбук \"Models on Tinkoff\", который расположен в том же репозитории. Спасибо)"
   ]
  },
  {
   "cell_type": "code",
   "execution_count": 142,
   "metadata": {},
   "outputs": [
    {
     "data": {
      "text/html": [
       "<div>\n",
       "<style scoped>\n",
       "    .dataframe tbody tr th:only-of-type {\n",
       "        vertical-align: middle;\n",
       "    }\n",
       "\n",
       "    .dataframe tbody tr th {\n",
       "        vertical-align: top;\n",
       "    }\n",
       "\n",
       "    .dataframe thead th {\n",
       "        text-align: right;\n",
       "    }\n",
       "</style>\n",
       "<table border=\"1\" class=\"dataframe\">\n",
       "  <thead>\n",
       "    <tr style=\"text-align: right;\">\n",
       "      <th></th>\n",
       "      <th>client_id</th>\n",
       "      <th>gender</th>\n",
       "      <th>age</th>\n",
       "      <th>credit_sum</th>\n",
       "      <th>credit_month</th>\n",
       "      <th>score_shk</th>\n",
       "      <th>monthly_income</th>\n",
       "      <th>credit_count</th>\n",
       "      <th>overdue_credit_count</th>\n",
       "      <th>open_account_flg</th>\n",
       "      <th>no_age_info</th>\n",
       "      <th>no_creditsum_info</th>\n",
       "      <th>no_monthlyincome_info</th>\n",
       "      <th>marital_status_CIV</th>\n",
       "      <th>marital_status_DIV</th>\n",
       "      <th>marital_status_MAR</th>\n",
       "      <th>marital_status_UNM</th>\n",
       "      <th>marital_status_WID</th>\n",
       "      <th>marital_status_no_info</th>\n",
       "      <th>job_position_ATP</th>\n",
       "      <th>job_position_BIS</th>\n",
       "      <th>job_position_DIR</th>\n",
       "      <th>job_position_INP</th>\n",
       "      <th>job_position_NOR</th>\n",
       "      <th>job_position_OTHER</th>\n",
       "      <th>job_position_PNA</th>\n",
       "      <th>job_position_SPC</th>\n",
       "      <th>job_position_UMN</th>\n",
       "      <th>job_position_WOI</th>\n",
       "      <th>job_position_WRK</th>\n",
       "      <th>tariff_id_1_0</th>\n",
       "      <th>tariff_id_1_1</th>\n",
       "      <th>tariff_id_1_16</th>\n",
       "      <th>tariff_id_1_17</th>\n",
       "      <th>tariff_id_1_19</th>\n",
       "      <th>tariff_id_1_2</th>\n",
       "      <th>tariff_id_1_20</th>\n",
       "      <th>tariff_id_1_21</th>\n",
       "      <th>tariff_id_1_22</th>\n",
       "      <th>tariff_id_1_23</th>\n",
       "      <th>tariff_id_1_24</th>\n",
       "      <th>tariff_id_1_25</th>\n",
       "      <th>tariff_id_1_3</th>\n",
       "      <th>tariff_id_1_32</th>\n",
       "      <th>tariff_id_1_4</th>\n",
       "      <th>tariff_id_1_41</th>\n",
       "      <th>tariff_id_1_43</th>\n",
       "      <th>tariff_id_1_44</th>\n",
       "      <th>tariff_id_1_5</th>\n",
       "      <th>tariff_id_1_6</th>\n",
       "      <th>tariff_id_1_7</th>\n",
       "      <th>tariff_id_1_9</th>\n",
       "      <th>tariff_id_1_91</th>\n",
       "      <th>tariff_id_1_94</th>\n",
       "      <th>tariff_id_1_99</th>\n",
       "      <th>education_ACD</th>\n",
       "      <th>education_GRD</th>\n",
       "      <th>education_PGR</th>\n",
       "      <th>education_SCH</th>\n",
       "      <th>education_UGR</th>\n",
       "      <th>education_no_info</th>\n",
       "      <th>living_region_OTHER</th>\n",
       "      <th>living_region_no_info</th>\n",
       "      <th>living_region_АДЫГЕЯ</th>\n",
       "      <th>living_region_АЛТАЙ</th>\n",
       "      <th>living_region_АЛТАЙСКИЙ</th>\n",
       "      <th>living_region_АМУРСКАЯ</th>\n",
       "      <th>living_region_АРХАНГЕЛЬСКАЯ</th>\n",
       "      <th>living_region_АСТРАХАНСКАЯ</th>\n",
       "      <th>living_region_БАШКОРТОСТАН</th>\n",
       "      <th>living_region_БЕЛГОРОДСКАЯ</th>\n",
       "      <th>living_region_БРЯНСКАЯ</th>\n",
       "      <th>living_region_БУРЯТИЯ</th>\n",
       "      <th>living_region_ВЛАДИМИРСКАЯ</th>\n",
       "      <th>living_region_ВОЛГОГРАДСКАЯ</th>\n",
       "      <th>living_region_ВОЛОГОДСКАЯ</th>\n",
       "      <th>living_region_ВОРОНЕЖСКАЯ</th>\n",
       "      <th>living_region_ДАГЕСТАН</th>\n",
       "      <th>living_region_ЕВРЕЙСКАЯ</th>\n",
       "      <th>living_region_ЗАБАЙКАЛЬСКИЙ</th>\n",
       "      <th>living_region_ИВАНОВСКАЯ</th>\n",
       "      <th>living_region_ИРКУТСКАЯ</th>\n",
       "      <th>living_region_КАБАРДИНО-БАЛКАРСКАЯ</th>\n",
       "      <th>living_region_КАЛИНИНГРАДСКАЯ</th>\n",
       "      <th>living_region_КАЛМЫКИЯ</th>\n",
       "      <th>living_region_КАЛУЖСКАЯ</th>\n",
       "      <th>living_region_КАМЧАТСКИЙ</th>\n",
       "      <th>living_region_КАРАЧАЕВО-ЧЕРКЕССКАЯ</th>\n",
       "      <th>living_region_КАРЕЛИЯ</th>\n",
       "      <th>living_region_КЕМЕРОВСКАЯ</th>\n",
       "      <th>living_region_КИРОВСКАЯ</th>\n",
       "      <th>living_region_КОМИ</th>\n",
       "      <th>living_region_КОСТРОМСКАЯ</th>\n",
       "      <th>living_region_КРАСНОДАРСКИЙ</th>\n",
       "      <th>living_region_КРАСНОЯРСКИЙ</th>\n",
       "      <th>living_region_КУРГАНСКАЯ</th>\n",
       "      <th>living_region_КУРСКАЯ</th>\n",
       "      <th>living_region_ЛЕНИНГРАДСКАЯ</th>\n",
       "      <th>living_region_ЛИПЕЦКАЯ</th>\n",
       "      <th>living_region_МАГАДАНСКАЯ</th>\n",
       "      <th>living_region_МАРИЙЭЛ</th>\n",
       "      <th>living_region_МОРДОВИЯ</th>\n",
       "      <th>living_region_МОСКВА</th>\n",
       "      <th>living_region_МОСКОВСКАЯ</th>\n",
       "      <th>living_region_МУРМАНСКАЯ</th>\n",
       "      <th>living_region_НЕНЕЦКИЙ</th>\n",
       "      <th>living_region_НИЖЕГОРОДСКАЯ</th>\n",
       "      <th>living_region_НОВГОРОДСКАЯ</th>\n",
       "      <th>living_region_НОВОСИБИРСКАЯ</th>\n",
       "      <th>living_region_ОМСКАЯ</th>\n",
       "      <th>living_region_ОРЕНБУРГСКАЯ</th>\n",
       "      <th>living_region_ОРЛОВСКАЯ</th>\n",
       "      <th>living_region_ПЕНЗЕНСКАЯ</th>\n",
       "      <th>living_region_ПЕРМСКИЙ</th>\n",
       "      <th>living_region_ПРИМОРСКИЙ</th>\n",
       "      <th>living_region_ПСКОВСКАЯ</th>\n",
       "      <th>living_region_РОСТОВСКАЯ</th>\n",
       "      <th>living_region_РЯЗАНСКАЯ</th>\n",
       "      <th>living_region_САМАРСКАЯ</th>\n",
       "      <th>living_region_САНКТ-ПЕТЕРБУРГ</th>\n",
       "      <th>living_region_САРАТОВСКАЯ</th>\n",
       "      <th>living_region_САХА/ЯКУТИЯ/</th>\n",
       "      <th>living_region_САХАЛИНСКАЯ</th>\n",
       "      <th>living_region_СВЕРДЛОВСКАЯ</th>\n",
       "      <th>living_region_СЕВЕРНАЯОСЕТИЯ-АЛАНИЯ</th>\n",
       "      <th>living_region_СМОЛЕНСКАЯ</th>\n",
       "      <th>living_region_СТАВРОПОЛЬСКИЙ</th>\n",
       "      <th>living_region_ТАМБОВСКАЯ</th>\n",
       "      <th>living_region_ТАТАРСТАН</th>\n",
       "      <th>living_region_ТВЕРСКАЯ</th>\n",
       "      <th>living_region_ТОМСКАЯ</th>\n",
       "      <th>living_region_ТУЛЬСКАЯ</th>\n",
       "      <th>living_region_ТЫВА</th>\n",
       "      <th>living_region_ТЮМЕНСКАЯ</th>\n",
       "      <th>living_region_УДМУРТСКАЯ</th>\n",
       "      <th>living_region_УЛЬЯНОВСКАЯ</th>\n",
       "      <th>living_region_ХАБАРОВСКИЙ</th>\n",
       "      <th>living_region_ХАКАСИЯ</th>\n",
       "      <th>living_region_ХАНТЫ-МАНСИЙСКИЙ</th>\n",
       "      <th>living_region_ЧЕЛЯБИНСКАЯ</th>\n",
       "      <th>living_region_ЧУВАШСКАЯ</th>\n",
       "      <th>living_region_ЯМАЛО-НЕНЕЦКИЙ</th>\n",
       "      <th>living_region_ЯРОСЛАВСКАЯ</th>\n",
       "    </tr>\n",
       "  </thead>\n",
       "  <tbody>\n",
       "    <tr>\n",
       "      <td>4</td>\n",
       "      <td>5</td>\n",
       "      <td>0</td>\n",
       "      <td>45.0</td>\n",
       "      <td>-999.0</td>\n",
       "      <td>10</td>\n",
       "      <td>0.421385</td>\n",
       "      <td>-999.0</td>\n",
       "      <td>1.0</td>\n",
       "      <td>0.0</td>\n",
       "      <td>0</td>\n",
       "      <td>0</td>\n",
       "      <td>1</td>\n",
       "      <td>1</td>\n",
       "      <td>0</td>\n",
       "      <td>0</td>\n",
       "      <td>0</td>\n",
       "      <td>0</td>\n",
       "      <td>0</td>\n",
       "      <td>1</td>\n",
       "      <td>0</td>\n",
       "      <td>0</td>\n",
       "      <td>0</td>\n",
       "      <td>0</td>\n",
       "      <td>0</td>\n",
       "      <td>0</td>\n",
       "      <td>0</td>\n",
       "      <td>1</td>\n",
       "      <td>0</td>\n",
       "      <td>0</td>\n",
       "      <td>0</td>\n",
       "      <td>0</td>\n",
       "      <td>1</td>\n",
       "      <td>0</td>\n",
       "      <td>0</td>\n",
       "      <td>0</td>\n",
       "      <td>0</td>\n",
       "      <td>0</td>\n",
       "      <td>0</td>\n",
       "      <td>0</td>\n",
       "      <td>0</td>\n",
       "      <td>0</td>\n",
       "      <td>0</td>\n",
       "      <td>0</td>\n",
       "      <td>0</td>\n",
       "      <td>0</td>\n",
       "      <td>0</td>\n",
       "      <td>0</td>\n",
       "      <td>0</td>\n",
       "      <td>0</td>\n",
       "      <td>0</td>\n",
       "      <td>0</td>\n",
       "      <td>0</td>\n",
       "      <td>0</td>\n",
       "      <td>0</td>\n",
       "      <td>0</td>\n",
       "      <td>0</td>\n",
       "      <td>0</td>\n",
       "      <td>0</td>\n",
       "      <td>1</td>\n",
       "      <td>0</td>\n",
       "      <td>0</td>\n",
       "      <td>0</td>\n",
       "      <td>0</td>\n",
       "      <td>0</td>\n",
       "      <td>0</td>\n",
       "      <td>0</td>\n",
       "      <td>0</td>\n",
       "      <td>0</td>\n",
       "      <td>0</td>\n",
       "      <td>0</td>\n",
       "      <td>0</td>\n",
       "      <td>0</td>\n",
       "      <td>0</td>\n",
       "      <td>0</td>\n",
       "      <td>0</td>\n",
       "      <td>0</td>\n",
       "      <td>0</td>\n",
       "      <td>0</td>\n",
       "      <td>0</td>\n",
       "      <td>0</td>\n",
       "      <td>0</td>\n",
       "      <td>0</td>\n",
       "      <td>0</td>\n",
       "      <td>0</td>\n",
       "      <td>0</td>\n",
       "      <td>0</td>\n",
       "      <td>0</td>\n",
       "      <td>0</td>\n",
       "      <td>0</td>\n",
       "      <td>0</td>\n",
       "      <td>0</td>\n",
       "      <td>0</td>\n",
       "      <td>0</td>\n",
       "      <td>0</td>\n",
       "      <td>0</td>\n",
       "      <td>0</td>\n",
       "      <td>0</td>\n",
       "      <td>0</td>\n",
       "      <td>0</td>\n",
       "      <td>0</td>\n",
       "      <td>0</td>\n",
       "      <td>0</td>\n",
       "      <td>0</td>\n",
       "      <td>0</td>\n",
       "      <td>0</td>\n",
       "      <td>0</td>\n",
       "      <td>0</td>\n",
       "      <td>0</td>\n",
       "      <td>0</td>\n",
       "      <td>0</td>\n",
       "      <td>0</td>\n",
       "      <td>0</td>\n",
       "      <td>0</td>\n",
       "      <td>0</td>\n",
       "      <td>0</td>\n",
       "      <td>0</td>\n",
       "      <td>0</td>\n",
       "      <td>0</td>\n",
       "      <td>0</td>\n",
       "      <td>0</td>\n",
       "      <td>0</td>\n",
       "      <td>0</td>\n",
       "      <td>0</td>\n",
       "      <td>0</td>\n",
       "      <td>0</td>\n",
       "      <td>0</td>\n",
       "      <td>0</td>\n",
       "      <td>0</td>\n",
       "      <td>0</td>\n",
       "      <td>0</td>\n",
       "      <td>0</td>\n",
       "      <td>0</td>\n",
       "      <td>0</td>\n",
       "      <td>0</td>\n",
       "      <td>0</td>\n",
       "      <td>0</td>\n",
       "      <td>0</td>\n",
       "      <td>0</td>\n",
       "      <td>0</td>\n",
       "      <td>1</td>\n",
       "      <td>0</td>\n",
       "      <td>0</td>\n",
       "      <td>0</td>\n",
       "    </tr>\n",
       "    <tr>\n",
       "      <td>7</td>\n",
       "      <td>8</td>\n",
       "      <td>1</td>\n",
       "      <td>26.0</td>\n",
       "      <td>47878.0</td>\n",
       "      <td>10</td>\n",
       "      <td>0.512525</td>\n",
       "      <td>60000.0</td>\n",
       "      <td>3.0</td>\n",
       "      <td>0.0</td>\n",
       "      <td>0</td>\n",
       "      <td>0</td>\n",
       "      <td>0</td>\n",
       "      <td>0</td>\n",
       "      <td>0</td>\n",
       "      <td>0</td>\n",
       "      <td>0</td>\n",
       "      <td>1</td>\n",
       "      <td>0</td>\n",
       "      <td>0</td>\n",
       "      <td>0</td>\n",
       "      <td>0</td>\n",
       "      <td>0</td>\n",
       "      <td>0</td>\n",
       "      <td>0</td>\n",
       "      <td>0</td>\n",
       "      <td>0</td>\n",
       "      <td>1</td>\n",
       "      <td>0</td>\n",
       "      <td>0</td>\n",
       "      <td>0</td>\n",
       "      <td>0</td>\n",
       "      <td>1</td>\n",
       "      <td>0</td>\n",
       "      <td>0</td>\n",
       "      <td>0</td>\n",
       "      <td>0</td>\n",
       "      <td>0</td>\n",
       "      <td>0</td>\n",
       "      <td>0</td>\n",
       "      <td>0</td>\n",
       "      <td>0</td>\n",
       "      <td>0</td>\n",
       "      <td>0</td>\n",
       "      <td>0</td>\n",
       "      <td>0</td>\n",
       "      <td>0</td>\n",
       "      <td>0</td>\n",
       "      <td>0</td>\n",
       "      <td>0</td>\n",
       "      <td>0</td>\n",
       "      <td>0</td>\n",
       "      <td>0</td>\n",
       "      <td>0</td>\n",
       "      <td>0</td>\n",
       "      <td>0</td>\n",
       "      <td>0</td>\n",
       "      <td>1</td>\n",
       "      <td>0</td>\n",
       "      <td>0</td>\n",
       "      <td>0</td>\n",
       "      <td>0</td>\n",
       "      <td>0</td>\n",
       "      <td>0</td>\n",
       "      <td>0</td>\n",
       "      <td>0</td>\n",
       "      <td>0</td>\n",
       "      <td>0</td>\n",
       "      <td>0</td>\n",
       "      <td>0</td>\n",
       "      <td>0</td>\n",
       "      <td>0</td>\n",
       "      <td>0</td>\n",
       "      <td>0</td>\n",
       "      <td>0</td>\n",
       "      <td>0</td>\n",
       "      <td>0</td>\n",
       "      <td>0</td>\n",
       "      <td>0</td>\n",
       "      <td>0</td>\n",
       "      <td>0</td>\n",
       "      <td>0</td>\n",
       "      <td>0</td>\n",
       "      <td>0</td>\n",
       "      <td>0</td>\n",
       "      <td>0</td>\n",
       "      <td>0</td>\n",
       "      <td>0</td>\n",
       "      <td>0</td>\n",
       "      <td>0</td>\n",
       "      <td>0</td>\n",
       "      <td>0</td>\n",
       "      <td>0</td>\n",
       "      <td>0</td>\n",
       "      <td>0</td>\n",
       "      <td>0</td>\n",
       "      <td>0</td>\n",
       "      <td>0</td>\n",
       "      <td>0</td>\n",
       "      <td>0</td>\n",
       "      <td>0</td>\n",
       "      <td>0</td>\n",
       "      <td>0</td>\n",
       "      <td>0</td>\n",
       "      <td>1</td>\n",
       "      <td>0</td>\n",
       "      <td>0</td>\n",
       "      <td>0</td>\n",
       "      <td>0</td>\n",
       "      <td>0</td>\n",
       "      <td>0</td>\n",
       "      <td>0</td>\n",
       "      <td>0</td>\n",
       "      <td>0</td>\n",
       "      <td>0</td>\n",
       "      <td>0</td>\n",
       "      <td>0</td>\n",
       "      <td>0</td>\n",
       "      <td>0</td>\n",
       "      <td>0</td>\n",
       "      <td>0</td>\n",
       "      <td>0</td>\n",
       "      <td>0</td>\n",
       "      <td>0</td>\n",
       "      <td>0</td>\n",
       "      <td>0</td>\n",
       "      <td>0</td>\n",
       "      <td>0</td>\n",
       "      <td>0</td>\n",
       "      <td>0</td>\n",
       "      <td>0</td>\n",
       "      <td>0</td>\n",
       "      <td>0</td>\n",
       "      <td>0</td>\n",
       "      <td>0</td>\n",
       "      <td>0</td>\n",
       "      <td>0</td>\n",
       "      <td>0</td>\n",
       "      <td>0</td>\n",
       "      <td>0</td>\n",
       "      <td>0</td>\n",
       "      <td>0</td>\n",
       "      <td>0</td>\n",
       "      <td>0</td>\n",
       "    </tr>\n",
       "    <tr>\n",
       "      <td>10</td>\n",
       "      <td>11</td>\n",
       "      <td>0</td>\n",
       "      <td>26.0</td>\n",
       "      <td>16793.0</td>\n",
       "      <td>14</td>\n",
       "      <td>0.445430</td>\n",
       "      <td>36000.0</td>\n",
       "      <td>2.0</td>\n",
       "      <td>0.0</td>\n",
       "      <td>0</td>\n",
       "      <td>0</td>\n",
       "      <td>0</td>\n",
       "      <td>0</td>\n",
       "      <td>0</td>\n",
       "      <td>0</td>\n",
       "      <td>1</td>\n",
       "      <td>0</td>\n",
       "      <td>0</td>\n",
       "      <td>0</td>\n",
       "      <td>0</td>\n",
       "      <td>0</td>\n",
       "      <td>0</td>\n",
       "      <td>0</td>\n",
       "      <td>0</td>\n",
       "      <td>0</td>\n",
       "      <td>0</td>\n",
       "      <td>1</td>\n",
       "      <td>0</td>\n",
       "      <td>0</td>\n",
       "      <td>0</td>\n",
       "      <td>1</td>\n",
       "      <td>0</td>\n",
       "      <td>0</td>\n",
       "      <td>0</td>\n",
       "      <td>0</td>\n",
       "      <td>0</td>\n",
       "      <td>0</td>\n",
       "      <td>0</td>\n",
       "      <td>0</td>\n",
       "      <td>0</td>\n",
       "      <td>0</td>\n",
       "      <td>0</td>\n",
       "      <td>0</td>\n",
       "      <td>0</td>\n",
       "      <td>0</td>\n",
       "      <td>0</td>\n",
       "      <td>0</td>\n",
       "      <td>0</td>\n",
       "      <td>0</td>\n",
       "      <td>0</td>\n",
       "      <td>0</td>\n",
       "      <td>0</td>\n",
       "      <td>0</td>\n",
       "      <td>0</td>\n",
       "      <td>0</td>\n",
       "      <td>0</td>\n",
       "      <td>0</td>\n",
       "      <td>0</td>\n",
       "      <td>1</td>\n",
       "      <td>0</td>\n",
       "      <td>0</td>\n",
       "      <td>0</td>\n",
       "      <td>0</td>\n",
       "      <td>0</td>\n",
       "      <td>0</td>\n",
       "      <td>0</td>\n",
       "      <td>0</td>\n",
       "      <td>0</td>\n",
       "      <td>0</td>\n",
       "      <td>0</td>\n",
       "      <td>0</td>\n",
       "      <td>0</td>\n",
       "      <td>0</td>\n",
       "      <td>0</td>\n",
       "      <td>0</td>\n",
       "      <td>0</td>\n",
       "      <td>0</td>\n",
       "      <td>0</td>\n",
       "      <td>0</td>\n",
       "      <td>0</td>\n",
       "      <td>0</td>\n",
       "      <td>0</td>\n",
       "      <td>0</td>\n",
       "      <td>0</td>\n",
       "      <td>0</td>\n",
       "      <td>0</td>\n",
       "      <td>0</td>\n",
       "      <td>0</td>\n",
       "      <td>0</td>\n",
       "      <td>0</td>\n",
       "      <td>0</td>\n",
       "      <td>0</td>\n",
       "      <td>0</td>\n",
       "      <td>0</td>\n",
       "      <td>0</td>\n",
       "      <td>0</td>\n",
       "      <td>0</td>\n",
       "      <td>0</td>\n",
       "      <td>0</td>\n",
       "      <td>0</td>\n",
       "      <td>0</td>\n",
       "      <td>0</td>\n",
       "      <td>0</td>\n",
       "      <td>0</td>\n",
       "      <td>0</td>\n",
       "      <td>0</td>\n",
       "      <td>0</td>\n",
       "      <td>0</td>\n",
       "      <td>0</td>\n",
       "      <td>0</td>\n",
       "      <td>0</td>\n",
       "      <td>0</td>\n",
       "      <td>0</td>\n",
       "      <td>0</td>\n",
       "      <td>0</td>\n",
       "      <td>0</td>\n",
       "      <td>0</td>\n",
       "      <td>0</td>\n",
       "      <td>0</td>\n",
       "      <td>1</td>\n",
       "      <td>0</td>\n",
       "      <td>0</td>\n",
       "      <td>0</td>\n",
       "      <td>0</td>\n",
       "      <td>0</td>\n",
       "      <td>0</td>\n",
       "      <td>0</td>\n",
       "      <td>0</td>\n",
       "      <td>0</td>\n",
       "      <td>0</td>\n",
       "      <td>0</td>\n",
       "      <td>0</td>\n",
       "      <td>0</td>\n",
       "      <td>0</td>\n",
       "      <td>0</td>\n",
       "      <td>0</td>\n",
       "      <td>0</td>\n",
       "      <td>0</td>\n",
       "      <td>0</td>\n",
       "      <td>0</td>\n",
       "      <td>0</td>\n",
       "      <td>0</td>\n",
       "      <td>0</td>\n",
       "    </tr>\n",
       "    <tr>\n",
       "      <td>11</td>\n",
       "      <td>12</td>\n",
       "      <td>1</td>\n",
       "      <td>26.0</td>\n",
       "      <td>18936.0</td>\n",
       "      <td>10</td>\n",
       "      <td>0.455774</td>\n",
       "      <td>30000.0</td>\n",
       "      <td>0.0</td>\n",
       "      <td>0.0</td>\n",
       "      <td>0</td>\n",
       "      <td>0</td>\n",
       "      <td>0</td>\n",
       "      <td>0</td>\n",
       "      <td>0</td>\n",
       "      <td>0</td>\n",
       "      <td>0</td>\n",
       "      <td>1</td>\n",
       "      <td>0</td>\n",
       "      <td>0</td>\n",
       "      <td>0</td>\n",
       "      <td>0</td>\n",
       "      <td>0</td>\n",
       "      <td>0</td>\n",
       "      <td>0</td>\n",
       "      <td>0</td>\n",
       "      <td>0</td>\n",
       "      <td>1</td>\n",
       "      <td>0</td>\n",
       "      <td>0</td>\n",
       "      <td>0</td>\n",
       "      <td>0</td>\n",
       "      <td>0</td>\n",
       "      <td>0</td>\n",
       "      <td>0</td>\n",
       "      <td>0</td>\n",
       "      <td>0</td>\n",
       "      <td>0</td>\n",
       "      <td>0</td>\n",
       "      <td>0</td>\n",
       "      <td>0</td>\n",
       "      <td>0</td>\n",
       "      <td>0</td>\n",
       "      <td>0</td>\n",
       "      <td>1</td>\n",
       "      <td>0</td>\n",
       "      <td>0</td>\n",
       "      <td>0</td>\n",
       "      <td>0</td>\n",
       "      <td>0</td>\n",
       "      <td>0</td>\n",
       "      <td>0</td>\n",
       "      <td>0</td>\n",
       "      <td>0</td>\n",
       "      <td>0</td>\n",
       "      <td>0</td>\n",
       "      <td>0</td>\n",
       "      <td>0</td>\n",
       "      <td>0</td>\n",
       "      <td>0</td>\n",
       "      <td>0</td>\n",
       "      <td>1</td>\n",
       "      <td>0</td>\n",
       "      <td>0</td>\n",
       "      <td>0</td>\n",
       "      <td>0</td>\n",
       "      <td>0</td>\n",
       "      <td>0</td>\n",
       "      <td>0</td>\n",
       "      <td>0</td>\n",
       "      <td>1</td>\n",
       "      <td>0</td>\n",
       "      <td>0</td>\n",
       "      <td>0</td>\n",
       "      <td>0</td>\n",
       "      <td>0</td>\n",
       "      <td>0</td>\n",
       "      <td>0</td>\n",
       "      <td>0</td>\n",
       "      <td>0</td>\n",
       "      <td>0</td>\n",
       "      <td>0</td>\n",
       "      <td>0</td>\n",
       "      <td>0</td>\n",
       "      <td>0</td>\n",
       "      <td>0</td>\n",
       "      <td>0</td>\n",
       "      <td>0</td>\n",
       "      <td>0</td>\n",
       "      <td>0</td>\n",
       "      <td>0</td>\n",
       "      <td>0</td>\n",
       "      <td>0</td>\n",
       "      <td>0</td>\n",
       "      <td>0</td>\n",
       "      <td>0</td>\n",
       "      <td>0</td>\n",
       "      <td>0</td>\n",
       "      <td>0</td>\n",
       "      <td>0</td>\n",
       "      <td>0</td>\n",
       "      <td>0</td>\n",
       "      <td>0</td>\n",
       "      <td>0</td>\n",
       "      <td>0</td>\n",
       "      <td>0</td>\n",
       "      <td>0</td>\n",
       "      <td>0</td>\n",
       "      <td>0</td>\n",
       "      <td>0</td>\n",
       "      <td>0</td>\n",
       "      <td>0</td>\n",
       "      <td>0</td>\n",
       "      <td>0</td>\n",
       "      <td>0</td>\n",
       "      <td>0</td>\n",
       "      <td>0</td>\n",
       "      <td>0</td>\n",
       "      <td>0</td>\n",
       "      <td>0</td>\n",
       "      <td>0</td>\n",
       "      <td>0</td>\n",
       "      <td>0</td>\n",
       "      <td>0</td>\n",
       "      <td>0</td>\n",
       "      <td>0</td>\n",
       "      <td>0</td>\n",
       "      <td>0</td>\n",
       "      <td>0</td>\n",
       "      <td>0</td>\n",
       "      <td>0</td>\n",
       "      <td>0</td>\n",
       "      <td>0</td>\n",
       "      <td>0</td>\n",
       "      <td>0</td>\n",
       "      <td>0</td>\n",
       "      <td>0</td>\n",
       "      <td>0</td>\n",
       "      <td>0</td>\n",
       "      <td>0</td>\n",
       "      <td>0</td>\n",
       "      <td>0</td>\n",
       "      <td>0</td>\n",
       "      <td>0</td>\n",
       "    </tr>\n",
       "    <tr>\n",
       "      <td>12</td>\n",
       "      <td>13</td>\n",
       "      <td>0</td>\n",
       "      <td>37.0</td>\n",
       "      <td>42289.0</td>\n",
       "      <td>10</td>\n",
       "      <td>0.691609</td>\n",
       "      <td>70000.0</td>\n",
       "      <td>1.0</td>\n",
       "      <td>0.0</td>\n",
       "      <td>0</td>\n",
       "      <td>0</td>\n",
       "      <td>0</td>\n",
       "      <td>0</td>\n",
       "      <td>0</td>\n",
       "      <td>0</td>\n",
       "      <td>1</td>\n",
       "      <td>0</td>\n",
       "      <td>0</td>\n",
       "      <td>0</td>\n",
       "      <td>0</td>\n",
       "      <td>0</td>\n",
       "      <td>0</td>\n",
       "      <td>0</td>\n",
       "      <td>0</td>\n",
       "      <td>0</td>\n",
       "      <td>0</td>\n",
       "      <td>1</td>\n",
       "      <td>0</td>\n",
       "      <td>0</td>\n",
       "      <td>0</td>\n",
       "      <td>0</td>\n",
       "      <td>0</td>\n",
       "      <td>0</td>\n",
       "      <td>0</td>\n",
       "      <td>0</td>\n",
       "      <td>0</td>\n",
       "      <td>0</td>\n",
       "      <td>0</td>\n",
       "      <td>0</td>\n",
       "      <td>0</td>\n",
       "      <td>0</td>\n",
       "      <td>0</td>\n",
       "      <td>0</td>\n",
       "      <td>0</td>\n",
       "      <td>0</td>\n",
       "      <td>0</td>\n",
       "      <td>0</td>\n",
       "      <td>0</td>\n",
       "      <td>0</td>\n",
       "      <td>1</td>\n",
       "      <td>0</td>\n",
       "      <td>0</td>\n",
       "      <td>0</td>\n",
       "      <td>0</td>\n",
       "      <td>0</td>\n",
       "      <td>0</td>\n",
       "      <td>0</td>\n",
       "      <td>0</td>\n",
       "      <td>1</td>\n",
       "      <td>0</td>\n",
       "      <td>0</td>\n",
       "      <td>0</td>\n",
       "      <td>0</td>\n",
       "      <td>0</td>\n",
       "      <td>0</td>\n",
       "      <td>0</td>\n",
       "      <td>0</td>\n",
       "      <td>1</td>\n",
       "      <td>0</td>\n",
       "      <td>0</td>\n",
       "      <td>0</td>\n",
       "      <td>0</td>\n",
       "      <td>0</td>\n",
       "      <td>0</td>\n",
       "      <td>0</td>\n",
       "      <td>0</td>\n",
       "      <td>0</td>\n",
       "      <td>0</td>\n",
       "      <td>0</td>\n",
       "      <td>0</td>\n",
       "      <td>0</td>\n",
       "      <td>0</td>\n",
       "      <td>0</td>\n",
       "      <td>0</td>\n",
       "      <td>0</td>\n",
       "      <td>0</td>\n",
       "      <td>0</td>\n",
       "      <td>0</td>\n",
       "      <td>0</td>\n",
       "      <td>0</td>\n",
       "      <td>0</td>\n",
       "      <td>0</td>\n",
       "      <td>0</td>\n",
       "      <td>0</td>\n",
       "      <td>0</td>\n",
       "      <td>0</td>\n",
       "      <td>0</td>\n",
       "      <td>0</td>\n",
       "      <td>0</td>\n",
       "      <td>0</td>\n",
       "      <td>0</td>\n",
       "      <td>0</td>\n",
       "      <td>0</td>\n",
       "      <td>0</td>\n",
       "      <td>0</td>\n",
       "      <td>0</td>\n",
       "      <td>0</td>\n",
       "      <td>0</td>\n",
       "      <td>0</td>\n",
       "      <td>0</td>\n",
       "      <td>0</td>\n",
       "      <td>0</td>\n",
       "      <td>0</td>\n",
       "      <td>0</td>\n",
       "      <td>0</td>\n",
       "      <td>0</td>\n",
       "      <td>0</td>\n",
       "      <td>0</td>\n",
       "      <td>0</td>\n",
       "      <td>0</td>\n",
       "      <td>0</td>\n",
       "      <td>0</td>\n",
       "      <td>0</td>\n",
       "      <td>0</td>\n",
       "      <td>0</td>\n",
       "      <td>0</td>\n",
       "      <td>0</td>\n",
       "      <td>0</td>\n",
       "      <td>0</td>\n",
       "      <td>0</td>\n",
       "      <td>0</td>\n",
       "      <td>0</td>\n",
       "      <td>0</td>\n",
       "      <td>0</td>\n",
       "      <td>0</td>\n",
       "      <td>0</td>\n",
       "      <td>0</td>\n",
       "      <td>0</td>\n",
       "      <td>0</td>\n",
       "      <td>0</td>\n",
       "      <td>0</td>\n",
       "      <td>0</td>\n",
       "      <td>0</td>\n",
       "    </tr>\n",
       "  </tbody>\n",
       "</table>\n",
       "</div>"
      ],
      "text/plain": [
       "    client_id  gender   age  credit_sum  credit_month  score_shk  \\\n",
       "4           5       0  45.0      -999.0            10   0.421385   \n",
       "7           8       1  26.0     47878.0            10   0.512525   \n",
       "10         11       0  26.0     16793.0            14   0.445430   \n",
       "11         12       1  26.0     18936.0            10   0.455774   \n",
       "12         13       0  37.0     42289.0            10   0.691609   \n",
       "\n",
       "    monthly_income  credit_count  overdue_credit_count  open_account_flg  \\\n",
       "4           -999.0           1.0                   0.0                 0   \n",
       "7          60000.0           3.0                   0.0                 0   \n",
       "10         36000.0           2.0                   0.0                 0   \n",
       "11         30000.0           0.0                   0.0                 0   \n",
       "12         70000.0           1.0                   0.0                 0   \n",
       "\n",
       "    no_age_info  no_creditsum_info  no_monthlyincome_info  marital_status_CIV  \\\n",
       "4             0                  1                      1                   0   \n",
       "7             0                  0                      0                   0   \n",
       "10            0                  0                      0                   0   \n",
       "11            0                  0                      0                   0   \n",
       "12            0                  0                      0                   0   \n",
       "\n",
       "    marital_status_DIV  marital_status_MAR  marital_status_UNM  \\\n",
       "4                    0                   0                   0   \n",
       "7                    0                   0                   1   \n",
       "10                   0                   1                   0   \n",
       "11                   0                   0                   1   \n",
       "12                   0                   1                   0   \n",
       "\n",
       "    marital_status_WID  marital_status_no_info  job_position_ATP  \\\n",
       "4                    0                       1                 0   \n",
       "7                    0                       0                 0   \n",
       "10                   0                       0                 0   \n",
       "11                   0                       0                 0   \n",
       "12                   0                       0                 0   \n",
       "\n",
       "    job_position_BIS  job_position_DIR  job_position_INP  job_position_NOR  \\\n",
       "4                  0                 0                 0                 0   \n",
       "7                  0                 0                 0                 0   \n",
       "10                 0                 0                 0                 0   \n",
       "11                 0                 0                 0                 0   \n",
       "12                 0                 0                 0                 0   \n",
       "\n",
       "    job_position_OTHER  job_position_PNA  job_position_SPC  job_position_UMN  \\\n",
       "4                    0                 0                 1                 0   \n",
       "7                    0                 0                 1                 0   \n",
       "10                   0                 0                 1                 0   \n",
       "11                   0                 0                 1                 0   \n",
       "12                   0                 0                 1                 0   \n",
       "\n",
       "    job_position_WOI  job_position_WRK  tariff_id_1_0  tariff_id_1_1  \\\n",
       "4                  0                 0              0              1   \n",
       "7                  0                 0              0              1   \n",
       "10                 0                 0              1              0   \n",
       "11                 0                 0              0              0   \n",
       "12                 0                 0              0              0   \n",
       "\n",
       "    tariff_id_1_16  tariff_id_1_17  tariff_id_1_19  tariff_id_1_2  \\\n",
       "4                0               0               0              0   \n",
       "7                0               0               0              0   \n",
       "10               0               0               0              0   \n",
       "11               0               0               0              0   \n",
       "12               0               0               0              0   \n",
       "\n",
       "    tariff_id_1_20  tariff_id_1_21  tariff_id_1_22  tariff_id_1_23  \\\n",
       "4                0               0               0               0   \n",
       "7                0               0               0               0   \n",
       "10               0               0               0               0   \n",
       "11               0               0               0               0   \n",
       "12               0               0               0               0   \n",
       "\n",
       "    tariff_id_1_24  tariff_id_1_25  tariff_id_1_3  tariff_id_1_32  \\\n",
       "4                0               0              0               0   \n",
       "7                0               0              0               0   \n",
       "10               0               0              0               0   \n",
       "11               0               0              0               1   \n",
       "12               0               0              0               0   \n",
       "\n",
       "    tariff_id_1_4  tariff_id_1_41  tariff_id_1_43  tariff_id_1_44  \\\n",
       "4               0               0               0               0   \n",
       "7               0               0               0               0   \n",
       "10              0               0               0               0   \n",
       "11              0               0               0               0   \n",
       "12              0               0               0               0   \n",
       "\n",
       "    tariff_id_1_5  tariff_id_1_6  tariff_id_1_7  tariff_id_1_9  \\\n",
       "4               0              0              0              0   \n",
       "7               0              0              0              0   \n",
       "10              0              0              0              0   \n",
       "11              0              0              0              0   \n",
       "12              0              1              0              0   \n",
       "\n",
       "    tariff_id_1_91  tariff_id_1_94  tariff_id_1_99  education_ACD  \\\n",
       "4                0               0               0              0   \n",
       "7                0               0               0              0   \n",
       "10               0               0               0              0   \n",
       "11               0               0               0              0   \n",
       "12               0               0               0              0   \n",
       "\n",
       "    education_GRD  education_PGR  education_SCH  education_UGR  \\\n",
       "4               0              0              1              0   \n",
       "7               1              0              0              0   \n",
       "10              0              0              1              0   \n",
       "11              0              0              0              0   \n",
       "12              0              0              1              0   \n",
       "\n",
       "    education_no_info  living_region_OTHER  living_region_no_info  \\\n",
       "4                   0                    0                      0   \n",
       "7                   0                    0                      0   \n",
       "10                  0                    0                      0   \n",
       "11                  1                    0                      0   \n",
       "12                  0                    0                      0   \n",
       "\n",
       "    living_region_АДЫГЕЯ  living_region_АЛТАЙ  living_region_АЛТАЙСКИЙ  \\\n",
       "4                      0                    0                        0   \n",
       "7                      0                    0                        0   \n",
       "10                     0                    0                        0   \n",
       "11                     0                    0                        0   \n",
       "12                     0                    0                        0   \n",
       "\n",
       "    living_region_АМУРСКАЯ  living_region_АРХАНГЕЛЬСКАЯ  \\\n",
       "4                        0                            0   \n",
       "7                        0                            0   \n",
       "10                       0                            0   \n",
       "11                       0                            0   \n",
       "12                       0                            1   \n",
       "\n",
       "    living_region_АСТРАХАНСКАЯ  living_region_БАШКОРТОСТАН  \\\n",
       "4                            0                           0   \n",
       "7                            0                           0   \n",
       "10                           0                           0   \n",
       "11                           0                           1   \n",
       "12                           0                           0   \n",
       "\n",
       "    living_region_БЕЛГОРОДСКАЯ  living_region_БРЯНСКАЯ  living_region_БУРЯТИЯ  \\\n",
       "4                            0                       0                      0   \n",
       "7                            0                       0                      0   \n",
       "10                           0                       0                      0   \n",
       "11                           0                       0                      0   \n",
       "12                           0                       0                      0   \n",
       "\n",
       "    living_region_ВЛАДИМИРСКАЯ  living_region_ВОЛГОГРАДСКАЯ  \\\n",
       "4                            0                            0   \n",
       "7                            0                            0   \n",
       "10                           0                            0   \n",
       "11                           0                            0   \n",
       "12                           0                            0   \n",
       "\n",
       "    living_region_ВОЛОГОДСКАЯ  living_region_ВОРОНЕЖСКАЯ  \\\n",
       "4                           0                          0   \n",
       "7                           0                          0   \n",
       "10                          0                          0   \n",
       "11                          0                          0   \n",
       "12                          0                          0   \n",
       "\n",
       "    living_region_ДАГЕСТАН  living_region_ЕВРЕЙСКАЯ  \\\n",
       "4                        0                        0   \n",
       "7                        0                        0   \n",
       "10                       0                        0   \n",
       "11                       0                        0   \n",
       "12                       0                        0   \n",
       "\n",
       "    living_region_ЗАБАЙКАЛЬСКИЙ  living_region_ИВАНОВСКАЯ  \\\n",
       "4                             0                         0   \n",
       "7                             0                         0   \n",
       "10                            0                         0   \n",
       "11                            0                         0   \n",
       "12                            0                         0   \n",
       "\n",
       "    living_region_ИРКУТСКАЯ  living_region_КАБАРДИНО-БАЛКАРСКАЯ  \\\n",
       "4                         0                                   0   \n",
       "7                         0                                   0   \n",
       "10                        0                                   0   \n",
       "11                        0                                   0   \n",
       "12                        0                                   0   \n",
       "\n",
       "    living_region_КАЛИНИНГРАДСКАЯ  living_region_КАЛМЫКИЯ  \\\n",
       "4                               0                       0   \n",
       "7                               0                       0   \n",
       "10                              0                       0   \n",
       "11                              0                       0   \n",
       "12                              0                       0   \n",
       "\n",
       "    living_region_КАЛУЖСКАЯ  living_region_КАМЧАТСКИЙ  \\\n",
       "4                         0                         0   \n",
       "7                         0                         0   \n",
       "10                        0                         0   \n",
       "11                        0                         0   \n",
       "12                        0                         0   \n",
       "\n",
       "    living_region_КАРАЧАЕВО-ЧЕРКЕССКАЯ  living_region_КАРЕЛИЯ  \\\n",
       "4                                    0                      0   \n",
       "7                                    0                      0   \n",
       "10                                   0                      0   \n",
       "11                                   0                      0   \n",
       "12                                   0                      0   \n",
       "\n",
       "    living_region_КЕМЕРОВСКАЯ  living_region_КИРОВСКАЯ  living_region_КОМИ  \\\n",
       "4                           0                        0                   0   \n",
       "7                           0                        0                   0   \n",
       "10                          0                        0                   0   \n",
       "11                          0                        0                   0   \n",
       "12                          0                        0                   0   \n",
       "\n",
       "    living_region_КОСТРОМСКАЯ  living_region_КРАСНОДАРСКИЙ  \\\n",
       "4                           0                            0   \n",
       "7                           0                            0   \n",
       "10                          0                            0   \n",
       "11                          0                            0   \n",
       "12                          0                            0   \n",
       "\n",
       "    living_region_КРАСНОЯРСКИЙ  living_region_КУРГАНСКАЯ  \\\n",
       "4                            0                         0   \n",
       "7                            0                         0   \n",
       "10                           0                         0   \n",
       "11                           0                         0   \n",
       "12                           0                         0   \n",
       "\n",
       "    living_region_КУРСКАЯ  living_region_ЛЕНИНГРАДСКАЯ  \\\n",
       "4                       0                            0   \n",
       "7                       0                            0   \n",
       "10                      0                            0   \n",
       "11                      0                            0   \n",
       "12                      0                            0   \n",
       "\n",
       "    living_region_ЛИПЕЦКАЯ  living_region_МАГАДАНСКАЯ  living_region_МАРИЙЭЛ  \\\n",
       "4                        0                          0                      0   \n",
       "7                        0                          0                      0   \n",
       "10                       0                          0                      0   \n",
       "11                       0                          0                      0   \n",
       "12                       0                          0                      0   \n",
       "\n",
       "    living_region_МОРДОВИЯ  living_region_МОСКВА  living_region_МОСКОВСКАЯ  \\\n",
       "4                        0                     0                         0   \n",
       "7                        0                     0                         1   \n",
       "10                       0                     0                         0   \n",
       "11                       0                     0                         0   \n",
       "12                       0                     0                         0   \n",
       "\n",
       "    living_region_МУРМАНСКАЯ  living_region_НЕНЕЦКИЙ  \\\n",
       "4                          0                       0   \n",
       "7                          0                       0   \n",
       "10                         0                       0   \n",
       "11                         0                       0   \n",
       "12                         0                       0   \n",
       "\n",
       "    living_region_НИЖЕГОРОДСКАЯ  living_region_НОВГОРОДСКАЯ  \\\n",
       "4                             0                           0   \n",
       "7                             0                           0   \n",
       "10                            0                           0   \n",
       "11                            0                           0   \n",
       "12                            0                           0   \n",
       "\n",
       "    living_region_НОВОСИБИРСКАЯ  living_region_ОМСКАЯ  \\\n",
       "4                             0                     0   \n",
       "7                             0                     0   \n",
       "10                            0                     0   \n",
       "11                            0                     0   \n",
       "12                            0                     0   \n",
       "\n",
       "    living_region_ОРЕНБУРГСКАЯ  living_region_ОРЛОВСКАЯ  \\\n",
       "4                            0                        0   \n",
       "7                            0                        0   \n",
       "10                           0                        0   \n",
       "11                           0                        0   \n",
       "12                           0                        0   \n",
       "\n",
       "    living_region_ПЕНЗЕНСКАЯ  living_region_ПЕРМСКИЙ  \\\n",
       "4                          0                       0   \n",
       "7                          0                       0   \n",
       "10                         0                       0   \n",
       "11                         0                       0   \n",
       "12                         0                       0   \n",
       "\n",
       "    living_region_ПРИМОРСКИЙ  living_region_ПСКОВСКАЯ  \\\n",
       "4                          0                        0   \n",
       "7                          0                        0   \n",
       "10                         0                        0   \n",
       "11                         0                        0   \n",
       "12                         0                        0   \n",
       "\n",
       "    living_region_РОСТОВСКАЯ  living_region_РЯЗАНСКАЯ  \\\n",
       "4                          0                        0   \n",
       "7                          0                        0   \n",
       "10                         0                        0   \n",
       "11                         0                        0   \n",
       "12                         0                        0   \n",
       "\n",
       "    living_region_САМАРСКАЯ  living_region_САНКТ-ПЕТЕРБУРГ  \\\n",
       "4                         0                              0   \n",
       "7                         0                              0   \n",
       "10                        0                              1   \n",
       "11                        0                              0   \n",
       "12                        0                              0   \n",
       "\n",
       "    living_region_САРАТОВСКАЯ  living_region_САХА/ЯКУТИЯ/  \\\n",
       "4                           0                           0   \n",
       "7                           0                           0   \n",
       "10                          0                           0   \n",
       "11                          0                           0   \n",
       "12                          0                           0   \n",
       "\n",
       "    living_region_САХАЛИНСКАЯ  living_region_СВЕРДЛОВСКАЯ  \\\n",
       "4                           0                           0   \n",
       "7                           0                           0   \n",
       "10                          0                           0   \n",
       "11                          0                           0   \n",
       "12                          0                           0   \n",
       "\n",
       "    living_region_СЕВЕРНАЯОСЕТИЯ-АЛАНИЯ  living_region_СМОЛЕНСКАЯ  \\\n",
       "4                                     0                         0   \n",
       "7                                     0                         0   \n",
       "10                                    0                         0   \n",
       "11                                    0                         0   \n",
       "12                                    0                         0   \n",
       "\n",
       "    living_region_СТАВРОПОЛЬСКИЙ  living_region_ТАМБОВСКАЯ  \\\n",
       "4                              0                         0   \n",
       "7                              0                         0   \n",
       "10                             0                         0   \n",
       "11                             0                         0   \n",
       "12                             0                         0   \n",
       "\n",
       "    living_region_ТАТАРСТАН  living_region_ТВЕРСКАЯ  living_region_ТОМСКАЯ  \\\n",
       "4                         0                       0                      0   \n",
       "7                         0                       0                      0   \n",
       "10                        0                       0                      0   \n",
       "11                        0                       0                      0   \n",
       "12                        0                       0                      0   \n",
       "\n",
       "    living_region_ТУЛЬСКАЯ  living_region_ТЫВА  living_region_ТЮМЕНСКАЯ  \\\n",
       "4                        0                   0                        0   \n",
       "7                        0                   0                        0   \n",
       "10                       0                   0                        0   \n",
       "11                       0                   0                        0   \n",
       "12                       0                   0                        0   \n",
       "\n",
       "    living_region_УДМУРТСКАЯ  living_region_УЛЬЯНОВСКАЯ  \\\n",
       "4                          0                          0   \n",
       "7                          0                          0   \n",
       "10                         0                          0   \n",
       "11                         0                          0   \n",
       "12                         0                          0   \n",
       "\n",
       "    living_region_ХАБАРОВСКИЙ  living_region_ХАКАСИЯ  \\\n",
       "4                           0                      0   \n",
       "7                           0                      0   \n",
       "10                          0                      0   \n",
       "11                          0                      0   \n",
       "12                          0                      0   \n",
       "\n",
       "    living_region_ХАНТЫ-МАНСИЙСКИЙ  living_region_ЧЕЛЯБИНСКАЯ  \\\n",
       "4                                0                          1   \n",
       "7                                0                          0   \n",
       "10                               0                          0   \n",
       "11                               0                          0   \n",
       "12                               0                          0   \n",
       "\n",
       "    living_region_ЧУВАШСКАЯ  living_region_ЯМАЛО-НЕНЕЦКИЙ  \\\n",
       "4                         0                             0   \n",
       "7                         0                             0   \n",
       "10                        0                             0   \n",
       "11                        0                             0   \n",
       "12                        0                             0   \n",
       "\n",
       "    living_region_ЯРОСЛАВСКАЯ  \n",
       "4                           0  \n",
       "7                           0  \n",
       "10                          0  \n",
       "11                          0  \n",
       "12                          0  "
      ]
     },
     "execution_count": 142,
     "metadata": {},
     "output_type": "execute_result"
    }
   ],
   "source": [
    "tink_df.head()"
   ]
  },
  {
   "cell_type": "markdown",
   "metadata": {},
   "source": [
    "# Используем подход UnderSampling и обучим RandomForest и LogisticRegression"
   ]
  },
  {
   "cell_type": "code",
   "execution_count": 143,
   "metadata": {},
   "outputs": [],
   "source": [
    "rus = RandomUnderSampler(random_state=0)"
   ]
  },
  {
   "cell_type": "code",
   "execution_count": null,
   "metadata": {},
   "outputs": [],
   "source": []
  },
  {
   "cell_type": "code",
   "execution_count": 144,
   "metadata": {},
   "outputs": [
    {
     "ename": "ValueError",
     "evalue": "Input contains NaN",
     "output_type": "error",
     "traceback": [
      "\u001b[1;31m---------------------------------------------------------------------------\u001b[0m",
      "\u001b[1;31mValueError\u001b[0m                                Traceback (most recent call last)",
      "\u001b[1;32m<ipython-input-144-f2a86a60a74c>\u001b[0m in \u001b[0;36m<module>\u001b[1;34m\u001b[0m\n\u001b[0;32m      1\u001b[0m \u001b[0mX\u001b[0m \u001b[1;33m=\u001b[0m \u001b[0mcr_df\u001b[0m\u001b[1;33m.\u001b[0m\u001b[0mdrop\u001b[0m\u001b[1;33m(\u001b[0m\u001b[1;34m'open_account_flg'\u001b[0m\u001b[1;33m,\u001b[0m \u001b[0maxis\u001b[0m \u001b[1;33m=\u001b[0m \u001b[1;36m1\u001b[0m\u001b[1;33m)\u001b[0m\u001b[1;33m.\u001b[0m\u001b[0mvalues\u001b[0m\u001b[1;33m\u001b[0m\u001b[1;33m\u001b[0m\u001b[0m\n\u001b[0;32m      2\u001b[0m \u001b[0my\u001b[0m \u001b[1;33m=\u001b[0m \u001b[0mcr_df\u001b[0m\u001b[1;33m[\u001b[0m\u001b[1;34m'open_account_flg'\u001b[0m\u001b[1;33m]\u001b[0m\u001b[1;33m.\u001b[0m\u001b[0mvalues\u001b[0m\u001b[1;33m\u001b[0m\u001b[1;33m\u001b[0m\u001b[0m\n\u001b[1;32m----> 3\u001b[1;33m \u001b[0mX_resampled\u001b[0m\u001b[1;33m,\u001b[0m \u001b[0my_resampled\u001b[0m \u001b[1;33m=\u001b[0m \u001b[0mrus\u001b[0m\u001b[1;33m.\u001b[0m\u001b[0mfit_sample\u001b[0m\u001b[1;33m(\u001b[0m\u001b[0mX\u001b[0m\u001b[1;33m,\u001b[0m \u001b[0my\u001b[0m\u001b[1;33m)\u001b[0m\u001b[1;33m\u001b[0m\u001b[1;33m\u001b[0m\u001b[0m\n\u001b[0m",
      "\u001b[1;32m~\\Anaconda3\\lib\\site-packages\\imblearn\\base.py\u001b[0m in \u001b[0;36mfit_resample\u001b[1;34m(self, X, y)\u001b[0m\n\u001b[0;32m     77\u001b[0m \u001b[1;33m\u001b[0m\u001b[0m\n\u001b[0;32m     78\u001b[0m         \u001b[0mcheck_classification_targets\u001b[0m\u001b[1;33m(\u001b[0m\u001b[0my\u001b[0m\u001b[1;33m)\u001b[0m\u001b[1;33m\u001b[0m\u001b[1;33m\u001b[0m\u001b[0m\n\u001b[1;32m---> 79\u001b[1;33m         \u001b[0mX\u001b[0m\u001b[1;33m,\u001b[0m \u001b[0my\u001b[0m\u001b[1;33m,\u001b[0m \u001b[0mbinarize_y\u001b[0m \u001b[1;33m=\u001b[0m \u001b[0mself\u001b[0m\u001b[1;33m.\u001b[0m\u001b[0m_check_X_y\u001b[0m\u001b[1;33m(\u001b[0m\u001b[0mX\u001b[0m\u001b[1;33m,\u001b[0m \u001b[0my\u001b[0m\u001b[1;33m)\u001b[0m\u001b[1;33m\u001b[0m\u001b[1;33m\u001b[0m\u001b[0m\n\u001b[0m\u001b[0;32m     80\u001b[0m \u001b[1;33m\u001b[0m\u001b[0m\n\u001b[0;32m     81\u001b[0m         self.sampling_strategy_ = check_sampling_strategy(\n",
      "\u001b[1;32m~\\Anaconda3\\lib\\site-packages\\imblearn\\under_sampling\\_prototype_selection\\_random_under_sampler.py\u001b[0m in \u001b[0;36m_check_X_y\u001b[1;34m(X, y)\u001b[0m\n\u001b[0;32m     99\u001b[0m     \u001b[1;32mdef\u001b[0m \u001b[0m_check_X_y\u001b[0m\u001b[1;33m(\u001b[0m\u001b[0mX\u001b[0m\u001b[1;33m,\u001b[0m \u001b[0my\u001b[0m\u001b[1;33m)\u001b[0m\u001b[1;33m:\u001b[0m\u001b[1;33m\u001b[0m\u001b[1;33m\u001b[0m\u001b[0m\n\u001b[0;32m    100\u001b[0m         \u001b[0my\u001b[0m\u001b[1;33m,\u001b[0m \u001b[0mbinarize_y\u001b[0m \u001b[1;33m=\u001b[0m \u001b[0mcheck_target_type\u001b[0m\u001b[1;33m(\u001b[0m\u001b[0my\u001b[0m\u001b[1;33m,\u001b[0m \u001b[0mindicate_one_vs_all\u001b[0m\u001b[1;33m=\u001b[0m\u001b[1;32mTrue\u001b[0m\u001b[1;33m)\u001b[0m\u001b[1;33m\u001b[0m\u001b[1;33m\u001b[0m\u001b[0m\n\u001b[1;32m--> 101\u001b[1;33m         \u001b[0mX\u001b[0m \u001b[1;33m=\u001b[0m \u001b[0mcheck_array\u001b[0m\u001b[1;33m(\u001b[0m\u001b[0mX\u001b[0m\u001b[1;33m,\u001b[0m \u001b[0maccept_sparse\u001b[0m\u001b[1;33m=\u001b[0m\u001b[1;33m[\u001b[0m\u001b[1;34m'csr'\u001b[0m\u001b[1;33m,\u001b[0m \u001b[1;34m'csc'\u001b[0m\u001b[1;33m]\u001b[0m\u001b[1;33m,\u001b[0m \u001b[0mdtype\u001b[0m\u001b[1;33m=\u001b[0m\u001b[1;32mNone\u001b[0m\u001b[1;33m)\u001b[0m\u001b[1;33m\u001b[0m\u001b[1;33m\u001b[0m\u001b[0m\n\u001b[0m\u001b[0;32m    102\u001b[0m         y = check_array(y, accept_sparse=['csr', 'csc'], dtype=None,\n\u001b[0;32m    103\u001b[0m                         ensure_2d=False)\n",
      "\u001b[1;32m~\\Anaconda3\\lib\\site-packages\\sklearn\\utils\\validation.py\u001b[0m in \u001b[0;36mcheck_array\u001b[1;34m(array, accept_sparse, accept_large_sparse, dtype, order, copy, force_all_finite, ensure_2d, allow_nd, ensure_min_samples, ensure_min_features, warn_on_dtype, estimator)\u001b[0m\n\u001b[0;32m    540\u001b[0m         \u001b[1;32mif\u001b[0m \u001b[0mforce_all_finite\u001b[0m\u001b[1;33m:\u001b[0m\u001b[1;33m\u001b[0m\u001b[1;33m\u001b[0m\u001b[0m\n\u001b[0;32m    541\u001b[0m             _assert_all_finite(array,\n\u001b[1;32m--> 542\u001b[1;33m                                allow_nan=force_all_finite == 'allow-nan')\n\u001b[0m\u001b[0;32m    543\u001b[0m \u001b[1;33m\u001b[0m\u001b[0m\n\u001b[0;32m    544\u001b[0m     \u001b[1;32mif\u001b[0m \u001b[0mensure_min_samples\u001b[0m \u001b[1;33m>\u001b[0m \u001b[1;36m0\u001b[0m\u001b[1;33m:\u001b[0m\u001b[1;33m\u001b[0m\u001b[1;33m\u001b[0m\u001b[0m\n",
      "\u001b[1;32m~\\Anaconda3\\lib\\site-packages\\sklearn\\utils\\validation.py\u001b[0m in \u001b[0;36m_assert_all_finite\u001b[1;34m(X, allow_nan)\u001b[0m\n\u001b[0;32m     58\u001b[0m     \u001b[1;32melif\u001b[0m \u001b[0mX\u001b[0m\u001b[1;33m.\u001b[0m\u001b[0mdtype\u001b[0m \u001b[1;33m==\u001b[0m \u001b[0mnp\u001b[0m\u001b[1;33m.\u001b[0m\u001b[0mdtype\u001b[0m\u001b[1;33m(\u001b[0m\u001b[1;34m'object'\u001b[0m\u001b[1;33m)\u001b[0m \u001b[1;32mand\u001b[0m \u001b[1;32mnot\u001b[0m \u001b[0mallow_nan\u001b[0m\u001b[1;33m:\u001b[0m\u001b[1;33m\u001b[0m\u001b[1;33m\u001b[0m\u001b[0m\n\u001b[0;32m     59\u001b[0m         \u001b[1;32mif\u001b[0m \u001b[0m_object_dtype_isnan\u001b[0m\u001b[1;33m(\u001b[0m\u001b[0mX\u001b[0m\u001b[1;33m)\u001b[0m\u001b[1;33m.\u001b[0m\u001b[0many\u001b[0m\u001b[1;33m(\u001b[0m\u001b[1;33m)\u001b[0m\u001b[1;33m:\u001b[0m\u001b[1;33m\u001b[0m\u001b[1;33m\u001b[0m\u001b[0m\n\u001b[1;32m---> 60\u001b[1;33m             \u001b[1;32mraise\u001b[0m \u001b[0mValueError\u001b[0m\u001b[1;33m(\u001b[0m\u001b[1;34m\"Input contains NaN\"\u001b[0m\u001b[1;33m)\u001b[0m\u001b[1;33m\u001b[0m\u001b[1;33m\u001b[0m\u001b[0m\n\u001b[0m\u001b[0;32m     61\u001b[0m \u001b[1;33m\u001b[0m\u001b[0m\n\u001b[0;32m     62\u001b[0m \u001b[1;33m\u001b[0m\u001b[0m\n",
      "\u001b[1;31mValueError\u001b[0m: Input contains NaN"
     ]
    }
   ],
   "source": [
    "X = cr_df.drop('open_account_flg', axis = 1).values\n",
    "y = cr_df['open_account_flg'].values\n",
    "X_resampled, y_resampled = rus.fit_sample(X, y)"
   ]
  },
  {
   "cell_type": "code",
   "execution_count": null,
   "metadata": {},
   "outputs": [],
   "source": [
    "X_train, X_test, y_train, y_test = train_test_split(X_resampled, y_resampled, test_size = 0.3, random_state = 42)"
   ]
  },
  {
   "cell_type": "markdown",
   "metadata": {},
   "source": [
    "# Logistic Regression"
   ]
  },
  {
   "cell_type": "code",
   "execution_count": null,
   "metadata": {},
   "outputs": [],
   "source": [
    "logreg = LogisticRegression()\n",
    "logreg.fit(X_train, y_train)"
   ]
  },
  {
   "cell_type": "code",
   "execution_count": null,
   "metadata": {},
   "outputs": [],
   "source": [
    "#Сформируем предсказания логистической регрессии\n",
    "logreg_pred = logreg.predict(X_test)\n",
    "#Оценим accuracy на обучабщей и тестовой выборке\n",
    "logreg_acc_train = logreg.score(X_train, y_train)\n",
    "logreg_acc_test = logreg.score(X_test, y_test)\n",
    "print(\"Logistic Regression accuracy on train:{:.3f}\".format(logreg_acc_train))\n",
    "print(\"Logistic Regression accuracy on test:{:.3f}\".format(logreg_acc_test))"
   ]
  },
  {
   "cell_type": "code",
   "execution_count": null,
   "metadata": {},
   "outputs": [],
   "source": [
    "#Посмотрим на precision & recall на Logistic Regression\n",
    "print(\"Precision on LogReg:{:.3f}\".format(precision_score(y_test, logreg_pred)))\n",
    "print(\"Recall on LogReg:{:.3f}\".format(recall_score(y_test, logreg_pred)))"
   ]
  },
  {
   "cell_type": "markdown",
   "metadata": {},
   "source": [
    "## Подбор параметров логистической регрессии на отмасштабированном датасете"
   ]
  },
  {
   "cell_type": "code",
   "execution_count": null,
   "metadata": {},
   "outputs": [],
   "source": [
    "LogisticRegression?"
   ]
  },
  {
   "cell_type": "code",
   "execution_count": null,
   "metadata": {},
   "outputs": [],
   "source": [
    "logreg_param = {\"penalty\":['l1', 'l2'],\n",
    "                \"solver\": ['liblinear', 'newton-cg', 'sag', 'lbfgs']}"
   ]
  },
  {
   "cell_type": "code",
   "execution_count": null,
   "metadata": {},
   "outputs": [],
   "source": [
    "lr = LogisticRegression()\n",
    "lr_grids = GridSearchCV(estimator=lr, param_grid=logreg_param)\n",
    "lr_grids.fit(X2_train, y2_train)"
   ]
  },
  {
   "cell_type": "code",
   "execution_count": null,
   "metadata": {},
   "outputs": [],
   "source": [
    "lr_grids.best_params_"
   ]
  },
  {
   "cell_type": "code",
   "execution_count": null,
   "metadata": {},
   "outputs": [],
   "source": [
    "#Сформируем предсказания логистической регрессии\n",
    "lr_grids_pred = lr_grids.predict(X2_test)\n",
    "#Оценим accuracy на обучабщей и тестовой выборке\n",
    "lr_grids_acc_train = lr_grids.score(X2_train, y2_train)\n",
    "lr_grids_acc_test = lr_grids.score(X2_test, y2_test)\n",
    "print(\"Logistic Regression accuracy on train:{:.3f}\".format(lr_grids_acc_train))\n",
    "print(\"Logistic Regression accuracy on test:{:.3f}\".format(lr_grids_acc_test))"
   ]
  },
  {
   "cell_type": "markdown",
   "metadata": {},
   "source": [
    "## Попробуем применить StandartScaler а не MinMax"
   ]
  },
  {
   "cell_type": "code",
   "execution_count": null,
   "metadata": {},
   "outputs": [],
   "source": [
    "stsc = StandardScaler()\n",
    "cr_df_new = cr_df.drop('open_account_flg', axis = 1)\n",
    "stsc_df = pd.DataFrame(stsc.fit_transform(cr_df_new), index = cr_df_new.index, columns = cr_df_new.columns)"
   ]
  },
  {
   "cell_type": "code",
   "execution_count": null,
   "metadata": {
    "scrolled": true
   },
   "outputs": [],
   "source": [
    "stsc_df.head()"
   ]
  },
  {
   "cell_type": "code",
   "execution_count": null,
   "metadata": {},
   "outputs": [],
   "source": [
    "X3 = stsc_df.values\n",
    "y3 = cr_df['open_account_flg'].values\n",
    "X3_resampled, y3_resampled = rus.fit_sample(X3, y3)\n",
    "X3_train, X3_test, y3_train, y3_test = train_test_split(X3_resampled, y3_resampled, test_size = 0.3, random_state = 42)"
   ]
  },
  {
   "cell_type": "code",
   "execution_count": null,
   "metadata": {},
   "outputs": [],
   "source": [
    "lr_new - L"
   ]
  },
  {
   "cell_type": "code",
   "execution_count": null,
   "metadata": {},
   "outputs": [],
   "source": [
    "lr.fit(X3_train, y3_train)"
   ]
  },
  {
   "cell_type": "code",
   "execution_count": null,
   "metadata": {},
   "outputs": [],
   "source": [
    "print(\"Logistic Regression accuracy on train:{:.3f}\".format(lr.score(X3_train, y3_train)))\n",
    "print(\"Logistic Regression accuracy on test:{:.3f}\".format(lr.score(X3_test, y3_test)))"
   ]
  },
  {
   "cell_type": "code",
   "execution_count": null,
   "metadata": {},
   "outputs": [],
   "source": []
  },
  {
   "cell_type": "markdown",
   "metadata": {},
   "source": [
    "# Random Forest"
   ]
  },
  {
   "cell_type": "code",
   "execution_count": null,
   "metadata": {},
   "outputs": [],
   "source": [
    "forest = RandomForestClassifier(n_estimators = 800, max_depth=17, random_state=152, n_jobs=-1, oob_score=True)\n",
    "forest.fit(X_train, y_train)\n",
    "#Предскажем метки классов с помощью алгоритма случайного леса\n",
    "y_forest_pred = forest.predict(X_test)\n",
    "#Посчитаем accuracy на обучающей и тестовой выборке\n",
    "acc_forest_train = forest.score(X_train, y_train)\n",
    "acc_forest_test = forest.score(X_test, y_test)\n",
    "print(\"Accuracy RandomForest на обучающей выборке:{:.3f}\".format(acc_forest_train))\n",
    "print(\"Accuracy RandomForest на тестовой выборке:{:.3f}\".format(acc_forest_test))\n",
    "#Посмотрим на точность и полноту RandomForest\n",
    "from sklearn.metrics import precision_score, recall_score\n",
    "print(\"Precision RandomForest:{}\".format(precision_score(list(y_test), list(y_forest_pred))))\n",
    "print(\"Recall RandomForest:{}\".format(recall_score(list(y_test), list(y_forest_pred))))"
   ]
  },
  {
   "cell_type": "code",
   "execution_count": null,
   "metadata": {},
   "outputs": [],
   "source": [
    "y_scores = forest.predict_proba(X_test)\n",
    "y_scores = y_scores[:,1]\n",
    "precision, recall, threshold = precision_recall_curve(y_test, y_scores)\n",
    "def plot_precision_and_recall(precision, recall, threshold):\n",
    "    plt.plot(threshold, precision[:-1], \"r-\", label=\"precision\", linewidth=5)\n",
    "    plt.plot(threshold, recall[:-1], \"b\", label=\"recall\", linewidth=5)\n",
    "    plt.xlabel(\"threshold\", fontsize=19)\n",
    "    plt.legend(loc=\"upper right\", fontsize=19)\n",
    "    plt.ylim([0, 1])\n",
    "\n",
    "plt.figure(figsize=(14, 7))\n",
    "plot_precision_and_recall(precision, recall, threshold)\n",
    "plt.show()"
   ]
  },
  {
   "cell_type": "code",
   "execution_count": null,
   "metadata": {},
   "outputs": [],
   "source": [
    "def plot_precision_vs_recall(precision, recall):\n",
    "    plt.plot(recall, precision, \"g--\", linewidth=2.5)\n",
    "    plt.ylabel(\"recall\", fontsize=19)\n",
    "    plt.xlabel(\"precision\", fontsize=19)\n",
    "    plt.axis([0, 1.5, 0, 1.5])\n",
    "\n",
    "plt.figure(figsize=(14, 7))\n",
    "plot_precision_vs_recall(precision, recall)\n",
    "plt.show()"
   ]
  },
  {
   "cell_type": "code",
   "execution_count": null,
   "metadata": {},
   "outputs": [],
   "source": [
    "# compute true positive rate and false positive rate\n",
    "false_positive_rate, true_positive_rate, thresholds = roc_curve(y_test, y_scores)\n",
    "# plotting them against each other\n",
    "def plot_roc_curve(false_positive_rate, true_positive_rate, label=None):\n",
    "    plt.plot(false_positive_rate, true_positive_rate, linewidth=2, label=label)\n",
    "    plt.plot([0, 1], [0, 1], 'r', linewidth=4)\n",
    "    plt.axis([0, 1, 0, 1])\n",
    "    plt.xlabel('False Positive Rate (FPR)', fontsize=16)\n",
    "    plt.ylabel('True Positive Rate (TPR)', fontsize=16)\n",
    "\n",
    "plt.figure(figsize=(14, 7))\n",
    "plot_roc_curve(false_positive_rate, true_positive_rate)\n",
    "plt.show()"
   ]
  },
  {
   "cell_type": "code",
   "execution_count": null,
   "metadata": {},
   "outputs": [],
   "source": [
    "false_positive_rate.shape"
   ]
  },
  {
   "cell_type": "code",
   "execution_count": null,
   "metadata": {},
   "outputs": [],
   "source": [
    "true_positive_rate.shape"
   ]
  },
  {
   "cell_type": "code",
   "execution_count": null,
   "metadata": {},
   "outputs": [],
   "source": [
    "print(\"AUC на обучающей выборке:{:.2f}\".format(\n",
    "    roc_auc_score(y_train, forest.predict_proba(X_train)[:, 1])))\n",
    "print(\"AUC на тестовой выборке:{:.2f}\".format(\n",
    "    roc_auc_score(y_test, forest.predict_proba(X_test)[:, 1])))"
   ]
  },
  {
   "cell_type": "markdown",
   "metadata": {},
   "source": [
    "# Измерение качества на кросс-валидации"
   ]
  },
  {
   "cell_type": "code",
   "execution_count": null,
   "metadata": {},
   "outputs": [],
   "source": [
    "cv_train_scores = cross_val_score(forest, X_train, y_train, cv=5, scoring = 'accuracy')\n",
    "print(\"Scores:\", cv_train_scores)\n",
    "print(\"Mean:\", cv_train_scores.mean())\n",
    "print(\"Standard Deviation:\", cv_train_scores.std())"
   ]
  },
  {
   "cell_type": "code",
   "execution_count": null,
   "metadata": {},
   "outputs": [],
   "source": [
    "cv_train_scores = cross_val_score(forest, X_test, y_test, cv=5, scoring = 'accuracy')\n",
    "print(\"Scores:\", cv_train_scores)\n",
    "print(\"Mean:\", cv_train_scores.mean())\n",
    "print(\"Standard Deviation:\", cv_train_scores.std())"
   ]
  },
  {
   "cell_type": "markdown",
   "metadata": {},
   "source": [
    "# Отмасштабируем данные и посмотрим как изменится качетсво"
   ]
  },
  {
   "cell_type": "code",
   "execution_count": null,
   "metadata": {},
   "outputs": [],
   "source": [
    "mmsc = MinMaxScaler()\n",
    "mmsc_df = pd.DataFrame(mmsc.fit_transform(cr_df), index = cr_df.index, columns = cr_df.columns)"
   ]
  },
  {
   "cell_type": "code",
   "execution_count": null,
   "metadata": {},
   "outputs": [],
   "source": [
    "mmsc_df.head()"
   ]
  },
  {
   "cell_type": "code",
   "execution_count": null,
   "metadata": {},
   "outputs": [],
   "source": [
    "X2 = mmsc_df.drop('open_account_flg', axis = 1).values\n",
    "y2 = mmsc_df['open_account_flg'].values\n",
    "X2_resampled, y2_resampled = rus.fit_sample(X2, y2)\n",
    "X2_train, X2_test, y2_train, y2_test = train_test_split(X2_resampled, y2_resampled, test_size = 0.3, random_state = 42)"
   ]
  },
  {
   "cell_type": "code",
   "execution_count": null,
   "metadata": {},
   "outputs": [],
   "source": [
    "#Обучим логистическую регрессию на отмасштабированном датафрейме и посмотрим как изменилось качество \n",
    "logreg.fit(X2_train, y2_train)"
   ]
  },
  {
   "cell_type": "code",
   "execution_count": 145,
   "metadata": {},
   "outputs": [
    {
     "ename": "NameError",
     "evalue": "name 'logreg' is not defined",
     "output_type": "error",
     "traceback": [
      "\u001b[1;31m---------------------------------------------------------------------------\u001b[0m",
      "\u001b[1;31mNameError\u001b[0m                                 Traceback (most recent call last)",
      "\u001b[1;32m<ipython-input-145-b6273d9d2034>\u001b[0m in \u001b[0;36m<module>\u001b[1;34m\u001b[0m\n\u001b[0;32m      1\u001b[0m \u001b[1;31m#Сформируем предсказания логистической регрессии\u001b[0m\u001b[1;33m\u001b[0m\u001b[1;33m\u001b[0m\u001b[1;33m\u001b[0m\u001b[0m\n\u001b[1;32m----> 2\u001b[1;33m \u001b[0mlogreg2_pred\u001b[0m \u001b[1;33m=\u001b[0m \u001b[0mlogreg\u001b[0m\u001b[1;33m.\u001b[0m\u001b[0mpredict\u001b[0m\u001b[1;33m(\u001b[0m\u001b[0mX2_test\u001b[0m\u001b[1;33m)\u001b[0m\u001b[1;33m\u001b[0m\u001b[1;33m\u001b[0m\u001b[0m\n\u001b[0m\u001b[0;32m      3\u001b[0m \u001b[1;31m#Оценим accuracy на обучабщей и тестовой выборке\u001b[0m\u001b[1;33m\u001b[0m\u001b[1;33m\u001b[0m\u001b[1;33m\u001b[0m\u001b[0m\n\u001b[0;32m      4\u001b[0m \u001b[0mlogreg2_acc_train\u001b[0m \u001b[1;33m=\u001b[0m \u001b[0mlogreg\u001b[0m\u001b[1;33m.\u001b[0m\u001b[0mscore\u001b[0m\u001b[1;33m(\u001b[0m\u001b[0mX2_train\u001b[0m\u001b[1;33m,\u001b[0m \u001b[0my2_train\u001b[0m\u001b[1;33m)\u001b[0m\u001b[1;33m\u001b[0m\u001b[1;33m\u001b[0m\u001b[0m\n\u001b[0;32m      5\u001b[0m \u001b[0mlogreg2_acc_test\u001b[0m \u001b[1;33m=\u001b[0m \u001b[0mlogreg\u001b[0m\u001b[1;33m.\u001b[0m\u001b[0mscore\u001b[0m\u001b[1;33m(\u001b[0m\u001b[0mX2_test\u001b[0m\u001b[1;33m,\u001b[0m \u001b[0my2_test\u001b[0m\u001b[1;33m)\u001b[0m\u001b[1;33m\u001b[0m\u001b[1;33m\u001b[0m\u001b[0m\n",
      "\u001b[1;31mNameError\u001b[0m: name 'logreg' is not defined"
     ]
    }
   ],
   "source": [
    "#Сформируем предсказания логистической регрессии\n",
    "logreg2_pred = logreg.predict(X2_test)\n",
    "#Оценим accuracy на обучабщей и тестовой выборке\n",
    "logreg2_acc_train = logreg.score(X2_train, y2_train)\n",
    "logreg2_acc_test = logreg.score(X2_test, y2_test)\n",
    "print(\"Logistic Regression accuracy on train:{:.3f}\".format(logreg2_acc_train))\n",
    "print(\"Logistic Regression accuracy on test:{:.3f}\".format(logreg2_acc_test))"
   ]
  },
  {
   "cell_type": "code",
   "execution_count": null,
   "metadata": {},
   "outputs": [],
   "source": [
    "#После того, как было проведено масштабирование датафрейма с помощью MinMaxScaler \n",
    "#качество на логистической регрессии повысилось.\n",
    "\n",
    "#Давайте сформируем табличку чтобы наглядно это увидеть\n",
    "results = pd.DataFrame({\n",
    "    'Model': ['Logistic Regression', 'Logistic Regression on MinMax df'],\n",
    "    'Score on test': [logreg_acc_test, logreg2_acc_test]})\n",
    "#Отсортируем результаты по убыванию, для этого установим параметр \"возрастание\" в значение False\n",
    "result_df = results.sort_values(by='Score on test', ascending=False)\n",
    "#Установим в качестве индекса значение скора модели\n",
    "result_df = result_df.set_index('Score on test')\n",
    "result_df"
   ]
  },
  {
   "cell_type": "markdown",
   "metadata": {},
   "source": [
    "## Проверим изменится ли качество у RandomForest после масштабирования"
   ]
  },
  {
   "cell_type": "code",
   "execution_count": null,
   "metadata": {},
   "outputs": [],
   "source": [
    "forest.fit(X2_train, y2_train)\n",
    "#Предскажем метки классов с помощью алгоритма случайного леса\n",
    "y_forest2_pred = forest.predict(X2_test)\n",
    "#Посчитаем accuracy на обучающей и тестовой выборке\n",
    "acc_forest2_train = forest.score(X2_train, y2_train)\n",
    "acc_forest2_test = forest.score(X2_test, y2_test)\n",
    "print(\"Accuracy RandomForest2 на обучающей выборке:{:.3f}\".format(acc_forest2_train))\n",
    "print(\"Accuracy RandomForest2 на тестовой выборке:{:.3f}\".format(acc_forest2_test))\n",
    "#Посмотрим на точность и полноту RandomForest\n",
    "from sklearn.metrics import precision_score, recall_score\n",
    "Forest2_precision = precision_score(list(y2_test), list(y_forest2_pred))\n",
    "Forest2_recall = recall_score(list(y2_test), list(y_forest2_pred))\n",
    "print(\"Precision RandomForest2:{}\".format(precision_score(list(y2_test), list(y_forest2_pred))))\n",
    "print(\"Recall RandomForest2:{}\".format(recall_score(list(y2_test), list(y_forest2_pred))))"
   ]
  },
  {
   "cell_type": "code",
   "execution_count": null,
   "metadata": {},
   "outputs": [],
   "source": [
    "Forest_precision = precision_score(list(y_test), list(y_forest_pred))\n",
    "Forest_recall = recall_score(list(y_test), list(y_forest_pred))"
   ]
  },
  {
   "cell_type": "code",
   "execution_count": null,
   "metadata": {},
   "outputs": [],
   "source": [
    "#Видно что масштабирование никак не повлияло на работу RandomForest, даже немного ухудшило\n",
    "results = pd.DataFrame({\n",
    "    'Model': ['Forest', 'Forest2 on MinMax df'],\n",
    "    'Precision': [Forest_precision, Forest2_precision],\n",
    "    'Recall': [Forest_recall, Forest2_recall]})\n",
    "results.set_index('Model')"
   ]
  },
  {
   "cell_type": "markdown",
   "metadata": {},
   "source": [
    "# Дерево решений"
   ]
  },
  {
   "cell_type": "code",
   "execution_count": null,
   "metadata": {},
   "outputs": [],
   "source": [
    "param_tree = { \"criterion\" : [\"gini\", \"entropy\"], \\\n",
    "              \"max_depth\":[4,5,8,9,10],\n",
    "              \"min_samples_leaf\": [1,5,10,15,25,30],\n",
    "              \"min_samples_split\": [2, 4, 10, 12, 16, 18]}"
   ]
  },
  {
   "cell_type": "code",
   "execution_count": null,
   "metadata": {},
   "outputs": [],
   "source": [
    "tree = DecisionTreeClassifier()\n",
    "tree_gridsearch = GridSearchCV(estimator=tree, param_grid = param_tree)\n",
    "tree_gridsearch.fit(X_train, y_train)"
   ]
  },
  {
   "cell_type": "code",
   "execution_count": null,
   "metadata": {},
   "outputs": [],
   "source": [
    "tree_gridsearch.best_params_"
   ]
  },
  {
   "cell_type": "code",
   "execution_count": null,
   "metadata": {
    "scrolled": false
   },
   "outputs": [],
   "source": [
    "tree_pred = tree_gridsearch.predict(X_test)\n",
    "print(\"Accuracy on Decision tree train:{:.3f}\".format(tree_gridsearch.score(X_train, y_train)))\n",
    "print(\"Accuracy on Decision tree test:{:.3f}\".format(tree_gridsearch.score(X_test, y_test)))\n",
    "print(\"Precision Decision tree:{:.3f}\".format(precision_score(y_test, tree_pred)))\n",
    "print(\"Recall Decision tree:{:.3f}\".format(recall_score(y_test, tree_pred)))\n",
    "print(\"Confusion matrix:\\n{}\".format(confusion_matrix(y_test, tree_pred)))"
   ]
  },
  {
   "cell_type": "code",
   "execution_count": null,
   "metadata": {},
   "outputs": [],
   "source": []
  },
  {
   "cell_type": "markdown",
   "metadata": {},
   "source": [
    "# Реализуем поиск гипермараметров RandomForest"
   ]
  },
  {
   "cell_type": "code",
   "execution_count": null,
   "metadata": {},
   "outputs": [],
   "source": [
    "#Опишем возможные значения гиперпараметров модели случайного леса\n",
    "param_grid = { \"criterion\" : [\"gini\", \"entropy\"], \\\n",
    "              \"min_samples_leaf\" : [1, 5, 10, 25, 50, 70], \\\n",
    "              \"min_samples_split\" : [2, 4, 10, 12, 16, 18, 25, 35], \\\n",
    "              \"n_estimators\": [100, 200, 400, 600, 800, 1000]}\n",
    "#Инициализируем лес\n",
    "rf = RandomForestClassifier()\n"
   ]
  },
  {
   "cell_type": "code",
   "execution_count": null,
   "metadata": {},
   "outputs": [],
   "source": [
    "grids_rf = GridSearchCV(estimator=rf, param_grid=param_grid, n_jobs=-1, cv=5)\n",
    "grids_rf.fit(X_train, y_train)"
   ]
  },
  {
   "cell_type": "code",
   "execution_count": null,
   "metadata": {},
   "outputs": [],
   "source": []
  },
  {
   "cell_type": "code",
   "execution_count": null,
   "metadata": {},
   "outputs": [],
   "source": []
  },
  {
   "cell_type": "code",
   "execution_count": null,
   "metadata": {},
   "outputs": [],
   "source": []
  },
  {
   "cell_type": "code",
   "execution_count": null,
   "metadata": {},
   "outputs": [],
   "source": []
  },
  {
   "cell_type": "code",
   "execution_count": null,
   "metadata": {},
   "outputs": [],
   "source": []
  },
  {
   "cell_type": "code",
   "execution_count": null,
   "metadata": {},
   "outputs": [],
   "source": []
  },
  {
   "cell_type": "code",
   "execution_count": null,
   "metadata": {},
   "outputs": [],
   "source": []
  },
  {
   "cell_type": "code",
   "execution_count": null,
   "metadata": {},
   "outputs": [],
   "source": [
    "first_class = cr_df[cr_df['open_account_flg']==1]"
   ]
  },
  {
   "cell_type": "code",
   "execution_count": null,
   "metadata": {},
   "outputs": [],
   "source": [
    "zero_class = cr_df[cr_df['open_account_flg']==0]"
   ]
  },
  {
   "cell_type": "code",
   "execution_count": null,
   "metadata": {},
   "outputs": [],
   "source": [
    "cr_df.pivot_table('client_id', 'open_account_flg', 'count')"
   ]
  },
  {
   "cell_type": "code",
   "execution_count": null,
   "metadata": {},
   "outputs": [],
   "source": [
    "cr_df = shuffle(cr_df)"
   ]
  },
  {
   "cell_type": "code",
   "execution_count": null,
   "metadata": {},
   "outputs": [],
   "source": [
    "cr_df.head(10)"
   ]
  },
  {
   "cell_type": "code",
   "execution_count": null,
   "metadata": {},
   "outputs": [],
   "source": [
    "#Вернемся к исходному датафрейму cr_df\n",
    "cr_df = dummies_cr_df2"
   ]
  },
  {
   "cell_type": "code",
   "execution_count": null,
   "metadata": {},
   "outputs": [],
   "source": [
    "cr_df.head()"
   ]
  },
  {
   "cell_type": "code",
   "execution_count": null,
   "metadata": {},
   "outputs": [],
   "source": [
    "X = cr_df.drop('open_account_flg', axis = 1)\n",
    "y = cr_df['open_account_flg']"
   ]
  },
  {
   "cell_type": "code",
   "execution_count": null,
   "metadata": {},
   "outputs": [],
   "source": [
    "X_train, X_test, y_train, y_test = train_test_split(X, y, test_size = 0.3, random_state = 42)"
   ]
  },
  {
   "cell_type": "code",
   "execution_count": null,
   "metadata": {},
   "outputs": [],
   "source": [
    "X_train.head()"
   ]
  },
  {
   "cell_type": "code",
   "execution_count": null,
   "metadata": {},
   "outputs": [],
   "source": [
    "y_train.head()"
   ]
  },
  {
   "cell_type": "code",
   "execution_count": null,
   "metadata": {},
   "outputs": [],
   "source": [
    "for i in y_train:\n",
    "    if i ==1:\n",
    "     print('!!!')"
   ]
  },
  {
   "cell_type": "markdown",
   "metadata": {},
   "source": [
    "# Random Forest Classifier"
   ]
  },
  {
   "cell_type": "code",
   "execution_count": null,
   "metadata": {},
   "outputs": [],
   "source": [
    "forest = RandomForestClassifier(n_estimators = 800, max_depth=17, random_state=152, n_jobs=-1, oob_score=True)\n",
    "forest.fit(X_train, y_train)"
   ]
  },
  {
   "cell_type": "code",
   "execution_count": null,
   "metadata": {},
   "outputs": [],
   "source": []
  },
  {
   "cell_type": "code",
   "execution_count": null,
   "metadata": {},
   "outputs": [],
   "source": [
    "#Предскажем метки классов с помощью алгоритма случайного леса\n",
    "y_forest_pred = forest.predict(X_test)\n",
    "#Посчитаем accuracy на обучающей и тестовой выборке\n",
    "acc_forest_train = forest.score(X_train, y_train)\n",
    "acc_forest_test = forest.score(X_test, y_test)\n",
    "print(\"Accuracy RandomForest на обучающей выборке:{:.3f}\".format(acc_forest_train))\n",
    "print(\"Accuracy RandomForest на тестовой выборке:{:.3f}\".format(acc_forest_test))"
   ]
  },
  {
   "cell_type": "code",
   "execution_count": null,
   "metadata": {},
   "outputs": [],
   "source": [
    "#Посмотрим на точность и полноту RandomForest\n",
    "from sklearn.metrics import precision_score, recall_score\n",
    "print(\"Precision RandomForest:{}\".format(precision_score(list(y_test), list(y_forest_pred))))\n",
    "print(\"Recall RandomForest:{}\".format(recall_score(list(y_test), list(y_forest_pred))))"
   ]
  },
  {
   "cell_type": "code",
   "execution_count": null,
   "metadata": {},
   "outputs": [],
   "source": [
    "print(\"AUC на обучающей выборке:{:.2f}\".format(\n",
    "    roc_auc_score(y_train, forest.predict_proba(X_train)[:, 1])))\n",
    "print(\"AUC на тестовой выборке:{:.2f}\".format(\n",
    "    roc_auc_score(y_test, forest.predict_proba(X_test)[:, 1])))"
   ]
  },
  {
   "cell_type": "code",
   "execution_count": null,
   "metadata": {},
   "outputs": [],
   "source": [
    "type(y_test)"
   ]
  },
  {
   "cell_type": "code",
   "execution_count": null,
   "metadata": {},
   "outputs": [],
   "source": [
    "0 in y_forest_pred"
   ]
  },
  {
   "cell_type": "markdown",
   "metadata": {},
   "source": [
    "# Logistic Regression"
   ]
  },
  {
   "cell_type": "code",
   "execution_count": null,
   "metadata": {},
   "outputs": [],
   "source": [
    "logreg = LogisticRegression()\n",
    "logreg.fit(X_train, y_train)"
   ]
  },
  {
   "cell_type": "code",
   "execution_count": null,
   "metadata": {},
   "outputs": [],
   "source": [
    "#Сформируем предсказания логистической регрессии\n",
    "logreg_pred = logreg.predict(X_test)\n",
    "#Оценим accuracy на обучабщей и тестовой выборке\n",
    "logreg_acc_train = logreg.score(X_train, y_train)\n",
    "logreg_acc_test = logreg.score(X_test, y_test)\n",
    "print(\"Logistic Regression accuracy on train:{:.3f}\".format(logreg_acc_train))\n",
    "print(\"Logistic Regression accuracy on test:{:.3f}\".format(logreg_acc_test))"
   ]
  },
  {
   "cell_type": "code",
   "execution_count": null,
   "metadata": {},
   "outputs": [],
   "source": [
    "#Посмотрим на precision & recall на Logistic Regression\n",
    "print(\"Precision on LogReg:{:.3f}\".format(precision_score(y_test, logreg_pred)))\n",
    "print(\"Recall on LogReg:{:.3f}\".format(recall_score(y_test, logreg_pred)))"
   ]
  },
  {
   "cell_type": "code",
   "execution_count": null,
   "metadata": {},
   "outputs": [],
   "source": [
    "print('AUC logreg на обучающей выборке:{:.4f}'.format(roc_auc_score(y_train, logreg.predict_proba(X_train)[:,1])))\n",
    "print('AUC logreg на контрольной выборке:{:.4f}'.format(roc_auc_score(y_test, logreg.predict_proba(X_test)[:,1])))"
   ]
  },
  {
   "cell_type": "markdown",
   "metadata": {},
   "source": [
    "## Масштабирование данных с помощью MinMaxScaler"
   ]
  },
  {
   "cell_type": "code",
   "execution_count": null,
   "metadata": {},
   "outputs": [],
   "source": [
    "#Отмасштабируем данные с помощью MibMaxScaler и Standart Scaler, после чего оценим как изменилось качество.\n",
    "mmsc = MinMaxScaler()\n",
    "mmsc_df = pd.DataFrame(mmsc.fit_transform(cr_df), index = cr_df.index, columns = cr_df.columns)"
   ]
  },
  {
   "cell_type": "code",
   "execution_count": null,
   "metadata": {},
   "outputs": [],
   "source": [
    "mmsc_df.head()"
   ]
  },
  {
   "cell_type": "code",
   "execution_count": null,
   "metadata": {},
   "outputs": [],
   "source": [
    "mmsc_df_X = mmsc_df.drop('open_account_flg', axis = 1)\n",
    "mmsc_df_y = mmsc_df['open_account_flg']"
   ]
  },
  {
   "cell_type": "code",
   "execution_count": null,
   "metadata": {},
   "outputs": [],
   "source": [
    "mmsc_df_X.head()"
   ]
  },
  {
   "cell_type": "code",
   "execution_count": null,
   "metadata": {},
   "outputs": [],
   "source": [
    "X2_train, X2_test, y2_train, y2_test = train_test_split(mmsc_df_X, mmsc_df_y, test_size =0.3, random_state = 42)"
   ]
  },
  {
   "cell_type": "code",
   "execution_count": null,
   "metadata": {},
   "outputs": [],
   "source": [
    "logreg.fit(X2_train, y2_train)"
   ]
  },
  {
   "cell_type": "code",
   "execution_count": null,
   "metadata": {},
   "outputs": [],
   "source": [
    "#После масштабирования данных результат логистической регрессии на контрольной выборке повысился\n",
    "print('AUC logreg на обучающей выборке:{:.4f}'.format(roc_auc_score(y2_train, logreg.predict_proba(X2_train)[:,1])))\n",
    "print('AUC logreg на контрольной выборке:{:.4f}'.format(roc_auc_score(y2_test, logreg.predict_proba(X2_test)[:,1])))"
   ]
  },
  {
   "cell_type": "code",
   "execution_count": null,
   "metadata": {},
   "outputs": [],
   "source": [
    "#Посмотрим на результат RandomForestClassifier \n",
    "forest.fit(X2_train, y2_train)"
   ]
  },
  {
   "cell_type": "code",
   "execution_count": null,
   "metadata": {},
   "outputs": [],
   "source": [
    "print(\"AUC на обучающей выборке:{:.2f}\".format(\n",
    "    roc_auc_score(y2_train, forest.predict_proba(X2_train)[:, 1])))\n",
    "print(\"AUC на тестовой выборке:{:.2f}\".format(\n",
    "    roc_auc_score(y2_test, forest.predict_proba(X2_test)[:, 1])))"
   ]
  },
  {
   "cell_type": "code",
   "execution_count": null,
   "metadata": {},
   "outputs": [],
   "source": []
  },
  {
   "cell_type": "markdown",
   "metadata": {},
   "source": [
    "## Масштабирование данных с помощью StandartScaler"
   ]
  },
  {
   "cell_type": "code",
   "execution_count": null,
   "metadata": {},
   "outputs": [],
   "source": [
    "stsc = StandardScaler()\n",
    "stsc_df = pd.DataFrame(stsc.fit_transform(cr_df), index = cr_df.index, columns = cr_df.columns)"
   ]
  },
  {
   "cell_type": "code",
   "execution_count": null,
   "metadata": {},
   "outputs": [],
   "source": [
    "stsc_X = stsc_df.drop('open_account_flg', axis = 1)\n",
    "stsc_y = stsc_df['open_account_flg']\n",
    "X3_train, X3_test, y3_train, y3_test = train_test_split(stsc_X, stsc_y, test_size = 0.3, random_state =42)"
   ]
  },
  {
   "cell_type": "code",
   "execution_count": null,
   "metadata": {},
   "outputs": [],
   "source": [
    "logreg.fit(X3_train, y3_train)\n"
   ]
  },
  {
   "cell_type": "code",
   "execution_count": null,
   "metadata": {},
   "outputs": [],
   "source": []
  },
  {
   "cell_type": "code",
   "execution_count": null,
   "metadata": {},
   "outputs": [],
   "source": []
  },
  {
   "cell_type": "code",
   "execution_count": null,
   "metadata": {},
   "outputs": [],
   "source": []
  },
  {
   "cell_type": "code",
   "execution_count": null,
   "metadata": {},
   "outputs": [],
   "source": []
  },
  {
   "cell_type": "code",
   "execution_count": null,
   "metadata": {},
   "outputs": [],
   "source": [
    "df4_numeric = df4.drop(['gender', 'marital_status', 'job_position', 'tariff_id', 'education', 'living_region'], axis = 1)"
   ]
  },
  {
   "cell_type": "code",
   "execution_count": null,
   "metadata": {},
   "outputs": [],
   "source": [
    "df4_numeric.head()"
   ]
  },
  {
   "cell_type": "code",
   "execution_count": null,
   "metadata": {},
   "outputs": [],
   "source": [
    "sns.countplot(df4_numeric['overdue_credit_count']);"
   ]
  },
  {
   "cell_type": "code",
   "execution_count": null,
   "metadata": {},
   "outputs": [],
   "source": [
    "uniform_data = np.random.rand(10, 12)\n",
    "ax = sns.heatmap(uniform_data, vmin=-1, vmax=1)"
   ]
  },
  {
   "cell_type": "code",
   "execution_count": null,
   "metadata": {},
   "outputs": [],
   "source": [
    "uniform_data.head()"
   ]
  },
  {
   "cell_type": "code",
   "execution_count": null,
   "metadata": {},
   "outputs": [],
   "source": [
    "sns.heatmap?"
   ]
  },
  {
   "cell_type": "code",
   "execution_count": null,
   "metadata": {},
   "outputs": [],
   "source": [
    "cr_df2_numeric = cr_df2.drop(['gender', 'marital_status', 'job_position', 'tariff_id', 'education', 'living_region'], axis = 1)"
   ]
  },
  {
   "cell_type": "code",
   "execution_count": null,
   "metadata": {},
   "outputs": [],
   "source": [
    "#Посмотрим на корреляцию признаков в исходном датафрейме cr_df2, используем корреляцию Спирмена т.к. в наших данных есть выбросы и нужно нивелировать их воздействие.\n",
    "sns.heatmap(data = cr_df2_numeric.corr(method = 'spearman'));"
   ]
  },
  {
   "cell_type": "code",
   "execution_count": null,
   "metadata": {},
   "outputs": [],
   "source": [
    "sns.jointplot(x = cr_df2['monthly_income'], y = cr_df2['credit_sum'], kind = 'kde');"
   ]
  },
  {
   "cell_type": "code",
   "execution_count": null,
   "metadata": {},
   "outputs": [],
   "source": [
    "sns.heatmap(data = df4_numeric.corr(method = 'pearson'));"
   ]
  },
  {
   "cell_type": "code",
   "execution_count": null,
   "metadata": {},
   "outputs": [],
   "source": [
    "sns.jointplot(x = df4['monthly_income'], y = df4['credit_sum'], kind = 'kde');"
   ]
  },
  {
   "cell_type": "code",
   "execution_count": null,
   "metadata": {},
   "outputs": [],
   "source": [
    "sns.jointplot(x = df4['monthly_income'], y = df4['score_shk'], kind = 'kde');"
   ]
  },
  {
   "cell_type": "code",
   "execution_count": null,
   "metadata": {},
   "outputs": [],
   "source": [
    "sns.jointplot(x = df4['age'], y = df4['credit_sum'], kind = 'kde');"
   ]
  },
  {
   "cell_type": "code",
   "execution_count": null,
   "metadata": {},
   "outputs": [],
   "source": [
    "sns.hist(df4['score_shk']);"
   ]
  },
  {
   "cell_type": "code",
   "execution_count": null,
   "metadata": {},
   "outputs": [],
   "source": [
    "#В России всего 85 субъектов, таким образом количество уникальных значений в столбце living_region не должно превышать 85. \n",
    "#Проверим, 301 уникальное значение, с этим необходимо поработать.\n",
    "cr_df2['living_region'].nunique()"
   ]
  },
  {
   "cell_type": "code",
   "execution_count": null,
   "metadata": {},
   "outputs": [],
   "source": [
    "#Увеличим количество отображаемых строк\n",
    "pd.options.display.max_rows = 310"
   ]
  },
  {
   "cell_type": "code",
   "execution_count": null,
   "metadata": {},
   "outputs": [],
   "source": [
    "regions = cr_df2['living_region'].unique()"
   ]
  },
  {
   "cell_type": "code",
   "execution_count": null,
   "metadata": {},
   "outputs": [],
   "source": [
    "type(regions)"
   ]
  },
  {
   "cell_type": "code",
   "execution_count": null,
   "metadata": {},
   "outputs": [],
   "source": [
    "regions = pd.Series(data=regions)"
   ]
  },
  {
   "cell_type": "code",
   "execution_count": null,
   "metadata": {},
   "outputs": [],
   "source": [
    "type(regions)"
   ]
  },
  {
   "cell_type": "code",
   "execution_count": null,
   "metadata": {},
   "outputs": [],
   "source": [
    "print(regions)"
   ]
  },
  {
   "cell_type": "code",
   "execution_count": null,
   "metadata": {},
   "outputs": [],
   "source": [
    "import re\n",
    "x = re.sub('[.,]+', ' ', str(regions))"
   ]
  },
  {
   "cell_type": "code",
   "execution_count": null,
   "metadata": {},
   "outputs": [],
   "source": [
    "data_without_outliers = df_copy[(df_copy['age']< 65.5)&(df_copy['credit_sum']<57808)\n",
    "                                & (df_copy['monthly_income']>87500)&(df_copy['credit_count']<6)\n",
    "                                &(df_copy['overdue_credit_count'] == 0)]"
   ]
  },
  {
   "cell_type": "code",
   "execution_count": null,
   "metadata": {},
   "outputs": [],
   "source": [
    "data_without_outliers = df_copy["
   ]
  },
  {
   "cell_type": "code",
   "execution_count": null,
   "metadata": {},
   "outputs": [],
   "source": []
  },
  {
   "cell_type": "code",
   "execution_count": null,
   "metadata": {},
   "outputs": [],
   "source": []
  },
  {
   "cell_type": "code",
   "execution_count": null,
   "metadata": {},
   "outputs": [],
   "source": [
    "clean_credit_sum = pd.DataFrame(cr_df['credit_sum'].fillna(cr_df['credit_sum'].median()))"
   ]
  },
  {
   "cell_type": "code",
   "execution_count": null,
   "metadata": {},
   "outputs": [],
   "source": [
    "clean_credit_sum.head()"
   ]
  },
  {
   "cell_type": "code",
   "execution_count": null,
   "metadata": {},
   "outputs": [],
   "source": [
    "sns.boxplot(clean_credit_sum);"
   ]
  },
  {
   "cell_type": "code",
   "execution_count": null,
   "metadata": {},
   "outputs": [],
   "source": [
    "quartiles(clean_credit_sum)"
   ]
  },
  {
   "cell_type": "code",
   "execution_count": null,
   "metadata": {},
   "outputs": [],
   "source": [
    "cr_df = cr_df[cr_df['credit_sum']>57909.0]"
   ]
  },
  {
   "cell_type": "code",
   "execution_count": null,
   "metadata": {},
   "outputs": [],
   "source": [
    "cr_df.info()"
   ]
  },
  {
   "cell_type": "code",
   "execution_count": null,
   "metadata": {},
   "outputs": [],
   "source": [
    "df_copy[df_copy['monthly_income']>87500].count()"
   ]
  },
  {
   "cell_type": "code",
   "execution_count": null,
   "metadata": {},
   "outputs": [],
   "source": []
  }
 ],
 "metadata": {
  "kernelspec": {
   "display_name": "Python 3",
   "language": "python",
   "name": "python3"
  },
  "language_info": {
   "codemirror_mode": {
    "name": "ipython",
    "version": 3
   },
   "file_extension": ".py",
   "mimetype": "text/x-python",
   "name": "python",
   "nbconvert_exporter": "python",
   "pygments_lexer": "ipython3",
   "version": "3.7.4"
  }
 },
 "nbformat": 4,
 "nbformat_minor": 2
}
